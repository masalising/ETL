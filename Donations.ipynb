{
 "cells": [
  {
   "cell_type": "code",
   "execution_count": 1,
   "id": "bc44e395-1557-473f-920d-0af1eaf132d7",
   "metadata": {
    "tags": []
   },
   "outputs": [],
   "source": [
    "import pandas as pd\n",
    "import glob\n",
    "import numpy as np\n",
    "import re\n",
    "# Import the tabulate library\n",
    "from tabulate import tabulate\n",
    "from uszipcode import SearchEngine\n",
    "import concurrent.futures"
   ]
  },
  {
   "cell_type": "code",
   "execution_count": 2,
   "id": "2b472c5c-ef01-4a95-a700-61d4d6ab9bda",
   "metadata": {
    "tags": []
   },
   "outputs": [],
   "source": [
    "# Load dataset\n",
    "file_paths = glob.glob('C:/Users/SANTIAGO/OneDrive - Nova Scotia Community College/4 Winter Semester 2024/DBAS 3018 Data Movement and Integration/Assignment 2/Datasets/Revised Dataset/Bike Donations/*.csv')\n",
    "\n",
    "# Read each csv file\n",
    "dataframes = [pd.read_csv(file, low_memory=False) for file in file_paths]\n",
    "\n",
    "# Combine csv files into one\n",
    "donations_df = pd.concat(dataframes, ignore_index=True)"
   ]
  },
  {
   "cell_type": "code",
   "execution_count": 3,
   "id": "ce6fb6b9-c9e8-4180-85b4-b9284afec5bb",
   "metadata": {
    "tags": []
   },
   "outputs": [
    {
     "data": {
      "text/plain": [
       "'3,807,376'"
      ]
     },
     "execution_count": 3,
     "metadata": {},
     "output_type": "execute_result"
    }
   ],
   "source": [
    "shape = donations_df.shape[0]\n",
    "count = '{:,}'.format(shape)\n",
    "count"
   ]
  },
  {
   "cell_type": "code",
   "execution_count": 4,
   "id": "8e7d9faf-ea2c-4f81-9565-ec2617383cc4",
   "metadata": {
    "tags": []
   },
   "outputs": [
    {
     "data": {
      "text/html": [
       "<div>\n",
       "<style scoped>\n",
       "    .dataframe tbody tr th:only-of-type {\n",
       "        vertical-align: middle;\n",
       "    }\n",
       "\n",
       "    .dataframe tbody tr th {\n",
       "        vertical-align: top;\n",
       "    }\n",
       "\n",
       "    .dataframe thead th {\n",
       "        text-align: right;\n",
       "    }\n",
       "</style>\n",
       "<table border=\"1\" class=\"dataframe\">\n",
       "  <thead>\n",
       "    <tr style=\"text-align: right;\">\n",
       "      <th></th>\n",
       "      <th>Security Category Name</th>\n",
       "      <th>Event ID</th>\n",
       "      <th>Public Event Name</th>\n",
       "      <th>Fiscal Year</th>\n",
       "      <th>Event Date</th>\n",
       "      <th>Campaign Title</th>\n",
       "      <th>Campaign ID</th>\n",
       "      <th>Gift Amount($)</th>\n",
       "      <th>Date Recorded</th>\n",
       "      <th>Gift Type</th>\n",
       "      <th>...</th>\n",
       "      <th>Team Creation Date</th>\n",
       "      <th>Original Value Transacted</th>\n",
       "      <th>Net Transaction Amount</th>\n",
       "      <th>Ledger Transaction Amount</th>\n",
       "      <th>Proxy Type</th>\n",
       "      <th>User Confirmation Code</th>\n",
       "      <th>Source Code Type</th>\n",
       "      <th>Source Code Text</th>\n",
       "      <th>Sub Source Code Text</th>\n",
       "      <th>Batch ID</th>\n",
       "    </tr>\n",
       "  </thead>\n",
       "  <tbody>\n",
       "    <tr>\n",
       "      <th>0</th>\n",
       "      <td>ALC Bike Events</td>\n",
       "      <td>17966</td>\n",
       "      <td>2012 Bike MS: Bike to the Battlefield</td>\n",
       "      <td>2013</td>\n",
       "      <td>10/6/2012 11:22</td>\n",
       "      <td>ALC 2012 Bike MS North Alabama</td>\n",
       "      <td>32881</td>\n",
       "      <td>100.0</td>\n",
       "      <td>9/14/2012 17:34</td>\n",
       "      <td>online</td>\n",
       "      <td>...</td>\n",
       "      <td>9/2/2012 18:40</td>\n",
       "      <td>100.0</td>\n",
       "      <td>100</td>\n",
       "      <td>100</td>\n",
       "      <td>TeamRaiser Participant</td>\n",
       "      <td>1638-32881-1-10783905-11126873</td>\n",
       "      <td>Web Link</td>\n",
       "      <td>boundlessfundraising</td>\n",
       "      <td>bfstream</td>\n",
       "      <td>NaN</td>\n",
       "    </tr>\n",
       "    <tr>\n",
       "      <th>1</th>\n",
       "      <td>ALC Bike Events</td>\n",
       "      <td>17966</td>\n",
       "      <td>2012 Bike MS: Bike to the Battlefield</td>\n",
       "      <td>2013</td>\n",
       "      <td>10/6/2012 11:22</td>\n",
       "      <td>ALC 2012 Bike MS North Alabama</td>\n",
       "      <td>32881</td>\n",
       "      <td>50.0</td>\n",
       "      <td>9/21/2012 14:10</td>\n",
       "      <td>online</td>\n",
       "      <td>...</td>\n",
       "      <td>9/2/2012 18:40</td>\n",
       "      <td>50.0</td>\n",
       "      <td>50</td>\n",
       "      <td>50</td>\n",
       "      <td>TeamRaiser Participant</td>\n",
       "      <td>1638-32881-1-10829724-11174780</td>\n",
       "      <td>Web Link</td>\n",
       "      <td>boundlessfundraising</td>\n",
       "      <td>bfstream</td>\n",
       "      <td>NaN</td>\n",
       "    </tr>\n",
       "    <tr>\n",
       "      <th>2</th>\n",
       "      <td>ALC Bike Events</td>\n",
       "      <td>17966</td>\n",
       "      <td>2012 Bike MS: Bike to the Battlefield</td>\n",
       "      <td>2013</td>\n",
       "      <td>10/6/2012 11:22</td>\n",
       "      <td>ALC 2012 Bike MS North Alabama</td>\n",
       "      <td>32881</td>\n",
       "      <td>25.0</td>\n",
       "      <td>9/21/2012 10:43</td>\n",
       "      <td>online</td>\n",
       "      <td>...</td>\n",
       "      <td>9/2/2012 18:40</td>\n",
       "      <td>25.0</td>\n",
       "      <td>25</td>\n",
       "      <td>25</td>\n",
       "      <td>TeamRaiser Participant</td>\n",
       "      <td>1638-32881-1-10827256-11172221</td>\n",
       "      <td>Web Link</td>\n",
       "      <td>boundlessfundraising</td>\n",
       "      <td>bfstream</td>\n",
       "      <td>NaN</td>\n",
       "    </tr>\n",
       "    <tr>\n",
       "      <th>3</th>\n",
       "      <td>ALC Bike Events</td>\n",
       "      <td>17966</td>\n",
       "      <td>2012 Bike MS: Bike to the Battlefield</td>\n",
       "      <td>2013</td>\n",
       "      <td>10/6/2012 11:22</td>\n",
       "      <td>ALC 2012 Bike Clinton</td>\n",
       "      <td>32494</td>\n",
       "      <td>70.0</td>\n",
       "      <td>10/2/2012 15:58</td>\n",
       "      <td>online</td>\n",
       "      <td>...</td>\n",
       "      <td>2/29/2012 15:57</td>\n",
       "      <td>70.0</td>\n",
       "      <td>70</td>\n",
       "      <td>70</td>\n",
       "      <td>TeamRaiser Participant</td>\n",
       "      <td>1638-32494-1-10893149-11241474</td>\n",
       "      <td>6</td>\n",
       "      <td>36ohk6dgmcd1n-c.c.yom.mail.yahoo.net</td>\n",
       "      <td>/om/api/1.0/openmail.app.invoke/36ohk6dgmcd1n/...</td>\n",
       "      <td>NaN</td>\n",
       "    </tr>\n",
       "    <tr>\n",
       "      <th>4</th>\n",
       "      <td>ALC Bike Events</td>\n",
       "      <td>17966</td>\n",
       "      <td>2012 Bike MS: Bike to the Battlefield</td>\n",
       "      <td>2013</td>\n",
       "      <td>10/6/2012 11:22</td>\n",
       "      <td>ALC 2012 Bike MS North Alabama</td>\n",
       "      <td>32881</td>\n",
       "      <td>25.0</td>\n",
       "      <td>8/17/2012 14:15</td>\n",
       "      <td>online</td>\n",
       "      <td>...</td>\n",
       "      <td>2/29/2012 15:57</td>\n",
       "      <td>25.0</td>\n",
       "      <td>25</td>\n",
       "      <td>25</td>\n",
       "      <td>TeamRaiser Participant</td>\n",
       "      <td>1638-32881-1-10610796-10946043</td>\n",
       "      <td>Web Link</td>\n",
       "      <td>boundlessfundraising</td>\n",
       "      <td>bfstream</td>\n",
       "      <td>NaN</td>\n",
       "    </tr>\n",
       "  </tbody>\n",
       "</table>\n",
       "<p>5 rows × 49 columns</p>\n",
       "</div>"
      ],
      "text/plain": [
       "  Security Category Name Event ID                      Public Event Name  \\\n",
       "0        ALC Bike Events    17966  2012 Bike MS: Bike to the Battlefield   \n",
       "1        ALC Bike Events    17966  2012 Bike MS: Bike to the Battlefield   \n",
       "2        ALC Bike Events    17966  2012 Bike MS: Bike to the Battlefield   \n",
       "3        ALC Bike Events    17966  2012 Bike MS: Bike to the Battlefield   \n",
       "4        ALC Bike Events    17966  2012 Bike MS: Bike to the Battlefield   \n",
       "\n",
       "  Fiscal Year       Event Date                  Campaign Title Campaign ID  \\\n",
       "0        2013  10/6/2012 11:22  ALC 2012 Bike MS North Alabama       32881   \n",
       "1        2013  10/6/2012 11:22  ALC 2012 Bike MS North Alabama       32881   \n",
       "2        2013  10/6/2012 11:22  ALC 2012 Bike MS North Alabama       32881   \n",
       "3        2013  10/6/2012 11:22           ALC 2012 Bike Clinton       32494   \n",
       "4        2013  10/6/2012 11:22  ALC 2012 Bike MS North Alabama       32881   \n",
       "\n",
       "  Gift Amount($)    Date Recorded Gift Type  ... Team Creation Date  \\\n",
       "0          100.0  9/14/2012 17:34    online  ...     9/2/2012 18:40   \n",
       "1           50.0  9/21/2012 14:10    online  ...     9/2/2012 18:40   \n",
       "2           25.0  9/21/2012 10:43    online  ...     9/2/2012 18:40   \n",
       "3           70.0  10/2/2012 15:58    online  ...    2/29/2012 15:57   \n",
       "4           25.0  8/17/2012 14:15    online  ...    2/29/2012 15:57   \n",
       "\n",
       "  Original Value Transacted Net Transaction Amount Ledger Transaction Amount  \\\n",
       "0                     100.0                    100                       100   \n",
       "1                      50.0                     50                        50   \n",
       "2                      25.0                     25                        25   \n",
       "3                      70.0                     70                        70   \n",
       "4                      25.0                     25                        25   \n",
       "\n",
       "               Proxy Type          User Confirmation Code Source Code Type  \\\n",
       "0  TeamRaiser Participant  1638-32881-1-10783905-11126873         Web Link   \n",
       "1  TeamRaiser Participant  1638-32881-1-10829724-11174780         Web Link   \n",
       "2  TeamRaiser Participant  1638-32881-1-10827256-11172221         Web Link   \n",
       "3  TeamRaiser Participant  1638-32494-1-10893149-11241474                6   \n",
       "4  TeamRaiser Participant  1638-32881-1-10610796-10946043         Web Link   \n",
       "\n",
       "                       Source Code Text  \\\n",
       "0                  boundlessfundraising   \n",
       "1                  boundlessfundraising   \n",
       "2                  boundlessfundraising   \n",
       "3  36ohk6dgmcd1n-c.c.yom.mail.yahoo.net   \n",
       "4                  boundlessfundraising   \n",
       "\n",
       "                                Sub Source Code Text Batch ID  \n",
       "0                                           bfstream      NaN  \n",
       "1                                           bfstream      NaN  \n",
       "2                                           bfstream      NaN  \n",
       "3  /om/api/1.0/openmail.app.invoke/36ohk6dgmcd1n/...      NaN  \n",
       "4                                           bfstream      NaN  \n",
       "\n",
       "[5 rows x 49 columns]"
      ]
     },
     "execution_count": 4,
     "metadata": {},
     "output_type": "execute_result"
    }
   ],
   "source": [
    "donations_df.head()"
   ]
  },
  {
   "cell_type": "code",
   "execution_count": 5,
   "id": "e05c2723-11e4-4d6f-af23-0b6b9dcc98ab",
   "metadata": {
    "tags": []
   },
   "outputs": [
    {
     "data": {
      "text/html": [
       "<div>\n",
       "<style scoped>\n",
       "    .dataframe tbody tr th:only-of-type {\n",
       "        vertical-align: middle;\n",
       "    }\n",
       "\n",
       "    .dataframe tbody tr th {\n",
       "        vertical-align: top;\n",
       "    }\n",
       "\n",
       "    .dataframe thead th {\n",
       "        text-align: right;\n",
       "    }\n",
       "</style>\n",
       "<table border=\"1\" class=\"dataframe\">\n",
       "  <thead>\n",
       "    <tr style=\"text-align: right;\">\n",
       "      <th></th>\n",
       "      <th>Column</th>\n",
       "      <th>Data_Type</th>\n",
       "      <th>Max_Character_Length</th>\n",
       "      <th>Null_Value_Count</th>\n",
       "      <th>Null_Percentage</th>\n",
       "      <th>Distinct_Value_Count</th>\n",
       "      <th>Min_Value</th>\n",
       "      <th>Max_Value</th>\n",
       "      <th>Average</th>\n",
       "      <th>Sample_Values</th>\n",
       "    </tr>\n",
       "  </thead>\n",
       "  <tbody>\n",
       "    <tr>\n",
       "      <th>0</th>\n",
       "      <td>Security Category Name</td>\n",
       "      <td>object</td>\n",
       "      <td>25</td>\n",
       "      <td>0</td>\n",
       "      <td>0.00%</td>\n",
       "      <td>162</td>\n",
       "      <td>NaN</td>\n",
       "      <td>NaN</td>\n",
       "      <td>NaN</td>\n",
       "      <td>[MNM Bike Events, MIG Bike Events, COC Bike Events, MNM Bike Events, NYN Bike Events]</td>\n",
       "    </tr>\n",
       "    <tr>\n",
       "      <th>1</th>\n",
       "      <td>Event ID</td>\n",
       "      <td>object</td>\n",
       "      <td>38</td>\n",
       "      <td>0</td>\n",
       "      <td>0.00%</td>\n",
       "      <td>508</td>\n",
       "      <td>NaN</td>\n",
       "      <td>NaN</td>\n",
       "      <td>NaN</td>\n",
       "      <td>[28263, 22278, 18743, 27003, 25223]</td>\n",
       "    </tr>\n",
       "    <tr>\n",
       "      <th>2</th>\n",
       "      <td>Public Event Name</td>\n",
       "      <td>object</td>\n",
       "      <td>104</td>\n",
       "      <td>0</td>\n",
       "      <td>0.00%</td>\n",
       "      <td>510</td>\n",
       "      <td>NaN</td>\n",
       "      <td>NaN</td>\n",
       "      <td>NaN</td>\n",
       "      <td>[Bike MS: Willamette Valley 2016, Bike MS: Willamette Valley 2015, Bike MS: Colorado 2017 powered locally by Anthem, New Jersey, Cherry Hill  Bike MS: City to Shore 2014, Bike MS: Cape Cod Getaway 2017]</td>\n",
       "    </tr>\n",
       "    <tr>\n",
       "      <th>3</th>\n",
       "      <td>Fiscal Year</td>\n",
       "      <td>object</td>\n",
       "      <td>19</td>\n",
       "      <td>0</td>\n",
       "      <td>0.00%</td>\n",
       "      <td>9</td>\n",
       "      <td>NaN</td>\n",
       "      <td>NaN</td>\n",
       "      <td>NaN</td>\n",
       "      <td>[2016, 2013, 2016, 2013, 2016]</td>\n",
       "    </tr>\n",
       "    <tr>\n",
       "      <th>4</th>\n",
       "      <td>Event Date</td>\n",
       "      <td>object</td>\n",
       "      <td>26</td>\n",
       "      <td>42</td>\n",
       "      <td>0.00%</td>\n",
       "      <td>494</td>\n",
       "      <td>NaN</td>\n",
       "      <td>NaN</td>\n",
       "      <td>NaN</td>\n",
       "      <td>[4/20/2013 12:05, 4/16/2016 13:18, 6/29/2013 8:42, 4/12/2014 16:41, 9/12/2015 13:32]</td>\n",
       "    </tr>\n",
       "    <tr>\n",
       "      <th>5</th>\n",
       "      <td>Campaign Title</td>\n",
       "      <td>object</td>\n",
       "      <td>70</td>\n",
       "      <td>0</td>\n",
       "      <td>0.00%</td>\n",
       "      <td>296</td>\n",
       "      <td>NaN</td>\n",
       "      <td>NaN</td>\n",
       "      <td>NaN</td>\n",
       "      <td>[NYN 2012 Bike MS New York City, ORC Bike Donation Campaign, CTN Bike Donation Campaign, Bike MS: Breakaway to the Beach 2014, Texas, Houston - 2014 BP MS 150]</td>\n",
       "    </tr>\n",
       "    <tr>\n",
       "      <th>6</th>\n",
       "      <td>Campaign ID</td>\n",
       "      <td>object</td>\n",
       "      <td>9</td>\n",
       "      <td>0</td>\n",
       "      <td>0.00%</td>\n",
       "      <td>328</td>\n",
       "      <td>NaN</td>\n",
       "      <td>NaN</td>\n",
       "      <td>NaN</td>\n",
       "      <td>[44959, 35592, 35352, 38872, 35352]</td>\n",
       "    </tr>\n",
       "    <tr>\n",
       "      <th>7</th>\n",
       "      <td>Gift Amount($)</td>\n",
       "      <td>object</td>\n",
       "      <td>17</td>\n",
       "      <td>0</td>\n",
       "      <td>0.00%</td>\n",
       "      <td>17,516</td>\n",
       "      <td>NaN</td>\n",
       "      <td>NaN</td>\n",
       "      <td>NaN</td>\n",
       "      <td>[35, 100, 50, 15, 50.0]</td>\n",
       "    </tr>\n",
       "    <tr>\n",
       "      <th>8</th>\n",
       "      <td>Date Recorded</td>\n",
       "      <td>object</td>\n",
       "      <td>23</td>\n",
       "      <td>0</td>\n",
       "      <td>0.00%</td>\n",
       "      <td>1,382,882</td>\n",
       "      <td>NaN</td>\n",
       "      <td>NaN</td>\n",
       "      <td>NaN</td>\n",
       "      <td>[2/13/2013 21:24, 9/10/2016 16:34, 8/15/2015 8:20, 5/26/2015 12:33, 7/7/2014 20:14]</td>\n",
       "    </tr>\n",
       "    <tr>\n",
       "      <th>9</th>\n",
       "      <td>Gift Type</td>\n",
       "      <td>object</td>\n",
       "      <td>11</td>\n",
       "      <td>0</td>\n",
       "      <td>0.00%</td>\n",
       "      <td>8</td>\n",
       "      <td>NaN</td>\n",
       "      <td>NaN</td>\n",
       "      <td>NaN</td>\n",
       "      <td>[offline, online, online, online, offline]</td>\n",
       "    </tr>\n",
       "    <tr>\n",
       "      <th>10</th>\n",
       "      <td>Gift Payment Method</td>\n",
       "      <td>object</td>\n",
       "      <td>11</td>\n",
       "      <td>5</td>\n",
       "      <td>0.00%</td>\n",
       "      <td>5</td>\n",
       "      <td>NaN</td>\n",
       "      <td>NaN</td>\n",
       "      <td>NaN</td>\n",
       "      <td>[Credit Card, Credit Card, Cash, Credit Card, Credit Card]</td>\n",
       "    </tr>\n",
       "    <tr>\n",
       "      <th>11</th>\n",
       "      <td>Offline Status</td>\n",
       "      <td>object</td>\n",
       "      <td>28</td>\n",
       "      <td>3,026,552</td>\n",
       "      <td>79.49%</td>\n",
       "      <td>5</td>\n",
       "      <td>NaN</td>\n",
       "      <td>NaN</td>\n",
       "      <td>NaN</td>\n",
       "      <td>[confirmed, confirmed, confirmed, confirmed, confirmed]</td>\n",
       "    </tr>\n",
       "    <tr>\n",
       "      <th>12</th>\n",
       "      <td>Soft Credit Type</td>\n",
       "      <td>object</td>\n",
       "      <td>27</td>\n",
       "      <td>0</td>\n",
       "      <td>0.00%</td>\n",
       "      <td>8</td>\n",
       "      <td>NaN</td>\n",
       "      <td>NaN</td>\n",
       "      <td>NaN</td>\n",
       "      <td>[Teamraiser Participant Gift, Teamraiser Participant Gift, Teamraiser Participant Gift, Teamraiser Participant Gift, Teamraiser Participant Gift]</td>\n",
       "    </tr>\n",
       "    <tr>\n",
       "      <th>13</th>\n",
       "      <td>Is Registration?</td>\n",
       "      <td>object</td>\n",
       "      <td>8</td>\n",
       "      <td>0</td>\n",
       "      <td>0.00%</td>\n",
       "      <td>15</td>\n",
       "      <td>NaN</td>\n",
       "      <td>NaN</td>\n",
       "      <td>NaN</td>\n",
       "      <td>[TRUE, FALSE, FALSE, FALSE, FALSE]</td>\n",
       "    </tr>\n",
       "    <tr>\n",
       "      <th>14</th>\n",
       "      <td>Donor ConsID</td>\n",
       "      <td>object</td>\n",
       "      <td>17</td>\n",
       "      <td>1</td>\n",
       "      <td>0.00%</td>\n",
       "      <td>2,424,215</td>\n",
       "      <td>NaN</td>\n",
       "      <td>NaN</td>\n",
       "      <td>NaN</td>\n",
       "      <td>[2553411, 13475528, 1780884.0, 5525365, 11715847]</td>\n",
       "    </tr>\n",
       "    <tr>\n",
       "      <th>15</th>\n",
       "      <td>Donor Member ID</td>\n",
       "      <td>object</td>\n",
       "      <td>16</td>\n",
       "      <td>4,929</td>\n",
       "      <td>0.13%</td>\n",
       "      <td>1,951,044</td>\n",
       "      <td>NaN</td>\n",
       "      <td>NaN</td>\n",
       "      <td>NaN</td>\n",
       "      <td>[61749506, 90725043, 80058774, 82011789, 48892054]</td>\n",
       "    </tr>\n",
       "    <tr>\n",
       "      <th>16</th>\n",
       "      <td>Donor Affiliate Code</td>\n",
       "      <td>object</td>\n",
       "      <td>12</td>\n",
       "      <td>15,082</td>\n",
       "      <td>0.40%</td>\n",
       "      <td>71</td>\n",
       "      <td>NaN</td>\n",
       "      <td>NaN</td>\n",
       "      <td>NaN</td>\n",
       "      <td>[MOS, MNM, PAE, NJM, NCT]</td>\n",
       "    </tr>\n",
       "    <tr>\n",
       "      <th>17</th>\n",
       "      <td>Donor Gender</td>\n",
       "      <td>object</td>\n",
       "      <td>6</td>\n",
       "      <td>483,829</td>\n",
       "      <td>12.71%</td>\n",
       "      <td>11</td>\n",
       "      <td>NaN</td>\n",
       "      <td>NaN</td>\n",
       "      <td>NaN</td>\n",
       "      <td>[Female, Female, Male, Male, Male]</td>\n",
       "    </tr>\n",
       "    <tr>\n",
       "      <th>18</th>\n",
       "      <td>Donor Accept Email</td>\n",
       "      <td>object</td>\n",
       "      <td>21</td>\n",
       "      <td>977</td>\n",
       "      <td>0.03%</td>\n",
       "      <td>13</td>\n",
       "      <td>NaN</td>\n",
       "      <td>NaN</td>\n",
       "      <td>NaN</td>\n",
       "      <td>[TRUE, TRUE, FALSE, FALSE, False]</td>\n",
       "    </tr>\n",
       "    <tr>\n",
       "      <th>19</th>\n",
       "      <td>Donor Opt-out Date</td>\n",
       "      <td>object</td>\n",
       "      <td>32</td>\n",
       "      <td>1,955,163</td>\n",
       "      <td>51.35%</td>\n",
       "      <td>595,257</td>\n",
       "      <td>NaN</td>\n",
       "      <td>NaN</td>\n",
       "      <td>NaN</td>\n",
       "      <td>[7/12/2017 7:26, 5/19/2015 8:09, 4/10/2013 0:41, 2/4/2015 9:26, 8/4/2015 22:32]</td>\n",
       "    </tr>\n",
       "    <tr>\n",
       "      <th>20</th>\n",
       "      <td>Donor Opt-out Method</td>\n",
       "      <td>object</td>\n",
       "      <td>20</td>\n",
       "      <td>1,946,009</td>\n",
       "      <td>51.11%</td>\n",
       "      <td>12</td>\n",
       "      <td>NaN</td>\n",
       "      <td>NaN</td>\n",
       "      <td>NaN</td>\n",
       "      <td>[Unsubscribe Link, Unsubscribe Link, Data Sync, Constituent Update, Unsubscribe Link]</td>\n",
       "    </tr>\n",
       "    <tr>\n",
       "      <th>21</th>\n",
       "      <td>Donor Email Status</td>\n",
       "      <td>object</td>\n",
       "      <td>17</td>\n",
       "      <td>208,621</td>\n",
       "      <td>5.48%</td>\n",
       "      <td>26</td>\n",
       "      <td>NaN</td>\n",
       "      <td>NaN</td>\n",
       "      <td>NaN</td>\n",
       "      <td>[Bad (Hard Bounce), Good, Good, Good, Good]</td>\n",
       "    </tr>\n",
       "    <tr>\n",
       "      <th>22</th>\n",
       "      <td>Donor City</td>\n",
       "      <td>object</td>\n",
       "      <td>32</td>\n",
       "      <td>982</td>\n",
       "      <td>0.03%</td>\n",
       "      <td>32,590</td>\n",
       "      <td>NaN</td>\n",
       "      <td>NaN</td>\n",
       "      <td>NaN</td>\n",
       "      <td>[Cottageville, Bellmawr, Blackstone, Forney, San Antonio]</td>\n",
       "    </tr>\n",
       "    <tr>\n",
       "      <th>23</th>\n",
       "      <td>Donor State</td>\n",
       "      <td>object</td>\n",
       "      <td>18</td>\n",
       "      <td>26,317</td>\n",
       "      <td>0.69%</td>\n",
       "      <td>157</td>\n",
       "      <td>NaN</td>\n",
       "      <td>NaN</td>\n",
       "      <td>NaN</td>\n",
       "      <td>[TX, PA, PA, CA, CA]</td>\n",
       "    </tr>\n",
       "    <tr>\n",
       "      <th>24</th>\n",
       "      <td>Donor County</td>\n",
       "      <td>object</td>\n",
       "      <td>35</td>\n",
       "      <td>74,047</td>\n",
       "      <td>1.94%</td>\n",
       "      <td>1,943</td>\n",
       "      <td>NaN</td>\n",
       "      <td>NaN</td>\n",
       "      <td>NaN</td>\n",
       "      <td>[Travis, Middlesex, Lafayette, Dallas, Los Angeles]</td>\n",
       "    </tr>\n",
       "    <tr>\n",
       "      <th>25</th>\n",
       "      <td>Donor ZIP</td>\n",
       "      <td>object</td>\n",
       "      <td>41</td>\n",
       "      <td>1,007</td>\n",
       "      <td>0.03%</td>\n",
       "      <td>52,666</td>\n",
       "      <td>NaN</td>\n",
       "      <td>NaN</td>\n",
       "      <td>NaN</td>\n",
       "      <td>[77429, 77024, 84065, 29223, 10024]</td>\n",
       "    </tr>\n",
       "    <tr>\n",
       "      <th>26</th>\n",
       "      <td>Donor Employer</td>\n",
       "      <td>object</td>\n",
       "      <td>85</td>\n",
       "      <td>3,031,472</td>\n",
       "      <td>79.62%</td>\n",
       "      <td>103,087</td>\n",
       "      <td>NaN</td>\n",
       "      <td>NaN</td>\n",
       "      <td>NaN</td>\n",
       "      <td>[Apache Corporation, Drury Hotels LLC, Bank Of The West Employee Giving Program, NISD, Community Choice, Inc.]</td>\n",
       "    </tr>\n",
       "    <tr>\n",
       "      <th>27</th>\n",
       "      <td>Donor Connection to MS</td>\n",
       "      <td>object</td>\n",
       "      <td>39</td>\n",
       "      <td>2,028,908</td>\n",
       "      <td>53.29%</td>\n",
       "      <td>63</td>\n",
       "      <td>NaN</td>\n",
       "      <td>NaN</td>\n",
       "      <td>NaN</td>\n",
       "      <td>[Friend has MS, Relative has MS, Other, Relative has MS, I have MS]</td>\n",
       "    </tr>\n",
       "    <tr>\n",
       "      <th>28</th>\n",
       "      <td>Participant Contact ID</td>\n",
       "      <td>float64</td>\n",
       "      <td>None</td>\n",
       "      <td>42,369</td>\n",
       "      <td>1.11%</td>\n",
       "      <td>219,655</td>\n",
       "      <td>1566043.0</td>\n",
       "      <td>91174462.0</td>\n",
       "      <td>9.583951e+06</td>\n",
       "      <td>[1970801.0, 9244341.0, 16046392.0, 13578906.0, 3825925.0]</td>\n",
       "    </tr>\n",
       "    <tr>\n",
       "      <th>29</th>\n",
       "      <td>Participant Member ID</td>\n",
       "      <td>object</td>\n",
       "      <td>47</td>\n",
       "      <td>47,053</td>\n",
       "      <td>1.24%</td>\n",
       "      <td>218,972</td>\n",
       "      <td>NaN</td>\n",
       "      <td>NaN</td>\n",
       "      <td>NaN</td>\n",
       "      <td>[80735818, 85373526, 80322236, 75832798, 90300063]</td>\n",
       "    </tr>\n",
       "    <tr>\n",
       "      <th>30</th>\n",
       "      <td>Participation Type Name</td>\n",
       "      <td>object</td>\n",
       "      <td>87</td>\n",
       "      <td>43,824</td>\n",
       "      <td>1.15%</td>\n",
       "      <td>467</td>\n",
       "      <td>NaN</td>\n",
       "      <td>NaN</td>\n",
       "      <td>NaN</td>\n",
       "      <td>[Cyclist, Cyclist, Cyclist, Cyclist, Cyclist, No Housing Required]</td>\n",
       "    </tr>\n",
       "    <tr>\n",
       "      <th>31</th>\n",
       "      <td>Registration Active Status</td>\n",
       "      <td>object</td>\n",
       "      <td>21</td>\n",
       "      <td>43,824</td>\n",
       "      <td>1.15%</td>\n",
       "      <td>36</td>\n",
       "      <td>NaN</td>\n",
       "      <td>NaN</td>\n",
       "      <td>NaN</td>\n",
       "      <td>[Active, Active, Active, Active, Active]</td>\n",
       "    </tr>\n",
       "    <tr>\n",
       "      <th>32</th>\n",
       "      <td>Registration Date</td>\n",
       "      <td>object</td>\n",
       "      <td>16</td>\n",
       "      <td>43,824</td>\n",
       "      <td>1.15%</td>\n",
       "      <td>353,174</td>\n",
       "      <td>NaN</td>\n",
       "      <td>NaN</td>\n",
       "      <td>NaN</td>\n",
       "      <td>[1/20/2015 15:01, 1/13/2013 9:27, 12/29/2012 13:29, 1/21/2013 14:44, 3/18/2014 21:41]</td>\n",
       "    </tr>\n",
       "    <tr>\n",
       "      <th>33</th>\n",
       "      <td>Participant Goal($)</td>\n",
       "      <td>object</td>\n",
       "      <td>11</td>\n",
       "      <td>12</td>\n",
       "      <td>0.00%</td>\n",
       "      <td>1,102</td>\n",
       "      <td>NaN</td>\n",
       "      <td>NaN</td>\n",
       "      <td>NaN</td>\n",
       "      <td>[300, 2500, 1100, 420, 300]</td>\n",
       "    </tr>\n",
       "    <tr>\n",
       "      <th>34</th>\n",
       "      <td>Is Prior Participant</td>\n",
       "      <td>object</td>\n",
       "      <td>5</td>\n",
       "      <td>1,480,729</td>\n",
       "      <td>38.89%</td>\n",
       "      <td>4</td>\n",
       "      <td>NaN</td>\n",
       "      <td>NaN</td>\n",
       "      <td>NaN</td>\n",
       "      <td>[Yes, Yes, Yes, Yes, Yes]</td>\n",
       "    </tr>\n",
       "    <tr>\n",
       "      <th>35</th>\n",
       "      <td>Is Team Captain</td>\n",
       "      <td>object</td>\n",
       "      <td>5</td>\n",
       "      <td>43,823</td>\n",
       "      <td>1.15%</td>\n",
       "      <td>14</td>\n",
       "      <td>NaN</td>\n",
       "      <td>NaN</td>\n",
       "      <td>NaN</td>\n",
       "      <td>[TRUE, FALSE, FALSE, FALSE, FALSE]</td>\n",
       "    </tr>\n",
       "    <tr>\n",
       "      <th>36</th>\n",
       "      <td>Additional Gift Amount($)</td>\n",
       "      <td>object</td>\n",
       "      <td>34</td>\n",
       "      <td>5</td>\n",
       "      <td>0.00%</td>\n",
       "      <td>424</td>\n",
       "      <td>NaN</td>\n",
       "      <td>NaN</td>\n",
       "      <td>NaN</td>\n",
       "      <td>[0, 0, 0, 0, 0]</td>\n",
       "    </tr>\n",
       "    <tr>\n",
       "      <th>37</th>\n",
       "      <td>Team Name</td>\n",
       "      <td>object</td>\n",
       "      <td>84</td>\n",
       "      <td>505,052</td>\n",
       "      <td>13.27%</td>\n",
       "      <td>16,391</td>\n",
       "      <td>NaN</td>\n",
       "      <td>NaN</td>\n",
       "      <td>NaN</td>\n",
       "      <td>[roLLers, Team Prince Yeates, The Magpies, Team Robinson, MS Dérailleurs]</td>\n",
       "    </tr>\n",
       "    <tr>\n",
       "      <th>38</th>\n",
       "      <td>Team</td>\n",
       "      <td>object</td>\n",
       "      <td>22</td>\n",
       "      <td>505,043</td>\n",
       "      <td>13.26%</td>\n",
       "      <td>32,779</td>\n",
       "      <td>NaN</td>\n",
       "      <td>NaN</td>\n",
       "      <td>NaN</td>\n",
       "      <td>[355106, 489849, 311428, 351007, 499732]</td>\n",
       "    </tr>\n",
       "    <tr>\n",
       "      <th>39</th>\n",
       "      <td>Team Creation Date</td>\n",
       "      <td>object</td>\n",
       "      <td>16</td>\n",
       "      <td>505,037</td>\n",
       "      <td>13.26%</td>\n",
       "      <td>30,932</td>\n",
       "      <td>NaN</td>\n",
       "      <td>NaN</td>\n",
       "      <td>NaN</td>\n",
       "      <td>[3/26/2012 15:54, 1/16/2015 7:16, 11/22/2014 8:40, 9/21/2016 9:59, 1/7/2013 10:49]</td>\n",
       "    </tr>\n",
       "    <tr>\n",
       "      <th>40</th>\n",
       "      <td>Original Value Transacted</td>\n",
       "      <td>object</td>\n",
       "      <td>8</td>\n",
       "      <td>0</td>\n",
       "      <td>0.00%</td>\n",
       "      <td>17,014</td>\n",
       "      <td>NaN</td>\n",
       "      <td>NaN</td>\n",
       "      <td>NaN</td>\n",
       "      <td>[100.0, 20.0, 150.0, 25.0, 75.0]</td>\n",
       "    </tr>\n",
       "    <tr>\n",
       "      <th>41</th>\n",
       "      <td>Net Transaction Amount</td>\n",
       "      <td>object</td>\n",
       "      <td>8</td>\n",
       "      <td>0</td>\n",
       "      <td>0.00%</td>\n",
       "      <td>18,207</td>\n",
       "      <td>NaN</td>\n",
       "      <td>NaN</td>\n",
       "      <td>NaN</td>\n",
       "      <td>[250, 30, 25.0, 100.0, 35]</td>\n",
       "    </tr>\n",
       "    <tr>\n",
       "      <th>42</th>\n",
       "      <td>Ledger Transaction Amount</td>\n",
       "      <td>object</td>\n",
       "      <td>26</td>\n",
       "      <td>0</td>\n",
       "      <td>0.00%</td>\n",
       "      <td>14,677</td>\n",
       "      <td>NaN</td>\n",
       "      <td>NaN</td>\n",
       "      <td>NaN</td>\n",
       "      <td>[25, 25, 100, 50, 57]</td>\n",
       "    </tr>\n",
       "    <tr>\n",
       "      <th>43</th>\n",
       "      <td>Proxy Type</td>\n",
       "      <td>object</td>\n",
       "      <td>31</td>\n",
       "      <td>0</td>\n",
       "      <td>0.00%</td>\n",
       "      <td>56</td>\n",
       "      <td>NaN</td>\n",
       "      <td>NaN</td>\n",
       "      <td>NaN</td>\n",
       "      <td>[TeamRaiser Participant, TeamRaiser Participant, TeamRaiser Participant, TeamRaiser Participant, TeamRaiser Participant]</td>\n",
       "    </tr>\n",
       "    <tr>\n",
       "      <th>44</th>\n",
       "      <td>User Confirmation Code</td>\n",
       "      <td>object</td>\n",
       "      <td>32</td>\n",
       "      <td>42</td>\n",
       "      <td>0.00%</td>\n",
       "      <td>3,799,231</td>\n",
       "      <td>NaN</td>\n",
       "      <td>NaN</td>\n",
       "      <td>NaN</td>\n",
       "      <td>[1638-44120-1-16625632-17431797, 1638-45137-1-18550298-19575252, 1638-35555-1-14117838-14679394, 1638-38332-1-13744965-14284182, 1638-44518-1-17647379-18570475]</td>\n",
       "    </tr>\n",
       "    <tr>\n",
       "      <th>45</th>\n",
       "      <td>Source Code Type</td>\n",
       "      <td>object</td>\n",
       "      <td>20</td>\n",
       "      <td>2,687,473</td>\n",
       "      <td>70.59%</td>\n",
       "      <td>13</td>\n",
       "      <td>NaN</td>\n",
       "      <td>NaN</td>\n",
       "      <td>NaN</td>\n",
       "      <td>[6, 6, 6, Web Link, 6]</td>\n",
       "    </tr>\n",
       "    <tr>\n",
       "      <th>46</th>\n",
       "      <td>Source Code Text</td>\n",
       "      <td>object</td>\n",
       "      <td>252</td>\n",
       "      <td>2,688,005</td>\n",
       "      <td>70.60%</td>\n",
       "      <td>12,126</td>\n",
       "      <td>NaN</td>\n",
       "      <td>NaN</td>\n",
       "      <td>NaN</td>\n",
       "      <td>[www.bing.com, l.facebook.com, secure3.convio.net, boundlessfundraising, www.facebook.com]</td>\n",
       "    </tr>\n",
       "    <tr>\n",
       "      <th>47</th>\n",
       "      <td>Sub Source Code Text</td>\n",
       "      <td>object</td>\n",
       "      <td>255</td>\n",
       "      <td>2,889,108</td>\n",
       "      <td>75.88%</td>\n",
       "      <td>28,833</td>\n",
       "      <td>NaN</td>\n",
       "      <td>NaN</td>\n",
       "      <td>NaN</td>\n",
       "      <td>[/site/TR/Bike/TXHBikeEvents, bfgetwordout, /l.php, bfDskFbPfStream, /]</td>\n",
       "    </tr>\n",
       "    <tr>\n",
       "      <th>48</th>\n",
       "      <td>Batch ID</td>\n",
       "      <td>object</td>\n",
       "      <td>40</td>\n",
       "      <td>3,081,976</td>\n",
       "      <td>80.95%</td>\n",
       "      <td>49,574</td>\n",
       "      <td>NaN</td>\n",
       "      <td>NaN</td>\n",
       "      <td>NaN</td>\n",
       "      <td>[VAR-060115-155924, TXH-091217-247498, mam081413dd-1598-6, TXH-031915-WEBADJ, ILD-07042014BIKE-56]</td>\n",
       "    </tr>\n",
       "  </tbody>\n",
       "</table>\n",
       "</div>"
      ],
      "text/plain": [
       "                        Column Data_Type Max_Character_Length  \\\n",
       "0       Security Category Name    object                   25   \n",
       "1                     Event ID    object                   38   \n",
       "2            Public Event Name    object                  104   \n",
       "3                  Fiscal Year    object                   19   \n",
       "4                   Event Date    object                   26   \n",
       "5               Campaign Title    object                   70   \n",
       "6                  Campaign ID    object                    9   \n",
       "7               Gift Amount($)    object                   17   \n",
       "8                Date Recorded    object                   23   \n",
       "9                    Gift Type    object                   11   \n",
       "10         Gift Payment Method    object                   11   \n",
       "11              Offline Status    object                   28   \n",
       "12            Soft Credit Type    object                   27   \n",
       "13            Is Registration?    object                    8   \n",
       "14                Donor ConsID    object                   17   \n",
       "15             Donor Member ID    object                   16   \n",
       "16        Donor Affiliate Code    object                   12   \n",
       "17                Donor Gender    object                    6   \n",
       "18          Donor Accept Email    object                   21   \n",
       "19          Donor Opt-out Date    object                   32   \n",
       "20        Donor Opt-out Method    object                   20   \n",
       "21          Donor Email Status    object                   17   \n",
       "22                  Donor City    object                   32   \n",
       "23                 Donor State    object                   18   \n",
       "24                Donor County    object                   35   \n",
       "25                   Donor ZIP    object                   41   \n",
       "26              Donor Employer    object                   85   \n",
       "27      Donor Connection to MS    object                   39   \n",
       "28      Participant Contact ID   float64                 None   \n",
       "29       Participant Member ID    object                   47   \n",
       "30     Participation Type Name    object                   87   \n",
       "31  Registration Active Status    object                   21   \n",
       "32           Registration Date    object                   16   \n",
       "33         Participant Goal($)    object                   11   \n",
       "34        Is Prior Participant    object                    5   \n",
       "35             Is Team Captain    object                    5   \n",
       "36   Additional Gift Amount($)    object                   34   \n",
       "37                   Team Name    object                   84   \n",
       "38                        Team    object                   22   \n",
       "39          Team Creation Date    object                   16   \n",
       "40   Original Value Transacted    object                    8   \n",
       "41      Net Transaction Amount    object                    8   \n",
       "42   Ledger Transaction Amount    object                   26   \n",
       "43                  Proxy Type    object                   31   \n",
       "44      User Confirmation Code    object                   32   \n",
       "45            Source Code Type    object                   20   \n",
       "46            Source Code Text    object                  252   \n",
       "47        Sub Source Code Text    object                  255   \n",
       "48                    Batch ID    object                   40   \n",
       "\n",
       "   Null_Value_Count Null_Percentage Distinct_Value_Count  Min_Value  \\\n",
       "0                 0           0.00%                  162        NaN   \n",
       "1                 0           0.00%                  508        NaN   \n",
       "2                 0           0.00%                  510        NaN   \n",
       "3                 0           0.00%                    9        NaN   \n",
       "4                42           0.00%                  494        NaN   \n",
       "5                 0           0.00%                  296        NaN   \n",
       "6                 0           0.00%                  328        NaN   \n",
       "7                 0           0.00%               17,516        NaN   \n",
       "8                 0           0.00%            1,382,882        NaN   \n",
       "9                 0           0.00%                    8        NaN   \n",
       "10                5           0.00%                    5        NaN   \n",
       "11        3,026,552          79.49%                    5        NaN   \n",
       "12                0           0.00%                    8        NaN   \n",
       "13                0           0.00%                   15        NaN   \n",
       "14                1           0.00%            2,424,215        NaN   \n",
       "15            4,929           0.13%            1,951,044        NaN   \n",
       "16           15,082           0.40%                   71        NaN   \n",
       "17          483,829          12.71%                   11        NaN   \n",
       "18              977           0.03%                   13        NaN   \n",
       "19        1,955,163          51.35%              595,257        NaN   \n",
       "20        1,946,009          51.11%                   12        NaN   \n",
       "21          208,621           5.48%                   26        NaN   \n",
       "22              982           0.03%               32,590        NaN   \n",
       "23           26,317           0.69%                  157        NaN   \n",
       "24           74,047           1.94%                1,943        NaN   \n",
       "25            1,007           0.03%               52,666        NaN   \n",
       "26        3,031,472          79.62%              103,087        NaN   \n",
       "27        2,028,908          53.29%                   63        NaN   \n",
       "28           42,369           1.11%              219,655  1566043.0   \n",
       "29           47,053           1.24%              218,972        NaN   \n",
       "30           43,824           1.15%                  467        NaN   \n",
       "31           43,824           1.15%                   36        NaN   \n",
       "32           43,824           1.15%              353,174        NaN   \n",
       "33               12           0.00%                1,102        NaN   \n",
       "34        1,480,729          38.89%                    4        NaN   \n",
       "35           43,823           1.15%                   14        NaN   \n",
       "36                5           0.00%                  424        NaN   \n",
       "37          505,052          13.27%               16,391        NaN   \n",
       "38          505,043          13.26%               32,779        NaN   \n",
       "39          505,037          13.26%               30,932        NaN   \n",
       "40                0           0.00%               17,014        NaN   \n",
       "41                0           0.00%               18,207        NaN   \n",
       "42                0           0.00%               14,677        NaN   \n",
       "43                0           0.00%                   56        NaN   \n",
       "44               42           0.00%            3,799,231        NaN   \n",
       "45        2,687,473          70.59%                   13        NaN   \n",
       "46        2,688,005          70.60%               12,126        NaN   \n",
       "47        2,889,108          75.88%               28,833        NaN   \n",
       "48        3,081,976          80.95%               49,574        NaN   \n",
       "\n",
       "     Max_Value       Average  \\\n",
       "0          NaN           NaN   \n",
       "1          NaN           NaN   \n",
       "2          NaN           NaN   \n",
       "3          NaN           NaN   \n",
       "4          NaN           NaN   \n",
       "5          NaN           NaN   \n",
       "6          NaN           NaN   \n",
       "7          NaN           NaN   \n",
       "8          NaN           NaN   \n",
       "9          NaN           NaN   \n",
       "10         NaN           NaN   \n",
       "11         NaN           NaN   \n",
       "12         NaN           NaN   \n",
       "13         NaN           NaN   \n",
       "14         NaN           NaN   \n",
       "15         NaN           NaN   \n",
       "16         NaN           NaN   \n",
       "17         NaN           NaN   \n",
       "18         NaN           NaN   \n",
       "19         NaN           NaN   \n",
       "20         NaN           NaN   \n",
       "21         NaN           NaN   \n",
       "22         NaN           NaN   \n",
       "23         NaN           NaN   \n",
       "24         NaN           NaN   \n",
       "25         NaN           NaN   \n",
       "26         NaN           NaN   \n",
       "27         NaN           NaN   \n",
       "28  91174462.0  9.583951e+06   \n",
       "29         NaN           NaN   \n",
       "30         NaN           NaN   \n",
       "31         NaN           NaN   \n",
       "32         NaN           NaN   \n",
       "33         NaN           NaN   \n",
       "34         NaN           NaN   \n",
       "35         NaN           NaN   \n",
       "36         NaN           NaN   \n",
       "37         NaN           NaN   \n",
       "38         NaN           NaN   \n",
       "39         NaN           NaN   \n",
       "40         NaN           NaN   \n",
       "41         NaN           NaN   \n",
       "42         NaN           NaN   \n",
       "43         NaN           NaN   \n",
       "44         NaN           NaN   \n",
       "45         NaN           NaN   \n",
       "46         NaN           NaN   \n",
       "47         NaN           NaN   \n",
       "48         NaN           NaN   \n",
       "\n",
       "                                                                                                                                                                                                 Sample_Values  \n",
       "0                                                                                                                        [MNM Bike Events, MIG Bike Events, COC Bike Events, MNM Bike Events, NYN Bike Events]  \n",
       "1                                                                                                                                                                          [28263, 22278, 18743, 27003, 25223]  \n",
       "2   [Bike MS: Willamette Valley 2016, Bike MS: Willamette Valley 2015, Bike MS: Colorado 2017 powered locally by Anthem, New Jersey, Cherry Hill  Bike MS: City to Shore 2014, Bike MS: Cape Cod Getaway 2017]  \n",
       "3                                                                                                                                                                               [2016, 2013, 2016, 2013, 2016]  \n",
       "4                                                                                                                         [4/20/2013 12:05, 4/16/2016 13:18, 6/29/2013 8:42, 4/12/2014 16:41, 9/12/2015 13:32]  \n",
       "5                                              [NYN 2012 Bike MS New York City, ORC Bike Donation Campaign, CTN Bike Donation Campaign, Bike MS: Breakaway to the Beach 2014, Texas, Houston - 2014 BP MS 150]  \n",
       "6                                                                                                                                                                          [44959, 35592, 35352, 38872, 35352]  \n",
       "7                                                                                                                                                                                      [35, 100, 50, 15, 50.0]  \n",
       "8                                                                                                                          [2/13/2013 21:24, 9/10/2016 16:34, 8/15/2015 8:20, 5/26/2015 12:33, 7/7/2014 20:14]  \n",
       "9                                                                                                                                                                   [offline, online, online, online, offline]  \n",
       "10                                                                                                                                                  [Credit Card, Credit Card, Cash, Credit Card, Credit Card]  \n",
       "11                                                                                                                                                     [confirmed, confirmed, confirmed, confirmed, confirmed]  \n",
       "12                                                           [Teamraiser Participant Gift, Teamraiser Participant Gift, Teamraiser Participant Gift, Teamraiser Participant Gift, Teamraiser Participant Gift]  \n",
       "13                                                                                                                                                                          [TRUE, FALSE, FALSE, FALSE, FALSE]  \n",
       "14                                                                                                                                                           [2553411, 13475528, 1780884.0, 5525365, 11715847]  \n",
       "15                                                                                                                                                          [61749506, 90725043, 80058774, 82011789, 48892054]  \n",
       "16                                                                                                                                                                                   [MOS, MNM, PAE, NJM, NCT]  \n",
       "17                                                                                                                                                                          [Female, Female, Male, Male, Male]  \n",
       "18                                                                                                                                                                           [TRUE, TRUE, FALSE, FALSE, False]  \n",
       "19                                                                                                                             [7/12/2017 7:26, 5/19/2015 8:09, 4/10/2013 0:41, 2/4/2015 9:26, 8/4/2015 22:32]  \n",
       "20                                                                                                                       [Unsubscribe Link, Unsubscribe Link, Data Sync, Constituent Update, Unsubscribe Link]  \n",
       "21                                                                                                                                                                 [Bad (Hard Bounce), Good, Good, Good, Good]  \n",
       "22                                                                                                                                                   [Cottageville, Bellmawr, Blackstone, Forney, San Antonio]  \n",
       "23                                                                                                                                                                                        [TX, PA, PA, CA, CA]  \n",
       "24                                                                                                                                                         [Travis, Middlesex, Lafayette, Dallas, Los Angeles]  \n",
       "25                                                                                                                                                                         [77429, 77024, 84065, 29223, 10024]  \n",
       "26                                                                                              [Apache Corporation, Drury Hotels LLC, Bank Of The West Employee Giving Program, NISD, Community Choice, Inc.]  \n",
       "27                                                                                                                                         [Friend has MS, Relative has MS, Other, Relative has MS, I have MS]  \n",
       "28                                                                                                                                                   [1970801.0, 9244341.0, 16046392.0, 13578906.0, 3825925.0]  \n",
       "29                                                                                                                                                          [80735818, 85373526, 80322236, 75832798, 90300063]  \n",
       "30                                                                                                                                          [Cyclist, Cyclist, Cyclist, Cyclist, Cyclist, No Housing Required]  \n",
       "31                                                                                                                                                                    [Active, Active, Active, Active, Active]  \n",
       "32                                                                                                                       [1/20/2015 15:01, 1/13/2013 9:27, 12/29/2012 13:29, 1/21/2013 14:44, 3/18/2014 21:41]  \n",
       "33                                                                                                                                                                                 [300, 2500, 1100, 420, 300]  \n",
       "34                                                                                                                                                                                   [Yes, Yes, Yes, Yes, Yes]  \n",
       "35                                                                                                                                                                          [TRUE, FALSE, FALSE, FALSE, FALSE]  \n",
       "36                                                                                                                                                                                             [0, 0, 0, 0, 0]  \n",
       "37                                                                                                                                   [roLLers, Team Prince Yeates, The Magpies, Team Robinson, MS Dérailleurs]  \n",
       "38                                                                                                                                                                    [355106, 489849, 311428, 351007, 499732]  \n",
       "39                                                                                                                          [3/26/2012 15:54, 1/16/2015 7:16, 11/22/2014 8:40, 9/21/2016 9:59, 1/7/2013 10:49]  \n",
       "40                                                                                                                                                                            [100.0, 20.0, 150.0, 25.0, 75.0]  \n",
       "41                                                                                                                                                                                  [250, 30, 25.0, 100.0, 35]  \n",
       "42                                                                                                                                                                                       [25, 25, 100, 50, 57]  \n",
       "43                                                                                    [TeamRaiser Participant, TeamRaiser Participant, TeamRaiser Participant, TeamRaiser Participant, TeamRaiser Participant]  \n",
       "44                                            [1638-44120-1-16625632-17431797, 1638-45137-1-18550298-19575252, 1638-35555-1-14117838-14679394, 1638-38332-1-13744965-14284182, 1638-44518-1-17647379-18570475]  \n",
       "45                                                                                                                                                                                      [6, 6, 6, Web Link, 6]  \n",
       "46                                                                                                                  [www.bing.com, l.facebook.com, secure3.convio.net, boundlessfundraising, www.facebook.com]  \n",
       "47                                                                                                                                     [/site/TR/Bike/TXHBikeEvents, bfgetwordout, /l.php, bfDskFbPfStream, /]  \n",
       "48                                                                                                          [VAR-060115-155924, TXH-091217-247498, mam081413dd-1598-6, TXH-031915-WEBADJ, ILD-07042014BIKE-56]  "
      ]
     },
     "execution_count": 5,
     "metadata": {},
     "output_type": "execute_result"
    }
   ],
   "source": [
    "dictionary = []\n",
    "# Iterate through columns\n",
    "\n",
    "# total rows\n",
    "total_rows = len(donations_df)\n",
    "\n",
    "for col in donations_df.columns:\n",
    "    data_type = donations_df[col].dtype\n",
    "    length = None\n",
    "    if data_type == object:\n",
    "        length = donations_df[col].str.len().max()\n",
    "    \n",
    "    length_format = '{:,.0f}'.format(length) if length is not None else None\n",
    "    \n",
    "    num_nulls = donations_df[col].isnull().sum()\n",
    "    num_nulls_format = '{:,}'.format(num_nulls)\n",
    "    percentage_null = (num_nulls/total_rows) * 100\n",
    "    percentage_null_format = '{:,.2f}%'.format(percentage_null)\n",
    "    num_distinct = donations_df[col].nunique()\n",
    "    num_distinct_format = '{:,}'.format(num_distinct)\n",
    "    \n",
    "    # Initialize min and max values\n",
    "    min_value = None\n",
    "    max_value = None\n",
    "    \n",
    "    # Check if column is numeric\n",
    "    if np.issubdtype(data_type, np.number):\n",
    "        min_value = donations_df[col].min()\n",
    "        max_value = donations_df[col].max()\n",
    "        \n",
    "    # Calculate avergae for numeric columns\n",
    "    average = donations_df[col].mean() if np.issubdtype(data_type, np.number) else None\n",
    "        \n",
    "    #Sample values\n",
    "    sample_values = donations_df[col].dropna().sample(5).tolist()\n",
    "    \n",
    "    #Append all info to dictionary list\n",
    "    dictionary.append([col, data_type, length_format, num_nulls_format, percentage_null_format, num_distinct_format, min_value, max_value, average, sample_values])\n",
    "    \n",
    "# Create a df for the dictionary\n",
    "dictionary_df = pd.DataFrame(dictionary, columns=['Column', 'Data_Type', 'Max_Character_Length', 'Null_Value_Count', 'Null_Percentage','Distinct_Value_Count', 'Min_Value', 'Max_Value','Average','Sample_Values'])\n",
    "\n",
    "# So that Sample_Values are not truncated\n",
    "pd.set_option('display.max_colwidth', 300)\n",
    "\n",
    "# sort = dictionary_df.sort_values(by='Null_Value_Count')\n",
    "# sort\n",
    "\n",
    "dictionary_df"
   ]
  },
  {
   "cell_type": "code",
   "execution_count": 6,
   "id": "dd5bea7e-60f4-4b3a-83a0-f867763e5796",
   "metadata": {
    "tags": []
   },
   "outputs": [
    {
     "data": {
      "text/plain": [
       "Index(['Security Category Name', 'Event ID', 'Public Event Name',\n",
       "       'Fiscal Year', 'Event Date', 'Campaign Title', 'Campaign ID',\n",
       "       'Gift Amount($)', 'Date Recorded', 'Gift Type', 'Gift Payment Method',\n",
       "       'Offline Status', 'Soft Credit Type', 'Is Registration?',\n",
       "       'Donor ConsID', 'Donor Member ID', 'Donor Affiliate Code',\n",
       "       'Donor Gender', 'Donor Accept Email', 'Donor Opt-out Date',\n",
       "       'Donor Opt-out Method', 'Donor Email Status', 'Donor City',\n",
       "       'Donor State', 'Donor County', 'Donor ZIP', 'Donor Employer',\n",
       "       'Donor Connection to MS', 'Participant Contact ID',\n",
       "       'Participant Member ID', 'Participation Type Name',\n",
       "       'Registration Active Status', 'Registration Date',\n",
       "       'Participant Goal($)', 'Is Prior Participant', 'Is Team Captain',\n",
       "       'Additional Gift Amount($)', 'Team Name', 'Team', 'Team Creation Date',\n",
       "       'Original Value Transacted', 'Net Transaction Amount',\n",
       "       'Ledger Transaction Amount', 'Proxy Type', 'User Confirmation Code',\n",
       "       'Source Code Type', 'Source Code Text', 'Sub Source Code Text',\n",
       "       'Batch ID'],\n",
       "      dtype='object')"
      ]
     },
     "execution_count": 6,
     "metadata": {},
     "output_type": "execute_result"
    }
   ],
   "source": [
    "donations_df.columns"
   ]
  },
  {
   "cell_type": "markdown",
   "id": "8dd2e4c3-611d-44a3-b3f5-8c6db8cc4bff",
   "metadata": {
    "tags": []
   },
   "source": [
    "# Fiscal Year"
   ]
  },
  {
   "cell_type": "code",
   "execution_count": 7,
   "id": "ef37a11b-dd7a-4a1c-a596-c9ddda970264",
   "metadata": {
    "tags": []
   },
   "outputs": [
    {
     "data": {
      "text/plain": [
       "array(['9/24/2016 9:27', '4/30/2016 12:49', '2017(7/15/2017 6:29'],\n",
       "      dtype=object)"
      ]
     },
     "execution_count": 7,
     "metadata": {},
     "output_type": "execute_result"
    }
   ],
   "source": [
    "# Fiscal Year dirty value\n",
    "max_length_value = donations_df['Fiscal Year'].astype(str).apply(len).idxmax()\n",
    "max_length = donations_df['Fiscal Year'].astype(str).apply(len).max()\n",
    "value_with_max_length = donations_df.at[max_length_value, 'Fiscal Year']\n",
    "value_with_max_length\n",
    "\n",
    "# List all values \n",
    "long_year_values = donations_df[donations_df['Fiscal Year'].astype(str).apply(len) > 4]['Fiscal Year'].unique()\n",
    "\n",
    "long_year_values\n",
    "\n"
   ]
  },
  {
   "cell_type": "code",
   "execution_count": 8,
   "id": "6a9caad7-0c19-48eb-a4f6-c3b7fbb8f898",
   "metadata": {},
   "outputs": [
    {
     "data": {
      "text/plain": [
       "4"
      ]
     },
     "execution_count": 8,
     "metadata": {},
     "output_type": "execute_result"
    }
   ],
   "source": [
    "# Function to extract year\n",
    "def extract_year(value):\n",
    "    match = re.search(r'\\b\\d{4}\\b', str(value))\n",
    "    return match.group(0) if match else None\n",
    "\n",
    "# Apply the function to the 'Fiscal Year' column\n",
    "donations_df['Fiscal Year'] = donations_df['Fiscal Year'].apply(extract_year)\n",
    "\n",
    "# Check the cleaned data\n",
    "max_char = max(len(str(year)) for year in donations_df['Fiscal Year'])\n",
    "max_char"
   ]
  },
  {
   "cell_type": "code",
   "execution_count": 9,
   "id": "381cb997",
   "metadata": {},
   "outputs": [
    {
     "data": {
      "text/html": [
       "<div>\n",
       "<style scoped>\n",
       "    .dataframe tbody tr th:only-of-type {\n",
       "        vertical-align: middle;\n",
       "    }\n",
       "\n",
       "    .dataframe tbody tr th {\n",
       "        vertical-align: top;\n",
       "    }\n",
       "\n",
       "    .dataframe thead th {\n",
       "        text-align: right;\n",
       "    }\n",
       "</style>\n",
       "<table border=\"1\" class=\"dataframe\">\n",
       "  <thead>\n",
       "    <tr style=\"text-align: right;\">\n",
       "      <th></th>\n",
       "      <th>Security Category Name</th>\n",
       "      <th>Event ID</th>\n",
       "      <th>Public Event Name</th>\n",
       "      <th>Fiscal Year</th>\n",
       "      <th>Event Date</th>\n",
       "      <th>Campaign Title</th>\n",
       "      <th>Campaign ID</th>\n",
       "      <th>Gift Amount($)</th>\n",
       "      <th>Date Recorded</th>\n",
       "      <th>Gift Type</th>\n",
       "      <th>...</th>\n",
       "      <th>Team Creation Date</th>\n",
       "      <th>Original Value Transacted</th>\n",
       "      <th>Net Transaction Amount</th>\n",
       "      <th>Ledger Transaction Amount</th>\n",
       "      <th>Proxy Type</th>\n",
       "      <th>User Confirmation Code</th>\n",
       "      <th>Source Code Type</th>\n",
       "      <th>Source Code Text</th>\n",
       "      <th>Sub Source Code Text</th>\n",
       "      <th>Batch ID</th>\n",
       "    </tr>\n",
       "  </thead>\n",
       "  <tbody>\n",
       "  </tbody>\n",
       "</table>\n",
       "<p>0 rows × 49 columns</p>\n",
       "</div>"
      ],
      "text/plain": [
       "Empty DataFrame\n",
       "Columns: [Security Category Name, Event ID, Public Event Name, Fiscal Year, Event Date, Campaign Title, Campaign ID, Gift Amount($), Date Recorded, Gift Type, Gift Payment Method, Offline Status, Soft Credit Type, Is Registration?, Donor ConsID, Donor Member ID, Donor Affiliate Code, Donor Gender, Donor Accept Email, Donor Opt-out Date, Donor Opt-out Method, Donor Email Status, Donor City, Donor State, Donor County, Donor ZIP, Donor Employer, Donor Connection to MS, Participant Contact ID, Participant Member ID, Participation Type Name, Registration Active Status, Registration Date, Participant Goal($), Is Prior Participant, Is Team Captain, Additional Gift Amount($), Team Name, Team, Team Creation Date, Original Value Transacted, Net Transaction Amount, Ledger Transaction Amount, Proxy Type, User Confirmation Code, Source Code Type, Source Code Text, Sub Source Code Text, Batch ID]\n",
       "Index: []\n",
       "\n",
       "[0 rows x 49 columns]"
      ]
     },
     "execution_count": 9,
     "metadata": {},
     "output_type": "execute_result"
    }
   ],
   "source": [
    "# Check for special characters in the 'Fiscal Year' column\n",
    "special = donations_df['Fiscal Year'].astype(str).str.contains(r'[^\\w\\s]', regex=True)\n",
    "\n",
    "rows_special = donations_df[special]\n",
    "rows_special"
   ]
  },
  {
   "cell_type": "code",
   "execution_count": 10,
   "id": "2852f35b",
   "metadata": {},
   "outputs": [],
   "source": [
    "# Change dtype to int\n",
    "donations_df['Fiscal Year'] = pd.to_numeric(donations_df['Fiscal Year'], errors='coerce').astype('Int64')"
   ]
  },
  {
   "cell_type": "code",
   "execution_count": 11,
   "id": "1cc6b53d-eaf5-467a-91fa-722c5dad0760",
   "metadata": {},
   "outputs": [
    {
     "data": {
      "text/plain": [
       "0          2013\n",
       "1          2013\n",
       "2          2013\n",
       "3          2013\n",
       "4          2013\n",
       "           ... \n",
       "3807371    2017\n",
       "3807372    2017\n",
       "3807373    2017\n",
       "3807374    2017\n",
       "3807375    2017\n",
       "Name: Fiscal Year, Length: 3807376, dtype: Int64"
      ]
     },
     "execution_count": 11,
     "metadata": {},
     "output_type": "execute_result"
    }
   ],
   "source": [
    "donations_df['Fiscal Year']"
   ]
  },
  {
   "cell_type": "markdown",
   "id": "b92064f5-6c17-462e-920b-d0930fa8efa9",
   "metadata": {},
   "source": [
    "# Date Recorded\t"
   ]
  },
  {
   "cell_type": "code",
   "execution_count": 12,
   "id": "622ebb49-bde7-4fe7-91d4-1e33701cfdca",
   "metadata": {
    "tags": []
   },
   "outputs": [
    {
     "data": {
      "text/plain": [
       "array(['10/4/2012 12:26(offline', '9/5/2013 13:28(offline',\n",
       "       '10/12/2016 7:07(offline'], dtype=object)"
      ]
     },
     "execution_count": 12,
     "metadata": {},
     "output_type": "execute_result"
    }
   ],
   "source": [
    "# Date Recorded dirty value\n",
    "max_length_value = donations_df['Date Recorded'].astype(str).apply(len).idxmax()\n",
    "max_length = donations_df['Date Recorded'].astype(str).apply(len).max()\n",
    "value_with_max_length = donations_df.at[max_length_value, 'Date Recorded']\n",
    "value_with_max_length\n",
    "\n",
    "# List all values \n",
    "long_year_values = donations_df[donations_df['Date Recorded'].astype(str).apply(len) > 16]['Date Recorded'].unique()\n",
    "\n",
    "long_year_values"
   ]
  },
  {
   "cell_type": "code",
   "execution_count": 13,
   "id": "0cdbbccb-cd46-455a-9de8-4a395a340077",
   "metadata": {},
   "outputs": [
    {
     "data": {
      "text/plain": [
       "23"
      ]
     },
     "execution_count": 13,
     "metadata": {},
     "output_type": "execute_result"
    }
   ],
   "source": [
    "# Check max no. of char should be 15 to 18\n",
    "max_char = max(len(str(year)) for year in donations_df['Date Recorded'])\n",
    "max_char"
   ]
  },
  {
   "cell_type": "code",
   "execution_count": 14,
   "id": "857000ae-aed1-4263-907b-785072742011",
   "metadata": {},
   "outputs": [],
   "source": [
    "donations_df['Date Recorded'] = donations_df['Date Recorded'].astype(str)"
   ]
  },
  {
   "cell_type": "code",
   "execution_count": 15,
   "id": "6718228c-2774-4ee3-a6ba-a8f31693cbc8",
   "metadata": {},
   "outputs": [],
   "source": [
    "# Correct the 'Date Recorded' column by removing '(offline'\n",
    "donations_df['Date Recorded'] = donations_df['Date Recorded'].str.replace(r'\\(offline.*', '', regex=True)"
   ]
  },
  {
   "cell_type": "code",
   "execution_count": 16,
   "id": "0bc08886-a1c8-49a6-901b-678f03bc4cc4",
   "metadata": {},
   "outputs": [
    {
     "data": {
      "text/plain": [
       "0          9/14/2012 17:34\n",
       "1          9/21/2012 14:10\n",
       "2          9/21/2012 10:43\n",
       "3          10/2/2012 15:58\n",
       "4          8/17/2012 14:15\n",
       "                ...       \n",
       "3807371     5/16/2017 8:57\n",
       "3807372    5/18/2017 16:49\n",
       "3807373    5/17/2017 20:07\n",
       "3807374      5/2/2017 7:57\n",
       "3807375      6/7/2017 8:49\n",
       "Name: Date Recorded, Length: 3807376, dtype: object"
      ]
     },
     "execution_count": 16,
     "metadata": {},
     "output_type": "execute_result"
    }
   ],
   "source": [
    "donations_df['Date Recorded']"
   ]
  },
  {
   "cell_type": "code",
   "execution_count": 17,
   "id": "5c1bdb8c-48fc-4b90-ac6d-4ec3baeb4f92",
   "metadata": {
    "tags": []
   },
   "outputs": [],
   "source": [
    "# convert to datetime\n",
    "# 'errors='coerce'' will handle invalid date formats by converting them to NaT\n",
    "donations_df['Date Recorded'] = pd.to_datetime(donations_df['Date Recorded'].str.split('(').str[0], errors='coerce')"
   ]
  },
  {
   "cell_type": "code",
   "execution_count": 18,
   "id": "a7239382-2194-456a-8237-d5b71364bb07",
   "metadata": {},
   "outputs": [
    {
     "data": {
      "text/plain": [
       "0         2012-09-14 17:34:00\n",
       "1         2012-09-21 14:10:00\n",
       "2         2012-09-21 10:43:00\n",
       "3         2012-10-02 15:58:00\n",
       "4         2012-08-17 14:15:00\n",
       "                  ...        \n",
       "3807371   2017-05-16 08:57:00\n",
       "3807372   2017-05-18 16:49:00\n",
       "3807373   2017-05-17 20:07:00\n",
       "3807374   2017-05-02 07:57:00\n",
       "3807375   2017-06-07 08:49:00\n",
       "Name: Date Recorded, Length: 3807376, dtype: datetime64[ns]"
      ]
     },
     "execution_count": 18,
     "metadata": {},
     "output_type": "execute_result"
    }
   ],
   "source": [
    "# Display the DataFrame with the cleaned up dates\n",
    "donations_df['Date Recorded']"
   ]
  },
  {
   "cell_type": "code",
   "execution_count": 19,
   "id": "e2ce0eb4-212f-48ad-a159-8fc7ffa1daa5",
   "metadata": {
    "tags": []
   },
   "outputs": [
    {
     "name": "stdout",
     "output_type": "stream",
     "text": [
      "Date Recorded with NaT values:\n",
      "292537    NaT\n",
      "1065707   NaT\n",
      "2133961   NaT\n",
      "2161980   NaT\n",
      "2951655   NaT\n",
      "2975192   NaT\n",
      "3109122   NaT\n",
      "3142276   NaT\n",
      "3376382   NaT\n",
      "Name: Date Recorded, dtype: datetime64[ns]\n"
     ]
    }
   ],
   "source": [
    "# List all NaT values\n",
    "nat_values = donations_df[donations_df['Date Recorded'].isna()]\n",
    "\n",
    "# Count the NaT values\n",
    "nat_count = nat_values.shape[0]\n",
    "\n",
    "# Print only 'Date Recorded' with NaT values\n",
    "print(\"Date Recorded with NaT values:\")\n",
    "print(nat_values['Date Recorded'])"
   ]
  },
  {
   "cell_type": "code",
   "execution_count": 20,
   "id": "9f230ced-1c51-45b2-b4cc-3e0ef1258907",
   "metadata": {
    "tags": []
   },
   "outputs": [],
   "source": [
    "# Replace NaT values with NULL\n",
    "donations_df['Date Recorded'].fillna(value=np.nan, inplace=True)"
   ]
  },
  {
   "cell_type": "markdown",
   "id": "5fbfdc8e-c4e0-44f5-a37c-1d7df72f2e28",
   "metadata": {},
   "source": [
    "# Gift Type"
   ]
  },
  {
   "cell_type": "code",
   "execution_count": 21,
   "id": "228a9ade-d4b4-4c73-b0fb-512be26eb30d",
   "metadata": {
    "scrolled": true,
    "tags": []
   },
   "outputs": [
    {
     "name": "stdout",
     "output_type": "stream",
     "text": [
      "['online' 'offline' 'ofbline' 'Check' 'Credit Card' 'ojline' 'onlina'\n",
      " 'onhine']\n"
     ]
    }
   ],
   "source": [
    "max_length_value = donations_df['Gift Type'].astype(str).apply(len).idxmax()\n",
    "max_length = donations_df['Gift Type'].astype(str).apply(len).max()\n",
    "value_with_max_length = donations_df.at[max_length_value, 'Gift Type']\n",
    "value_with_max_length\n",
    "\n",
    "unique_values = donations_df['Gift Type'].unique()\n",
    "print(unique_values)"
   ]
  },
  {
   "cell_type": "code",
   "execution_count": 22,
   "id": "7b9f243e-d0b2-4376-bfa5-94ce0e6fbd97",
   "metadata": {
    "tags": []
   },
   "outputs": [],
   "source": [
    "# Gift Type Cleanup\n",
    "\n",
    "# Define a mapping of incorrect values to their corrected forms\n",
    "corrections = {\n",
    "    'ofbline': 'Offline',\n",
    "    'ojline': 'Online',\n",
    "    'onlina': 'Online',\n",
    "    'onhine': 'Online',\n",
    "    'offline':'Offline',\n",
    "    'online':'Online'\n",
    "}\n",
    "\n",
    "# Apply the corrections to the 'Gift Type' column\n",
    "donations_df['Gift Type'] = donations_df['Gift Type'].replace(corrections)"
   ]
  },
  {
   "cell_type": "code",
   "execution_count": 23,
   "id": "aea246f3-b9f9-4924-aeb3-d357dccd7ee6",
   "metadata": {},
   "outputs": [
    {
     "data": {
      "text/plain": [
       "11"
      ]
     },
     "execution_count": 23,
     "metadata": {},
     "output_type": "execute_result"
    }
   ],
   "source": [
    "# Check the cleaned data\n",
    "max_char = max(len(str(type)) for type in donations_df['Gift Type'])\n",
    "max_char"
   ]
  },
  {
   "cell_type": "code",
   "execution_count": 24,
   "id": "ae448e3d-a049-4016-a3a0-9ccf6ec9eceb",
   "metadata": {},
   "outputs": [
    {
     "data": {
      "text/plain": [
       "0          Online\n",
       "1          Online\n",
       "2          Online\n",
       "3          Online\n",
       "4          Online\n",
       "            ...  \n",
       "3807371    Online\n",
       "3807372    Online\n",
       "3807373    Online\n",
       "3807374    Online\n",
       "3807375    Online\n",
       "Name: Gift Type, Length: 3807376, dtype: object"
      ]
     },
     "execution_count": 24,
     "metadata": {},
     "output_type": "execute_result"
    }
   ],
   "source": [
    "donations_df['Gift Type']"
   ]
  },
  {
   "cell_type": "markdown",
   "id": "c6a115f0-bb17-4594-9ab1-4be6e10cc5e3",
   "metadata": {},
   "source": [
    "# Team (TeamID)"
   ]
  },
  {
   "cell_type": "code",
   "execution_count": 25,
   "id": "fd2e74b4-4087-4457-a564-292cf925e4d2",
   "metadata": {
    "scrolled": true,
    "tags": []
   },
   "outputs": [
    {
     "data": {
      "text/html": [
       "<div>\n",
       "<style scoped>\n",
       "    .dataframe tbody tr th:only-of-type {\n",
       "        vertical-align: middle;\n",
       "    }\n",
       "\n",
       "    .dataframe tbody tr th {\n",
       "        vertical-align: top;\n",
       "    }\n",
       "\n",
       "    .dataframe thead th {\n",
       "        text-align: right;\n",
       "    }\n",
       "</style>\n",
       "<table border=\"1\" class=\"dataframe\">\n",
       "  <thead>\n",
       "    <tr style=\"text-align: right;\">\n",
       "      <th></th>\n",
       "      <th>Team</th>\n",
       "      <th>Team Name</th>\n",
       "    </tr>\n",
       "  </thead>\n",
       "  <tbody>\n",
       "    <tr>\n",
       "      <th>46998</th>\n",
       "      <td>6/14/2012 13:42</td>\n",
       "      <td>304556</td>\n",
       "    </tr>\n",
       "    <tr>\n",
       "      <th>175502</th>\n",
       "      <td>12/12/2012 8:55</td>\n",
       "      <td>315347</td>\n",
       "    </tr>\n",
       "    <tr>\n",
       "      <th>321402</th>\n",
       "      <td>304170(6/7/2012 12:03</td>\n",
       "      <td>Real Estate Riders</td>\n",
       "    </tr>\n",
       "    <tr>\n",
       "      <th>485629</th>\n",
       "      <td>12/30/2012 21:57</td>\n",
       "      <td>316590</td>\n",
       "    </tr>\n",
       "    <tr>\n",
       "      <th>652437</th>\n",
       "      <td>10/12/2012 12:03</td>\n",
       "      <td>311173</td>\n",
       "    </tr>\n",
       "    <tr>\n",
       "      <th>992076</th>\n",
       "      <td>10/9/2013 9:13</td>\n",
       "      <td>356595</td>\n",
       "    </tr>\n",
       "    <tr>\n",
       "      <th>1065707</th>\n",
       "      <td>10/11/2013 15:09</td>\n",
       "      <td>356809</td>\n",
       "    </tr>\n",
       "    <tr>\n",
       "      <th>1336119</th>\n",
       "      <td>9/2/2013 19:46</td>\n",
       "      <td>352925</td>\n",
       "    </tr>\n",
       "    <tr>\n",
       "      <th>1551042</th>\n",
       "      <td>12/29/2013 22:32</td>\n",
       "      <td>362917</td>\n",
       "    </tr>\n",
       "    <tr>\n",
       "      <th>1774627</th>\n",
       "      <td>11/18/2014 17:34</td>\n",
       "      <td>407723</td>\n",
       "    </tr>\n",
       "    <tr>\n",
       "      <th>1842656</th>\n",
       "      <td>10/11/2014 19:48</td>\n",
       "      <td>404915</td>\n",
       "    </tr>\n",
       "    <tr>\n",
       "      <th>1943101</th>\n",
       "      <td>10/6/2014 9:01</td>\n",
       "      <td>404363</td>\n",
       "    </tr>\n",
       "    <tr>\n",
       "      <th>2108177</th>\n",
       "      <td>8/7/2015 16:18</td>\n",
       "      <td>448527</td>\n",
       "    </tr>\n",
       "    <tr>\n",
       "      <th>2159702</th>\n",
       "      <td>11/6/2014 7:49</td>\n",
       "      <td>406486</td>\n",
       "    </tr>\n",
       "    <tr>\n",
       "      <th>2224841</th>\n",
       "      <td>12/29/2014 12:36</td>\n",
       "      <td>412791</td>\n",
       "    </tr>\n",
       "    <tr>\n",
       "      <th>2487511</th>\n",
       "      <td>8/6/2014 8:53</td>\n",
       "      <td>400439</td>\n",
       "    </tr>\n",
       "    <tr>\n",
       "      <th>2492079</th>\n",
       "      <td>1/27/2016 14:05</td>\n",
       "      <td>466902</td>\n",
       "    </tr>\n",
       "    <tr>\n",
       "      <th>2721961</th>\n",
       "      <td>9/16/2015 12:07</td>\n",
       "      <td>450755</td>\n",
       "    </tr>\n",
       "    <tr>\n",
       "      <th>2833755</th>\n",
       "      <td>4/28/2015 14:08</td>\n",
       "      <td>441031</td>\n",
       "    </tr>\n",
       "    <tr>\n",
       "      <th>2868951</th>\n",
       "      <td>12/30/2015 12:00</td>\n",
       "      <td>460427</td>\n",
       "    </tr>\n",
       "    <tr>\n",
       "      <th>2886801</th>\n",
       "      <td>10/5/2015 11:14</td>\n",
       "      <td>452208</td>\n",
       "    </tr>\n",
       "    <tr>\n",
       "      <th>2938962</th>\n",
       "      <td>9/30/2015 13:26</td>\n",
       "      <td>451807</td>\n",
       "    </tr>\n",
       "    <tr>\n",
       "      <th>2940588</th>\n",
       "      <td>10/1/2015 16:00</td>\n",
       "      <td>451996</td>\n",
       "    </tr>\n",
       "    <tr>\n",
       "      <th>2951655</th>\n",
       "      <td>10/2/2015 8:01</td>\n",
       "      <td>452046</td>\n",
       "    </tr>\n",
       "    <tr>\n",
       "      <th>2975192</th>\n",
       "      <td>10/14/2015 13:24</td>\n",
       "      <td>452939</td>\n",
       "    </tr>\n",
       "    <tr>\n",
       "      <th>3023071</th>\n",
       "      <td>10/13/2015 11:07</td>\n",
       "      <td>452850</td>\n",
       "    </tr>\n",
       "    <tr>\n",
       "      <th>3055540</th>\n",
       "      <td>10/6/2015 18:07</td>\n",
       "      <td>452316</td>\n",
       "    </tr>\n",
       "    <tr>\n",
       "      <th>3115077</th>\n",
       "      <td>10/8/2015 17:03</td>\n",
       "      <td>452621</td>\n",
       "    </tr>\n",
       "    <tr>\n",
       "      <th>3142276</th>\n",
       "      <td>2/20/2016 15:59</td>\n",
       "      <td>472164</td>\n",
       "    </tr>\n",
       "    <tr>\n",
       "      <th>3183686</th>\n",
       "      <td>1/11/2017 16:22</td>\n",
       "      <td>505827</td>\n",
       "    </tr>\n",
       "    <tr>\n",
       "      <th>3189088</th>\n",
       "      <td>493858(8/26/2016 13:46</td>\n",
       "      <td>Power of the Pedal</td>\n",
       "    </tr>\n",
       "    <tr>\n",
       "      <th>3222094</th>\n",
       "      <td>3/9/2016 11:55</td>\n",
       "      <td>477018</td>\n",
       "    </tr>\n",
       "    <tr>\n",
       "      <th>3267514</th>\n",
       "      <td>8/18/2016 15:41</td>\n",
       "      <td>493587</td>\n",
       "    </tr>\n",
       "    <tr>\n",
       "      <th>3376382</th>\n",
       "      <td>12/2/2016 9:33</td>\n",
       "      <td>500893</td>\n",
       "    </tr>\n",
       "    <tr>\n",
       "      <th>3396540</th>\n",
       "      <td>6/8/2016 12:49</td>\n",
       "      <td>490783</td>\n",
       "    </tr>\n",
       "    <tr>\n",
       "      <th>3459446</th>\n",
       "      <td>12/31/2016 10:48</td>\n",
       "      <td>504113</td>\n",
       "    </tr>\n",
       "    <tr>\n",
       "      <th>3766007</th>\n",
       "      <td>3/8/2017 17:17</td>\n",
       "      <td>517985</td>\n",
       "    </tr>\n",
       "  </tbody>\n",
       "</table>\n",
       "</div>"
      ],
      "text/plain": [
       "                           Team           Team Name\n",
       "46998           6/14/2012 13:42              304556\n",
       "175502          12/12/2012 8:55              315347\n",
       "321402    304170(6/7/2012 12:03  Real Estate Riders\n",
       "485629         12/30/2012 21:57              316590\n",
       "652437         10/12/2012 12:03              311173\n",
       "992076           10/9/2013 9:13              356595\n",
       "1065707        10/11/2013 15:09              356809\n",
       "1336119          9/2/2013 19:46              352925\n",
       "1551042        12/29/2013 22:32              362917\n",
       "1774627        11/18/2014 17:34              407723\n",
       "1842656        10/11/2014 19:48              404915\n",
       "1943101          10/6/2014 9:01              404363\n",
       "2108177          8/7/2015 16:18              448527\n",
       "2159702          11/6/2014 7:49              406486\n",
       "2224841        12/29/2014 12:36              412791\n",
       "2487511           8/6/2014 8:53              400439\n",
       "2492079         1/27/2016 14:05              466902\n",
       "2721961         9/16/2015 12:07              450755\n",
       "2833755         4/28/2015 14:08              441031\n",
       "2868951        12/30/2015 12:00              460427\n",
       "2886801         10/5/2015 11:14              452208\n",
       "2938962         9/30/2015 13:26              451807\n",
       "2940588         10/1/2015 16:00              451996\n",
       "2951655          10/2/2015 8:01              452046\n",
       "2975192        10/14/2015 13:24              452939\n",
       "3023071        10/13/2015 11:07              452850\n",
       "3055540         10/6/2015 18:07              452316\n",
       "3115077         10/8/2015 17:03              452621\n",
       "3142276         2/20/2016 15:59              472164\n",
       "3183686         1/11/2017 16:22              505827\n",
       "3189088  493858(8/26/2016 13:46  Power of the Pedal\n",
       "3222094          3/9/2016 11:55              477018\n",
       "3267514         8/18/2016 15:41              493587\n",
       "3376382          12/2/2016 9:33              500893\n",
       "3396540          6/8/2016 12:49              490783\n",
       "3459446        12/31/2016 10:48              504113\n",
       "3766007          3/8/2017 17:17              517985"
      ]
     },
     "execution_count": 25,
     "metadata": {},
     "output_type": "execute_result"
    }
   ],
   "source": [
    "# Team (ID) dirty value\n",
    "max_length_value = donations_df['Team'].astype(str).apply(len).idxmax()\n",
    "max_length = donations_df['Team'].astype(str).apply(len).max()\n",
    "value_with_max_length = donations_df.at[max_length_value, 'Team']\n",
    "value_with_max_length\n",
    "\n",
    "# filtered values \n",
    "values = donations_df[donations_df['Team'].astype(str).apply(len) > 6][['Team','Team Name']]\n",
    "values"
   ]
  },
  {
   "cell_type": "code",
   "execution_count": 26,
   "id": "0f96c96f-e036-4a26-aeca-75866d08fbdb",
   "metadata": {
    "scrolled": true
   },
   "outputs": [
    {
     "name": "stdout",
     "output_type": "stream",
     "text": [
      "           Team Team Name\n",
      "46998    304556    304556\n",
      "175502   315347    315347\n",
      "485629   316590    316590\n",
      "652437   311173    311173\n",
      "992076   356595    356595\n",
      "1065707  356809    356809\n",
      "1336119  352925    352925\n",
      "1551042  362917    362917\n",
      "1774627  407723    407723\n",
      "1842656  404915    404915\n",
      "1943101  404363    404363\n",
      "2108177  448527    448527\n",
      "2159702  406486    406486\n",
      "2224841  412791    412791\n",
      "2487511  400439    400439\n",
      "2492079  466902    466902\n",
      "2721961  450755    450755\n",
      "2833755  441031    441031\n",
      "2868951  460427    460427\n",
      "2886801  452208    452208\n",
      "2938962  451807    451807\n",
      "2940588  451996    451996\n",
      "2951655  452046    452046\n",
      "2975192  452939    452939\n",
      "3023071  452850    452850\n",
      "3055540  452316    452316\n",
      "3115077  452621    452621\n",
      "3142276  472164    472164\n",
      "3183686  505827    505827\n",
      "3222094  477018    477018\n",
      "3267514  493587    493587\n",
      "3376382  500893    500893\n",
      "3396540  490783    490783\n",
      "3459446  504113    504113\n",
      "3766007  517985    517985\n"
     ]
    }
   ],
   "source": [
    "# Filter the DataFrame based on the conditions for 'Team' and 'Team Name'\n",
    "# Filter conditions\n",
    "condition = (donations_df['Team'].astype(str).apply(len) > 6) & \\\n",
    "            (donations_df['Team Name'].astype(str).apply(len) <= 6)\n",
    "\n",
    "# Display the filtered values\n",
    "condition\n",
    "\n",
    "# Update the 'Team' column only for the filtered rows\n",
    "donations_df.loc[condition, 'Team'] = donations_df.loc[condition, 'Team Name']\n",
    "\n",
    "print(donations_df.loc[condition, ['Team', 'Team Name']])"
   ]
  },
  {
   "cell_type": "code",
   "execution_count": 27,
   "id": "4a560e02-5e2e-440b-8205-0ed5808c0a47",
   "metadata": {
    "tags": []
   },
   "outputs": [
    {
     "name": "stdout",
     "output_type": "stream",
     "text": [
      "           Team           Team Name\n",
      "321402   304170  Real Estate Riders\n",
      "3189088  493858  Power of the Pedal\n"
     ]
    }
   ],
   "source": [
    "# Define the condition for filtering\n",
    "condition = donations_df['Team'].astype(str).apply(len) > 6\n",
    "\n",
    "# Apply the string manipulation directly to the 'Team' column of the original DataFrame\n",
    "donations_df.loc[condition, 'Team'] = donations_df.loc[condition, 'Team'].str.split('(').str[0]\n",
    "\n",
    "# Now, if you want to see the updated rows:\n",
    "print(donations_df[condition][['Team', 'Team Name']])\n"
   ]
  },
  {
   "cell_type": "code",
   "execution_count": 28,
   "id": "2ee606d5-9c78-454d-b086-72d34871fe7e",
   "metadata": {},
   "outputs": [],
   "source": [
    "# Change dtype to int\n",
    "donations_df['Team'] = pd.to_numeric(donations_df['Team'], errors='coerce').astype('Int64')"
   ]
  },
  {
   "cell_type": "code",
   "execution_count": 29,
   "id": "d1431ee5-ddd1-4343-add8-6ab9b16d0ede",
   "metadata": {},
   "outputs": [
    {
     "data": {
      "text/plain": [
       "505044"
      ]
     },
     "execution_count": 29,
     "metadata": {},
     "output_type": "execute_result"
    }
   ],
   "source": [
    "num_nulls = donations_df['Team'].isnull().sum()\n",
    "num_nulls"
   ]
  },
  {
   "cell_type": "code",
   "execution_count": 30,
   "id": "f63875df-9115-4192-91bf-c1a000b48f0e",
   "metadata": {},
   "outputs": [
    {
     "data": {
      "text/plain": [
       "0          307893\n",
       "1          307893\n",
       "2          307893\n",
       "3          286443\n",
       "4          286443\n",
       "            ...  \n",
       "3807371    525976\n",
       "3807372    525976\n",
       "3807373    525976\n",
       "3807374    529051\n",
       "3807375    531094\n",
       "Name: Team, Length: 3807376, dtype: Int64"
      ]
     },
     "execution_count": 30,
     "metadata": {},
     "output_type": "execute_result"
    }
   ],
   "source": [
    "donations_df['Team']"
   ]
  },
  {
   "cell_type": "markdown",
   "id": "50a3322f-a4fe-4eec-bc68-96498b5f2e0a",
   "metadata": {},
   "source": [
    "# Donor Gender"
   ]
  },
  {
   "cell_type": "code",
   "execution_count": 31,
   "id": "5f939edf-b0e3-410d-ab87-7ef0a8829651",
   "metadata": {
    "scrolled": true,
    "tags": []
   },
   "outputs": [
    {
     "data": {
      "text/plain": [
       "array(['Female', 'Male', nan, 'FALSE', 'TRUE', 'U', 'Iale', 'F', 'Feiale',\n",
       "       'M', 'Femala', 'Famale'], dtype=object)"
      ]
     },
     "execution_count": 31,
     "metadata": {},
     "output_type": "execute_result"
    }
   ],
   "source": [
    "# Donor Gender dirty value\n",
    "max_length_value = donations_df['Donor Gender'].astype(str).apply(len).idxmax()\n",
    "max_length = donations_df['Donor Gender'].astype(str).apply(len).max()\n",
    "value_with_max_length = donations_df.at[max_length_value, 'Donor Gender']\n",
    "value_with_max_length\n",
    "\n",
    "unique_values = donations_df['Donor Gender'].unique()\n",
    "unique_values"
   ]
  },
  {
   "cell_type": "code",
   "execution_count": 32,
   "id": "4bb3fdaf-e2e1-4194-a5f7-99ca8ae0cbbf",
   "metadata": {
    "tags": []
   },
   "outputs": [
    {
     "name": "stdout",
     "output_type": "stream",
     "text": [
      "['Female' 'Male' 'Unknown']\n"
     ]
    }
   ],
   "source": [
    "# Create a mapping of values to be replaced\n",
    "replacement_map = {\n",
    "    'F': 'Female', \n",
    "    'U': 'Unknown', \n",
    "    'M': 'Male', \n",
    "    'Femala': 'Female', \n",
    "    'Famale': 'Female', \n",
    "    'Feiale': 'Female', \n",
    "    'Iale': 'Male',\n",
    "    'FALSE': 'Unknown',\n",
    "    'TRUE': 'Unknown'\n",
    "}\n",
    "\n",
    "# Replace the values in the 'Donor Gender' column\n",
    "donations_df['Donor Gender'] = donations_df['Donor Gender'].replace(replacement_map)\n",
    "\n",
    "# Handle NaN values\n",
    "donations_df['Donor Gender'] = donations_df['Donor Gender'].fillna('Unknown')\n",
    "\n",
    "# Check the unique values after replacement\n",
    "unique_values_after = donations_df['Donor Gender'].unique()\n",
    "print(unique_values_after)"
   ]
  },
  {
   "cell_type": "code",
   "execution_count": 33,
   "id": "0b6509a3-2151-4cd2-ad86-65a30ea5f411",
   "metadata": {},
   "outputs": [
    {
     "data": {
      "text/plain": [
       "7"
      ]
     },
     "execution_count": 33,
     "metadata": {},
     "output_type": "execute_result"
    }
   ],
   "source": [
    "# Check the cleaned data\n",
    "max_char = max(len(str(gender)) for gender in donations_df['Donor Gender'])\n",
    "max_char"
   ]
  },
  {
   "cell_type": "code",
   "execution_count": 34,
   "id": "36fbb949-7c7b-4954-8611-775305e5c747",
   "metadata": {},
   "outputs": [
    {
     "data": {
      "text/html": [
       "<div>\n",
       "<style scoped>\n",
       "    .dataframe tbody tr th:only-of-type {\n",
       "        vertical-align: middle;\n",
       "    }\n",
       "\n",
       "    .dataframe tbody tr th {\n",
       "        vertical-align: top;\n",
       "    }\n",
       "\n",
       "    .dataframe thead th {\n",
       "        text-align: right;\n",
       "    }\n",
       "</style>\n",
       "<table border=\"1\" class=\"dataframe\">\n",
       "  <thead>\n",
       "    <tr style=\"text-align: right;\">\n",
       "      <th></th>\n",
       "      <th>Donor Gender</th>\n",
       "      <th>Donor ConsID</th>\n",
       "      <th>Fiscal Year</th>\n",
       "    </tr>\n",
       "  </thead>\n",
       "  <tbody>\n",
       "    <tr>\n",
       "      <th>0</th>\n",
       "      <td>Female</td>\n",
       "      <td>7828995</td>\n",
       "      <td>2013</td>\n",
       "    </tr>\n",
       "    <tr>\n",
       "      <th>1</th>\n",
       "      <td>Female</td>\n",
       "      <td>11527263</td>\n",
       "      <td>2013</td>\n",
       "    </tr>\n",
       "    <tr>\n",
       "      <th>2</th>\n",
       "      <td>Female</td>\n",
       "      <td>11527263</td>\n",
       "      <td>2013</td>\n",
       "    </tr>\n",
       "    <tr>\n",
       "      <th>3</th>\n",
       "      <td>Male</td>\n",
       "      <td>10244498</td>\n",
       "      <td>2013</td>\n",
       "    </tr>\n",
       "    <tr>\n",
       "      <th>4</th>\n",
       "      <td>Female</td>\n",
       "      <td>11415664</td>\n",
       "      <td>2013</td>\n",
       "    </tr>\n",
       "    <tr>\n",
       "      <th>...</th>\n",
       "      <td>...</td>\n",
       "      <td>...</td>\n",
       "      <td>...</td>\n",
       "    </tr>\n",
       "    <tr>\n",
       "      <th>3807371</th>\n",
       "      <td>Female</td>\n",
       "      <td>15614806</td>\n",
       "      <td>2017</td>\n",
       "    </tr>\n",
       "    <tr>\n",
       "      <th>3807372</th>\n",
       "      <td>Female</td>\n",
       "      <td>16085762</td>\n",
       "      <td>2017</td>\n",
       "    </tr>\n",
       "    <tr>\n",
       "      <th>3807373</th>\n",
       "      <td>Female</td>\n",
       "      <td>16083016</td>\n",
       "      <td>2017</td>\n",
       "    </tr>\n",
       "    <tr>\n",
       "      <th>3807374</th>\n",
       "      <td>Unknown</td>\n",
       "      <td>16033523</td>\n",
       "      <td>2017</td>\n",
       "    </tr>\n",
       "    <tr>\n",
       "      <th>3807375</th>\n",
       "      <td>Female</td>\n",
       "      <td>16122821</td>\n",
       "      <td>2017</td>\n",
       "    </tr>\n",
       "  </tbody>\n",
       "</table>\n",
       "<p>3807376 rows × 3 columns</p>\n",
       "</div>"
      ],
      "text/plain": [
       "        Donor Gender Donor ConsID  Fiscal Year\n",
       "0             Female      7828995         2013\n",
       "1             Female     11527263         2013\n",
       "2             Female     11527263         2013\n",
       "3               Male     10244498         2013\n",
       "4             Female     11415664         2013\n",
       "...              ...          ...          ...\n",
       "3807371       Female     15614806         2017\n",
       "3807372       Female     16085762         2017\n",
       "3807373       Female     16083016         2017\n",
       "3807374      Unknown     16033523         2017\n",
       "3807375       Female     16122821         2017\n",
       "\n",
       "[3807376 rows x 3 columns]"
      ]
     },
     "execution_count": 34,
     "metadata": {},
     "output_type": "execute_result"
    }
   ],
   "source": [
    "# Display the 'Donor Gender' and 'Donor ConsID' columns for the filtered DataFrame\n",
    "x = (donations_df[['Donor Gender', 'Donor ConsID','Fiscal Year']])\n",
    "x"
   ]
  },
  {
   "cell_type": "markdown",
   "id": "37fee2c9-b882-4c76-afd1-10c8674c0445",
   "metadata": {},
   "source": [
    "# Donor ZIP"
   ]
  },
  {
   "cell_type": "code",
   "execution_count": 35,
   "id": "283f8c9e-f464-49e1-8d4a-8419a266a2bb",
   "metadata": {
    "scrolled": true
   },
   "outputs": [
    {
     "data": {
      "text/html": [
       "<div>\n",
       "<style scoped>\n",
       "    .dataframe tbody tr th:only-of-type {\n",
       "        vertical-align: middle;\n",
       "    }\n",
       "\n",
       "    .dataframe tbody tr th {\n",
       "        vertical-align: top;\n",
       "    }\n",
       "\n",
       "    .dataframe thead th {\n",
       "        text-align: right;\n",
       "    }\n",
       "</style>\n",
       "<table border=\"1\" class=\"dataframe\">\n",
       "  <thead>\n",
       "    <tr style=\"text-align: right;\">\n",
       "      <th></th>\n",
       "      <th>Donor City</th>\n",
       "      <th>Donor State</th>\n",
       "      <th>Donor ZIP</th>\n",
       "    </tr>\n",
       "  </thead>\n",
       "  <tbody>\n",
       "    <tr>\n",
       "      <th>46998</th>\n",
       "      <td>CA</td>\n",
       "      <td>San Diego</td>\n",
       "      <td>NaN</td>\n",
       "    </tr>\n",
       "    <tr>\n",
       "      <th>209938</th>\n",
       "      <td>MO</td>\n",
       "      <td>Greene</td>\n",
       "      <td>NaN</td>\n",
       "    </tr>\n",
       "    <tr>\n",
       "      <th>1065707</th>\n",
       "      <td>KS</td>\n",
       "      <td>Johnson</td>\n",
       "      <td>NaN</td>\n",
       "    </tr>\n",
       "    <tr>\n",
       "      <th>1419278</th>\n",
       "      <td>Askeaton</td>\n",
       "      <td>CA</td>\n",
       "      <td>NaN</td>\n",
       "    </tr>\n",
       "    <tr>\n",
       "      <th>1499861</th>\n",
       "      <td>Dubai</td>\n",
       "      <td>YT</td>\n",
       "      <td>NaN</td>\n",
       "    </tr>\n",
       "    <tr>\n",
       "      <th>1724539</th>\n",
       "      <td>Margaye</td>\n",
       "      <td>IA</td>\n",
       "      <td>NaN</td>\n",
       "    </tr>\n",
       "    <tr>\n",
       "      <th>1774627</th>\n",
       "      <td>Denver(CO</td>\n",
       "      <td>Denver</td>\n",
       "      <td>NaN</td>\n",
       "    </tr>\n",
       "    <tr>\n",
       "      <th>1916408</th>\n",
       "      <td>Boston</td>\n",
       "      <td>MA</td>\n",
       "      <td>NaN</td>\n",
       "    </tr>\n",
       "    <tr>\n",
       "      <th>2043479</th>\n",
       "      <td>Bloomfield</td>\n",
       "      <td>MI</td>\n",
       "      <td>NaN</td>\n",
       "    </tr>\n",
       "    <tr>\n",
       "      <th>2487511</th>\n",
       "      <td>WI</td>\n",
       "      <td>Sauk</td>\n",
       "      <td>NaN</td>\n",
       "    </tr>\n",
       "    <tr>\n",
       "      <th>2492079</th>\n",
       "      <td>AL</td>\n",
       "      <td>Walker</td>\n",
       "      <td>NaN</td>\n",
       "    </tr>\n",
       "    <tr>\n",
       "      <th>2633931</th>\n",
       "      <td>Kansas City</td>\n",
       "      <td>MO</td>\n",
       "      <td>NaN</td>\n",
       "    </tr>\n",
       "    <tr>\n",
       "      <th>2663433</th>\n",
       "      <td>Boston</td>\n",
       "      <td>MA</td>\n",
       "      <td>NaN</td>\n",
       "    </tr>\n",
       "    <tr>\n",
       "      <th>2678809</th>\n",
       "      <td>Andover</td>\n",
       "      <td>MA</td>\n",
       "      <td>NaN</td>\n",
       "    </tr>\n",
       "    <tr>\n",
       "      <th>2721961</th>\n",
       "      <td>MN</td>\n",
       "      <td>Dakota</td>\n",
       "      <td>NaN</td>\n",
       "    </tr>\n",
       "    <tr>\n",
       "      <th>2743534</th>\n",
       "      <td>55303</td>\n",
       "      <td>MN</td>\n",
       "      <td>NaN</td>\n",
       "    </tr>\n",
       "    <tr>\n",
       "      <th>2801809</th>\n",
       "      <td>Walkertown</td>\n",
       "      <td>NC</td>\n",
       "      <td>NaN</td>\n",
       "    </tr>\n",
       "    <tr>\n",
       "      <th>2893982</th>\n",
       "      <td>Voohees</td>\n",
       "      <td>NJ</td>\n",
       "      <td>NaN</td>\n",
       "    </tr>\n",
       "    <tr>\n",
       "      <th>2894009</th>\n",
       "      <td>Voohees</td>\n",
       "      <td>NJ</td>\n",
       "      <td>NaN</td>\n",
       "    </tr>\n",
       "    <tr>\n",
       "      <th>2897201</th>\n",
       "      <td>NJ</td>\n",
       "      <td>Camden</td>\n",
       "      <td>NaN</td>\n",
       "    </tr>\n",
       "    <tr>\n",
       "      <th>2938962</th>\n",
       "      <td>PA</td>\n",
       "      <td>Philadelphia</td>\n",
       "      <td>NaN</td>\n",
       "    </tr>\n",
       "    <tr>\n",
       "      <th>2951655</th>\n",
       "      <td>PA</td>\n",
       "      <td>Northampton</td>\n",
       "      <td>NaN</td>\n",
       "    </tr>\n",
       "    <tr>\n",
       "      <th>2975192</th>\n",
       "      <td>LA</td>\n",
       "      <td>Lafayette</td>\n",
       "      <td>NaN</td>\n",
       "    </tr>\n",
       "    <tr>\n",
       "      <th>3109122</th>\n",
       "      <td>TX</td>\n",
       "      <td>Grayson</td>\n",
       "      <td>NaN</td>\n",
       "    </tr>\n",
       "    <tr>\n",
       "      <th>3142276</th>\n",
       "      <td>VA</td>\n",
       "      <td>Goochland</td>\n",
       "      <td>NaN</td>\n",
       "    </tr>\n",
       "    <tr>\n",
       "      <th>3233868</th>\n",
       "      <td>Denver</td>\n",
       "      <td>CO</td>\n",
       "      <td>NaN</td>\n",
       "    </tr>\n",
       "    <tr>\n",
       "      <th>3248463</th>\n",
       "      <td>Denver</td>\n",
       "      <td>CO</td>\n",
       "      <td>NaN</td>\n",
       "    </tr>\n",
       "    <tr>\n",
       "      <th>3267514</th>\n",
       "      <td>Dallas</td>\n",
       "      <td>TX(Dallas</td>\n",
       "      <td>NaN</td>\n",
       "    </tr>\n",
       "    <tr>\n",
       "      <th>3306806</th>\n",
       "      <td>Kansas City</td>\n",
       "      <td>MO</td>\n",
       "      <td>NaN</td>\n",
       "    </tr>\n",
       "    <tr>\n",
       "      <th>3310919</th>\n",
       "      <td>Chanute</td>\n",
       "      <td>KS</td>\n",
       "      <td>NaN</td>\n",
       "    </tr>\n",
       "    <tr>\n",
       "      <th>3321089</th>\n",
       "      <td>Dublin</td>\n",
       "      <td>NS</td>\n",
       "      <td>NaN</td>\n",
       "    </tr>\n",
       "    <tr>\n",
       "      <th>3333914</th>\n",
       "      <td>Boston</td>\n",
       "      <td>MA</td>\n",
       "      <td>NaN</td>\n",
       "    </tr>\n",
       "    <tr>\n",
       "      <th>3340383</th>\n",
       "      <td>Boston</td>\n",
       "      <td>MA</td>\n",
       "      <td>NaN</td>\n",
       "    </tr>\n",
       "    <tr>\n",
       "      <th>3346134</th>\n",
       "      <td>Boston</td>\n",
       "      <td>MA</td>\n",
       "      <td>NaN</td>\n",
       "    </tr>\n",
       "    <tr>\n",
       "      <th>3366126</th>\n",
       "      <td>Baltimore</td>\n",
       "      <td>MD</td>\n",
       "      <td>NaN</td>\n",
       "    </tr>\n",
       "    <tr>\n",
       "      <th>3396540</th>\n",
       "      <td>MN</td>\n",
       "      <td>Ramsey</td>\n",
       "      <td>NaN</td>\n",
       "    </tr>\n",
       "    <tr>\n",
       "      <th>3439496</th>\n",
       "      <td>Alton</td>\n",
       "      <td>IL</td>\n",
       "      <td>NaN</td>\n",
       "    </tr>\n",
       "    <tr>\n",
       "      <th>3451575</th>\n",
       "      <td>Binghamton</td>\n",
       "      <td>NY</td>\n",
       "      <td>NaN</td>\n",
       "    </tr>\n",
       "    <tr>\n",
       "      <th>3472687</th>\n",
       "      <td>Winston Salem</td>\n",
       "      <td>NC</td>\n",
       "      <td>NaN</td>\n",
       "    </tr>\n",
       "    <tr>\n",
       "      <th>3478654</th>\n",
       "      <td>New York</td>\n",
       "      <td>NY</td>\n",
       "      <td>NaN</td>\n",
       "    </tr>\n",
       "    <tr>\n",
       "      <th>3481267</th>\n",
       "      <td>Moorestown</td>\n",
       "      <td>NJ</td>\n",
       "      <td>NaN</td>\n",
       "    </tr>\n",
       "    <tr>\n",
       "      <th>3542520</th>\n",
       "      <td>Kenilworth</td>\n",
       "      <td>NJ</td>\n",
       "      <td>NaN</td>\n",
       "    </tr>\n",
       "    <tr>\n",
       "      <th>3565135</th>\n",
       "      <td>#</td>\n",
       "      <td>PA</td>\n",
       "      <td>NaN</td>\n",
       "    </tr>\n",
       "    <tr>\n",
       "      <th>3589015</th>\n",
       "      <td>Philadelphia</td>\n",
       "      <td>PA</td>\n",
       "      <td>NaN</td>\n",
       "    </tr>\n",
       "    <tr>\n",
       "      <th>3629791</th>\n",
       "      <td>New York</td>\n",
       "      <td>NY</td>\n",
       "      <td>NaN</td>\n",
       "    </tr>\n",
       "    <tr>\n",
       "      <th>3664609</th>\n",
       "      <td>Princeton</td>\n",
       "      <td>NJ</td>\n",
       "      <td>NaN</td>\n",
       "    </tr>\n",
       "    <tr>\n",
       "      <th>3766007</th>\n",
       "      <td>ID</td>\n",
       "      <td>Blaine</td>\n",
       "      <td>NaN</td>\n",
       "    </tr>\n",
       "    <tr>\n",
       "      <th>3770108</th>\n",
       "      <td>Virginia Beach</td>\n",
       "      <td>VA</td>\n",
       "      <td>NaN</td>\n",
       "    </tr>\n",
       "    <tr>\n",
       "      <th>3770552</th>\n",
       "      <td>Virginia Beach</td>\n",
       "      <td>VA</td>\n",
       "      <td>NaN</td>\n",
       "    </tr>\n",
       "    <tr>\n",
       "      <th>3772126</th>\n",
       "      <td>Virginia Beach</td>\n",
       "      <td>VA</td>\n",
       "      <td>NaN</td>\n",
       "    </tr>\n",
       "    <tr>\n",
       "      <th>3772304</th>\n",
       "      <td>Virginia Beach</td>\n",
       "      <td>VA</td>\n",
       "      <td>NaN</td>\n",
       "    </tr>\n",
       "    <tr>\n",
       "      <th>3773543</th>\n",
       "      <td>Virginia Beach</td>\n",
       "      <td>VA</td>\n",
       "      <td>NaN</td>\n",
       "    </tr>\n",
       "    <tr>\n",
       "      <th>3776312</th>\n",
       "      <td>Virginia Beach</td>\n",
       "      <td>VA</td>\n",
       "      <td>NaN</td>\n",
       "    </tr>\n",
       "    <tr>\n",
       "      <th>3776805</th>\n",
       "      <td>Virginia Beach</td>\n",
       "      <td>VA</td>\n",
       "      <td>NaN</td>\n",
       "    </tr>\n",
       "  </tbody>\n",
       "</table>\n",
       "</div>"
      ],
      "text/plain": [
       "             Donor City   Donor State Donor ZIP\n",
       "46998                CA     San Diego       NaN\n",
       "209938               MO        Greene       NaN\n",
       "1065707              KS       Johnson       NaN\n",
       "1419278        Askeaton            CA       NaN\n",
       "1499861           Dubai            YT       NaN\n",
       "1724539         Margaye            IA       NaN\n",
       "1774627       Denver(CO        Denver       NaN\n",
       "1916408          Boston            MA       NaN\n",
       "2043479      Bloomfield            MI       NaN\n",
       "2487511              WI          Sauk       NaN\n",
       "2492079              AL        Walker       NaN\n",
       "2633931     Kansas City            MO       NaN\n",
       "2663433          Boston            MA       NaN\n",
       "2678809         Andover            MA       NaN\n",
       "2721961              MN        Dakota       NaN\n",
       "2743534           55303            MN       NaN\n",
       "2801809      Walkertown            NC       NaN\n",
       "2893982         Voohees            NJ       NaN\n",
       "2894009         Voohees            NJ       NaN\n",
       "2897201              NJ        Camden       NaN\n",
       "2938962              PA  Philadelphia       NaN\n",
       "2951655              PA   Northampton       NaN\n",
       "2975192              LA     Lafayette       NaN\n",
       "3109122              TX       Grayson       NaN\n",
       "3142276              VA     Goochland       NaN\n",
       "3233868          Denver            CO       NaN\n",
       "3248463          Denver            CO       NaN\n",
       "3267514          Dallas     TX(Dallas       NaN\n",
       "3306806     Kansas City            MO       NaN\n",
       "3310919         Chanute            KS       NaN\n",
       "3321089          Dublin            NS       NaN\n",
       "3333914          Boston            MA       NaN\n",
       "3340383          Boston            MA       NaN\n",
       "3346134          Boston            MA       NaN\n",
       "3366126       Baltimore            MD       NaN\n",
       "3396540              MN        Ramsey       NaN\n",
       "3439496           Alton            IL       NaN\n",
       "3451575      Binghamton            NY       NaN\n",
       "3472687   Winston Salem            NC       NaN\n",
       "3478654        New York            NY       NaN\n",
       "3481267      Moorestown            NJ       NaN\n",
       "3542520      Kenilworth            NJ       NaN\n",
       "3565135               #            PA       NaN\n",
       "3589015    Philadelphia            PA       NaN\n",
       "3629791        New York            NY       NaN\n",
       "3664609       Princeton            NJ       NaN\n",
       "3766007              ID        Blaine       NaN\n",
       "3770108  Virginia Beach            VA       NaN\n",
       "3770552  Virginia Beach            VA       NaN\n",
       "3772126  Virginia Beach            VA       NaN\n",
       "3772304  Virginia Beach            VA       NaN\n",
       "3773543  Virginia Beach            VA       NaN\n",
       "3776312  Virginia Beach            VA       NaN\n",
       "3776805  Virginia Beach            VA       NaN"
      ]
     },
     "execution_count": 35,
     "metadata": {},
     "output_type": "execute_result"
    }
   ],
   "source": [
    "# Filter for rows where 'Donor ZIP' is null and both 'Donor City' and 'Donor State' are not null\n",
    "filtered_rows = donations_df[(donations_df['Donor ZIP'].isnull()) & \n",
    "                     (donations_df['Donor City'].notnull()) & \n",
    "                     (donations_df['Donor State'].notnull())]\n",
    "\n",
    "# Selecting only 'Donor City' and 'Donor State' columns from the filtered rows\n",
    "result = filtered_rows[['Donor City', 'Donor State','Donor ZIP']]\n",
    "result"
   ]
  },
  {
   "cell_type": "code",
   "execution_count": 36,
   "id": "b4f7f47b-baea-490d-a5e5-8a91c4ff4ebd",
   "metadata": {},
   "outputs": [
    {
     "data": {
      "text/html": [
       "<div>\n",
       "<style scoped>\n",
       "    .dataframe tbody tr th:only-of-type {\n",
       "        vertical-align: middle;\n",
       "    }\n",
       "\n",
       "    .dataframe tbody tr th {\n",
       "        vertical-align: top;\n",
       "    }\n",
       "\n",
       "    .dataframe thead th {\n",
       "        text-align: right;\n",
       "    }\n",
       "</style>\n",
       "<table border=\"1\" class=\"dataframe\">\n",
       "  <thead>\n",
       "    <tr style=\"text-align: right;\">\n",
       "      <th></th>\n",
       "      <th>Donor City</th>\n",
       "      <th>Donor County</th>\n",
       "      <th>Donor State</th>\n",
       "      <th>Invalid ZIP Codes</th>\n",
       "    </tr>\n",
       "  </thead>\n",
       "  <tbody>\n",
       "    <tr>\n",
       "      <th>161</th>\n",
       "      <td>Barrington</td>\n",
       "      <td>Bristol</td>\n",
       "      <td>RI</td>\n",
       "      <td>2806</td>\n",
       "    </tr>\n",
       "    <tr>\n",
       "      <th>189</th>\n",
       "      <td>Calgary</td>\n",
       "      <td>NaN</td>\n",
       "      <td>AB</td>\n",
       "      <td>T2S0S7</td>\n",
       "    </tr>\n",
       "    <tr>\n",
       "      <th>326</th>\n",
       "      <td>Fairfield</td>\n",
       "      <td>Fairfield</td>\n",
       "      <td>CT</td>\n",
       "      <td>6828</td>\n",
       "    </tr>\n",
       "    <tr>\n",
       "      <th>641</th>\n",
       "      <td>Guildford</td>\n",
       "      <td>NaN</td>\n",
       "      <td>NaN</td>\n",
       "      <td>GU24RG</td>\n",
       "    </tr>\n",
       "    <tr>\n",
       "      <th>659</th>\n",
       "      <td>London</td>\n",
       "      <td>NaN</td>\n",
       "      <td>NaN</td>\n",
       "      <td>W120JT</td>\n",
       "    </tr>\n",
       "    <tr>\n",
       "      <th>...</th>\n",
       "      <td>...</td>\n",
       "      <td>...</td>\n",
       "      <td>...</td>\n",
       "      <td>...</td>\n",
       "    </tr>\n",
       "    <tr>\n",
       "      <th>3806896</th>\n",
       "      <td>Russell</td>\n",
       "      <td>NaN</td>\n",
       "      <td>MB</td>\n",
       "      <td>R0J 1W0</td>\n",
       "    </tr>\n",
       "    <tr>\n",
       "      <th>3807233</th>\n",
       "      <td>Chatham</td>\n",
       "      <td>Morris</td>\n",
       "      <td>NJ</td>\n",
       "      <td>7928</td>\n",
       "    </tr>\n",
       "    <tr>\n",
       "      <th>3807247</th>\n",
       "      <td>Toronto</td>\n",
       "      <td>NaN</td>\n",
       "      <td>ON</td>\n",
       "      <td>M6G 2A8</td>\n",
       "    </tr>\n",
       "    <tr>\n",
       "      <th>3807273</th>\n",
       "      <td>Long Valley</td>\n",
       "      <td>Morris</td>\n",
       "      <td>NJ</td>\n",
       "      <td>7853</td>\n",
       "    </tr>\n",
       "    <tr>\n",
       "      <th>3807344</th>\n",
       "      <td>Narragansett</td>\n",
       "      <td>Washington</td>\n",
       "      <td>RI</td>\n",
       "      <td>2882</td>\n",
       "    </tr>\n",
       "  </tbody>\n",
       "</table>\n",
       "<p>509910 rows × 4 columns</p>\n",
       "</div>"
      ],
      "text/plain": [
       "           Donor City Donor County Donor State Invalid ZIP Codes\n",
       "161        Barrington      Bristol          RI              2806\n",
       "189           Calgary          NaN          AB            T2S0S7\n",
       "326         Fairfield    Fairfield          CT              6828\n",
       "641         Guildford          NaN         NaN            GU24RG\n",
       "659            London          NaN         NaN            W120JT\n",
       "...               ...          ...         ...               ...\n",
       "3806896       Russell          NaN          MB           R0J 1W0\n",
       "3807233       Chatham       Morris          NJ              7928\n",
       "3807247       Toronto          NaN          ON           M6G 2A8\n",
       "3807273   Long Valley       Morris          NJ              7853\n",
       "3807344  Narragansett   Washington          RI              2882\n",
       "\n",
       "[509910 rows x 4 columns]"
      ]
     },
     "execution_count": 36,
     "metadata": {},
     "output_type": "execute_result"
    }
   ],
   "source": [
    "# Initialize the SearchEngine\n",
    "search = SearchEngine()\n",
    "\n",
    "# Define a function to check the validity of ZIP codes\n",
    "def check_validity(zip_codes):\n",
    "    invalid_zip_list = []\n",
    "    for zip_code in zip_codes:\n",
    "        # Check if the ZIP code is not missing and is valid (you can replace this with your validation logic)\n",
    "        if not pd.isna(zip_code) and (len(zip_code) != 5 or not zip_code.isdigit()):\n",
    "            invalid_zip_list.append(zip_code)\n",
    "    return invalid_zip_list\n",
    "\n",
    "# Split the ZIP codes into chunks\n",
    "num_workers = 4  # Adjust the number of worker threads as needed\n",
    "chunks = np.array_split(donations_df['Donor ZIP'].to_numpy().transpose(), num_workers)\n",
    "\n",
    "# Use concurrent.futures to process chunks in parallel\n",
    "with concurrent.futures.ThreadPoolExecutor(max_workers=num_workers) as executor:\n",
    "    results = list(executor.map(check_validity, chunks))\n",
    "\n",
    "# Combine the results into a single list of invalid ZIP codes\n",
    "invalid_zips = []\n",
    "for result in results:\n",
    "    invalid_zips.extend(result)\n",
    "\n",
    "# Create a DataFrame containing the invalid ZIP codes\n",
    "invalid_zips_df = pd.DataFrame({'Invalid ZIP Codes': invalid_zips})\n",
    "\n",
    "# Filter the original DataFrame to only include rows with invalid ZIP codes\n",
    "invalid_zips_data = donations_df[donations_df['Donor ZIP'].isin(invalid_zips)]\n",
    "\n",
    "# Create a new DataFrame with the selected columns and make a copy\n",
    "invalid_zips_df = invalid_zips_data[['Donor City', 'Donor County', 'Donor State', 'Donor ZIP']].copy()\n",
    "\n",
    "# Rename the 'Donor ZIP' column to 'Invalid ZIP Codes'\n",
    "invalid_zips_df.rename(columns={'Donor ZIP': 'Invalid ZIP Codes'}, inplace=True)\n",
    "\n",
    "# Display the DataFrame\n",
    "invalid_zips_df"
   ]
  },
  {
   "cell_type": "code",
   "execution_count": 37,
   "id": "0586a27c-8e33-459b-965a-10fbc0427130",
   "metadata": {},
   "outputs": [
    {
     "data": {
      "text/plain": [
       "1007"
      ]
     },
     "execution_count": 37,
     "metadata": {},
     "output_type": "execute_result"
    }
   ],
   "source": [
    "num_nulls = donations_df['Donor ZIP'].isnull().sum()\n",
    "num_nulls"
   ]
  },
  {
   "cell_type": "code",
   "execution_count": 38,
   "id": "42ba0237-b56e-46ee-a16a-c435d3df547a",
   "metadata": {},
   "outputs": [
    {
     "data": {
      "text/plain": [
       "0          39202\n",
       "1          35209\n",
       "2          35209\n",
       "3          75034\n",
       "4          78737\n",
       "           ...  \n",
       "3807371    53711\n",
       "3807372    52302\n",
       "3807373    53719\n",
       "3807374    55406\n",
       "3807375    53186\n",
       "Name: Donor ZIP, Length: 3807376, dtype: object"
      ]
     },
     "execution_count": 38,
     "metadata": {},
     "output_type": "execute_result"
    }
   ],
   "source": [
    "donations_df['Donor ZIP']"
   ]
  },
  {
   "cell_type": "markdown",
   "id": "57b92429-8c32-47ef-a119-f15f4aeebce3",
   "metadata": {},
   "source": [
    "# Donor County"
   ]
  },
  {
   "cell_type": "code",
   "execution_count": 39,
   "id": "e58510fb-0ea8-4b8b-8158-dffcc8e4f481",
   "metadata": {
    "tags": []
   },
   "outputs": [
    {
     "data": {
      "text/html": [
       "<div>\n",
       "<style scoped>\n",
       "    .dataframe tbody tr th:only-of-type {\n",
       "        vertical-align: middle;\n",
       "    }\n",
       "\n",
       "    .dataframe tbody tr th {\n",
       "        vertical-align: top;\n",
       "    }\n",
       "\n",
       "    .dataframe thead th {\n",
       "        text-align: right;\n",
       "    }\n",
       "</style>\n",
       "<table border=\"1\" class=\"dataframe\">\n",
       "  <thead>\n",
       "    <tr style=\"text-align: right;\">\n",
       "      <th></th>\n",
       "      <th>Security Category Name</th>\n",
       "      <th>Event ID</th>\n",
       "      <th>Public Event Name</th>\n",
       "      <th>Fiscal Year</th>\n",
       "      <th>Event Date</th>\n",
       "      <th>Campaign Title</th>\n",
       "      <th>Campaign ID</th>\n",
       "      <th>Gift Amount($)</th>\n",
       "      <th>Date Recorded</th>\n",
       "      <th>Gift Type</th>\n",
       "      <th>Gift Payment Method</th>\n",
       "      <th>Offline Status</th>\n",
       "      <th>Soft Credit Type</th>\n",
       "      <th>Is Registration?</th>\n",
       "      <th>Donor ConsID</th>\n",
       "      <th>Donor Member ID</th>\n",
       "      <th>Donor Affiliate Code</th>\n",
       "      <th>Donor Gender</th>\n",
       "      <th>Donor Accept Email</th>\n",
       "      <th>Donor Opt-out Date</th>\n",
       "      <th>Donor Opt-out Method</th>\n",
       "      <th>Donor Email Status</th>\n",
       "      <th>Donor City</th>\n",
       "      <th>Donor State</th>\n",
       "      <th>Donor County</th>\n",
       "      <th>Donor ZIP</th>\n",
       "      <th>Donor Employer</th>\n",
       "      <th>Donor Connection to MS</th>\n",
       "      <th>Participant Contact ID</th>\n",
       "      <th>Participant Member ID</th>\n",
       "      <th>Participation Type Name</th>\n",
       "      <th>Registration Active Status</th>\n",
       "      <th>Registration Date</th>\n",
       "      <th>Participant Goal($)</th>\n",
       "      <th>Is Prior Participant</th>\n",
       "      <th>Is Team Captain</th>\n",
       "      <th>Additional Gift Amount($)</th>\n",
       "      <th>Team Name</th>\n",
       "      <th>Team</th>\n",
       "      <th>Team Creation Date</th>\n",
       "      <th>Original Value Transacted</th>\n",
       "      <th>Net Transaction Amount</th>\n",
       "      <th>Ledger Transaction Amount</th>\n",
       "      <th>Proxy Type</th>\n",
       "      <th>User Confirmation Code</th>\n",
       "      <th>Source Code Type</th>\n",
       "      <th>Source Code Text</th>\n",
       "      <th>Sub Source Code Text</th>\n",
       "      <th>Batch ID</th>\n",
       "    </tr>\n",
       "  </thead>\n",
       "  <tbody>\n",
       "    <tr>\n",
       "      <th>46998</th>\n",
       "      <td>CAS Bike Events</td>\n",
       "      <td>18684</td>\n",
       "      <td>Bike MS Bay to Bay Tour 2012</td>\n",
       "      <td>2013</td>\n",
       "      <td>10/20/2012 15:18</td>\n",
       "      <td>CAS 2012 Bike MS</td>\n",
       "      <td>33413</td>\n",
       "      <td>100.0</td>\n",
       "      <td>2012-10-04 12:26:00</td>\n",
       "      <td>Check</td>\n",
       "      <td>confirmed</td>\n",
       "      <td>Teamraiser Participant Gift</td>\n",
       "      <td>FALSE</td>\n",
       "      <td>11567220</td>\n",
       "      <td>43323309</td>\n",
       "      <td>CAS</td>\n",
       "      <td>Male</td>\n",
       "      <td>Unknown</td>\n",
       "      <td>4/28/2015 17:17</td>\n",
       "      <td>Unsubscribe Link</td>\n",
       "      <td>Good</td>\n",
       "      <td>San Diego</td>\n",
       "      <td>CA</td>\n",
       "      <td>San Diego</td>\n",
       "      <td>92130</td>\n",
       "      <td>NaN</td>\n",
       "      <td>Sibling has MS</td>\n",
       "      <td>14818518</td>\n",
       "      <td>58403331.0</td>\n",
       "      <td>Participant - No Bus</td>\n",
       "      <td>Active</td>\n",
       "      <td>6/14/2012 13:42</td>\n",
       "      <td>2000</td>\n",
       "      <td>NaN</td>\n",
       "      <td>TRUE</td>\n",
       "      <td>0</td>\n",
       "      <td>DAs Against MS</td>\n",
       "      <td>304556</td>\n",
       "      <td>304556</td>\n",
       "      <td>100</td>\n",
       "      <td>100.0</td>\n",
       "      <td>100</td>\n",
       "      <td>TeamRaiser Participant</td>\n",
       "      <td>1638-33413-1-10905487-11254336</td>\n",
       "      <td>NaN</td>\n",
       "      <td>NaN</td>\n",
       "      <td>NaN</td>\n",
       "      <td>CAS09272012RBDB893</td>\n",
       "      <td>NaN</td>\n",
       "    </tr>\n",
       "    <tr>\n",
       "      <th>175371</th>\n",
       "      <td>ILD Bike Events</td>\n",
       "      <td>20718</td>\n",
       "      <td>ILD Bike MS: Tour de Farms 2013</td>\n",
       "      <td>2013</td>\n",
       "      <td>6/22/2013 11:50</td>\n",
       "      <td>ILD Bike MS 2013 Donation Campaign</td>\n",
       "      <td>36072</td>\n",
       "      <td>255.0</td>\n",
       "      <td>2013-08-22 13:34:00</td>\n",
       "      <td>Offline</td>\n",
       "      <td>Cash</td>\n",
       "      <td>confirmed</td>\n",
       "      <td>Teamraiser Team Gift</td>\n",
       "      <td>FALSE</td>\n",
       "      <td>5583785</td>\n",
       "      <td>45956215</td>\n",
       "      <td>ILD</td>\n",
       "      <td>Female</td>\n",
       "      <td>FALSE</td>\n",
       "      <td>6/10/2013 19:32</td>\n",
       "      <td>Data Sync</td>\n",
       "      <td>Unknown</td>\n",
       "      <td>Chicago</td>\n",
       "      <td>IL</td>\n",
       "      <td>Cook - District 11</td>\n",
       "      <td>60643</td>\n",
       "      <td>LLS</td>\n",
       "      <td>I have MS</td>\n",
       "      <td>NaN</td>\n",
       "      <td>NaN</td>\n",
       "      <td>NaN</td>\n",
       "      <td>NaN</td>\n",
       "      <td>NaN</td>\n",
       "      <td>0</td>\n",
       "      <td>NaN</td>\n",
       "      <td>NaN</td>\n",
       "      <td>0</td>\n",
       "      <td>Team Kroeschell</td>\n",
       "      <td>314577</td>\n",
       "      <td>12/3/2012 8:09</td>\n",
       "      <td>255.0</td>\n",
       "      <td>255</td>\n",
       "      <td>255</td>\n",
       "      <td>TeamRaiser Team</td>\n",
       "      <td>1638-36072-1-12425069-12875974</td>\n",
       "      <td>6</td>\n",
       "      <td>intranet.nmss.org</td>\n",
       "      <td>/Pages/Home.aspx</td>\n",
       "      <td>ILD082113B114JF</td>\n",
       "    </tr>\n",
       "  </tbody>\n",
       "</table>\n",
       "</div>"
      ],
      "text/plain": [
       "       Security Category Name Event ID                Public Event Name  \\\n",
       "46998         CAS Bike Events    18684     Bike MS Bay to Bay Tour 2012   \n",
       "175371        ILD Bike Events    20718  ILD Bike MS: Tour de Farms 2013   \n",
       "\n",
       "        Fiscal Year        Event Date                      Campaign Title  \\\n",
       "46998          2013  10/20/2012 15:18                   CAS 2012 Bike MS    \n",
       "175371         2013   6/22/2013 11:50  ILD Bike MS 2013 Donation Campaign   \n",
       "\n",
       "       Campaign ID Gift Amount($)       Date Recorded Gift Type  \\\n",
       "46998        33413          100.0 2012-10-04 12:26:00     Check   \n",
       "175371       36072          255.0 2013-08-22 13:34:00   Offline   \n",
       "\n",
       "       Gift Payment Method               Offline Status      Soft Credit Type  \\\n",
       "46998            confirmed  Teamraiser Participant Gift                 FALSE   \n",
       "175371                Cash                    confirmed  Teamraiser Team Gift   \n",
       "\n",
       "       Is Registration? Donor ConsID Donor Member ID Donor Affiliate Code  \\\n",
       "46998          11567220     43323309             CAS                 Male   \n",
       "175371            FALSE      5583785        45956215                  ILD   \n",
       "\n",
       "       Donor Gender Donor Accept Email Donor Opt-out Date  \\\n",
       "46998       Unknown    4/28/2015 17:17   Unsubscribe Link   \n",
       "175371       Female              FALSE    6/10/2013 19:32   \n",
       "\n",
       "       Donor Opt-out Method Donor Email Status Donor City Donor State  \\\n",
       "46998                  Good          San Diego         CA   San Diego   \n",
       "175371            Data Sync            Unknown    Chicago          IL   \n",
       "\n",
       "              Donor County Donor ZIP  Donor Employer Donor Connection to MS  \\\n",
       "46998                92130       NaN  Sibling has MS               14818518   \n",
       "175371  Cook - District 11     60643             LLS              I have MS   \n",
       "\n",
       "        Participant Contact ID Participant Member ID Participation Type Name  \\\n",
       "46998               58403331.0  Participant - No Bus                  Active   \n",
       "175371                     NaN                   NaN                     NaN   \n",
       "\n",
       "       Registration Active Status Registration Date Participant Goal($)  \\\n",
       "46998             6/14/2012 13:42              2000                 NaN   \n",
       "175371                        NaN               NaN                   0   \n",
       "\n",
       "       Is Prior Participant Is Team Captain Additional Gift Amount($)  \\\n",
       "46998                  TRUE               0            DAs Against MS   \n",
       "175371                  NaN             NaN                         0   \n",
       "\n",
       "              Team Name    Team Team Creation Date Original Value Transacted  \\\n",
       "46998            304556  304556                100                     100.0   \n",
       "175371  Team Kroeschell  314577     12/3/2012 8:09                     255.0   \n",
       "\n",
       "       Net Transaction Amount Ledger Transaction Amount  \\\n",
       "46998                     100    TeamRaiser Participant   \n",
       "175371                    255                       255   \n",
       "\n",
       "                            Proxy Type          User Confirmation Code  \\\n",
       "46998   1638-33413-1-10905487-11254336                             NaN   \n",
       "175371                 TeamRaiser Team  1638-36072-1-12425069-12875974   \n",
       "\n",
       "       Source Code Type   Source Code Text Sub Source Code Text  \\\n",
       "46998               NaN                NaN   CAS09272012RBDB893   \n",
       "175371                6  intranet.nmss.org     /Pages/Home.aspx   \n",
       "\n",
       "               Batch ID  \n",
       "46998               NaN  \n",
       "175371  ILD082113B114JF  "
      ]
     },
     "execution_count": 39,
     "metadata": {},
     "output_type": "execute_result"
    }
   ],
   "source": [
    "# Using regular expressions to filter for values that contain a number in 'Donor County'\n",
    "values_with_numbers = donations_df[donations_df['Donor County'].str.contains(r'\\d', na=False)]\n",
    "# Set display option to show all columns\n",
    "pd.set_option('display.max_columns', None)\n",
    "values_with_numbers.head(2)"
   ]
  },
  {
   "cell_type": "code",
   "execution_count": 40,
   "id": "2227144e-d304-4113-aba2-b695b4bd9d30",
   "metadata": {
    "scrolled": true
   },
   "outputs": [
    {
     "data": {
      "text/plain": [
       "74047"
      ]
     },
     "execution_count": 40,
     "metadata": {},
     "output_type": "execute_result"
    }
   ],
   "source": [
    "num_nulls = donations_df['Donor County'].isnull().sum()\n",
    "num_nulls"
   ]
  },
  {
   "cell_type": "code",
   "execution_count": 41,
   "id": "51bf320b-1221-4521-a0bd-8126e1fa571e",
   "metadata": {},
   "outputs": [],
   "source": [
    "# Initialize the SearchEngine\n",
    "search = SearchEngine()\n",
    "\n",
    "# Create a function to get the county based on ZIP code\n",
    "def get_county(zipcode):\n",
    "    result = search.by_zipcode(zipcode)\n",
    "    if result:\n",
    "        return result.to_dict()['county']\n",
    "    else:\n",
    "        return None  # Return None for missing county information\n",
    "        \n",
    "# Fill in missing 'Donor County' values based on ZIP codes\n",
    "donations_df['Donor County'] = donations_df.apply(lambda row: get_county(row['Donor ZIP']) if pd.isnull(row['Donor County']) else row['Donor County'], axis=1)"
   ]
  },
  {
   "cell_type": "markdown",
   "id": "de60f0c8-39eb-42df-9e17-a886f847739a",
   "metadata": {},
   "source": [
    "# State"
   ]
  },
  {
   "cell_type": "code",
   "execution_count": 42,
   "id": "9193ff60-2799-4153-bf1c-f981a59f855e",
   "metadata": {
    "tags": []
   },
   "outputs": [
    {
     "name": "stdout",
     "output_type": "stream",
     "text": [
      "['MS' 'AL' 'TX' 'AR' 'OK' 'CA' 'MD' 'LA' 'WI' 'CO' 'KY' 'WA' 'GA' 'TN'\n",
      " 'RI' 'NC' 'VA' 'AB' 'NY' 'FL' 'OH' 'UT' 'MN' 'CT' 'DE' 'AZ' 'MO' 'SC' nan\n",
      " 'AK' 'MA' 'SD' 'IN' 'MT' 'AE' 'NJ' 'IL' 'NH' 'MI' 'NM' 'IA' 'OR' 'HI'\n",
      " 'KS' 'PA' 'DC' 'NV' 'SK' 'Lafayette' 'WY' 'QC' 'ME' 'NE' 'ID' 'VT' 'WV'\n",
      " 'MB' 'ON' 'ND' 'PR' 'BC' 'Corvallis' 'NS' 'Phoenix' 'AP' 'VI' 'Nsw' 'NB'\n",
      " 'MP' 'San Diego' 'GU' 'Grand Junction' 'AA' 'YT' 'NU' 'Greene' 'NT'\n",
      " 'Abita Springs' 'NL' 'PE' 'Alicante' 'Corona Del Mar' 'Columbia Heights'\n",
      " 'PW' 'MJ' 'Mooresboro' 'Ridgefield Park' 'Frankfurt Am Main' 'Cuyahoga'\n",
      " 'Nogales' 'Canyon Lake' 'HM' 'Wimberley' 'Texas City' 'Austin' 'Blanco'\n",
      " 'Edinburg' 'MH' 'Le Pouldu' 'Dallas' 'Hilton Head Island' 'Greendale'\n",
      " '716 Key Route Blvd' 'Naples' 'Fort Collins' 'Parker' 'Galway' 'Waverly'\n",
      " 'Ontario' 'Satellite Beach' 'antioquia' 'Newport Beach' 'Johnson' 'FM'\n",
      " 'Belews Creek' 'San Mateo' 'Midwest City' 'Houston' 'Claremore'\n",
      " 'Rockwall' 'Lawrenceville' 'AS' 'Sacramento' 'Denver' 'Newport'\n",
      " 'Carrollton' 'Maple Grove' 'Morristown' 'PA(Montgomery' 'Delran'\n",
      " 'Ardmore' 'Clayton' 'San Antonio' 'Seattle' 'Sauk' 'Walker' 'Dakota'\n",
      " 'Monmouth' 'North Ridgeville' 'Camden' '1601 Walnut Street'\n",
      " 'Philadelphia' 'Northampton' 'Ring' 'Graford' 'Grayson' 'Goochland'\n",
      " 'TX(Dallas' 'Springfield' 'Ramsey' 'Columbia' 'Canton' 'Greensboro'\n",
      " 'Katy' 'Fort Worth' 'west haven' 'Blaine' 'Chicago']\n"
     ]
    }
   ],
   "source": [
    "# Donor State dirty value\n",
    "max_length_value = donations_df['Donor State'].astype(str).apply(len).idxmax()\n",
    "max_length = donations_df['Donor State'].astype(str).apply(len).max()\n",
    "value_with_max_length = donations_df.at[max_length_value, 'Donor State']\n",
    "value_with_max_length\n",
    "\n",
    "unique_values = donations_df['Donor State'].unique()\n",
    "print(unique_values)"
   ]
  },
  {
   "cell_type": "code",
   "execution_count": 43,
   "id": "b2c3544a-5ea9-408d-8e1f-a82c28d24f53",
   "metadata": {
    "tags": []
   },
   "outputs": [],
   "source": [
    "#Donor State\n",
    "# Create a dictionary to map locations to state names\n",
    "us_state_abbreviations = {\n",
    "    'Lafayette': 'LA',\n",
    "    'Corvallis': 'OR',\n",
    "    'Phoenix': 'AZ',\n",
    "    'Mooresboro': 'NC',\n",
    "    'Ridgefield Park': 'NJ',\n",
    "    'Nogales': 'AZ',\n",
    "    'Canyon Lake': 'TX',\n",
    "    'Wimberley': 'TX',\n",
    "    'Texas City': 'TX',\n",
    "    'Austin': 'TX',\n",
    "    'Blanco': 'TX',\n",
    "    'Edinburg': 'TX',\n",
    "    'Dallas': 'TX',\n",
    "    'Hilton Head Island': 'SC',\n",
    "    'Greendale': 'WI',\n",
    "    'Naples': 'FL',\n",
    "    'Fort Collins': 'CO',\n",
    "    'Parker': 'CO',\n",
    "    'Waverly': 'IA',\n",
    "    'Ontario': 'CA',\n",
    "    'Satellite Beach': 'FL',\n",
    "    'Newport Beach': 'CA',\n",
    "    'Belews Creek': 'NC',\n",
    "    'San Mateo': 'CA',\n",
    "    'Midwest City': 'OK',\n",
    "    'Houston': 'TX',\n",
    "    'Claremore': 'OK',\n",
    "    'Rockwall': 'TX',\n",
    "    'Lawrenceville': 'GA',\n",
    "    'Sacramento': 'CA',\n",
    "    'Denver': 'CO',\n",
    "    'Carrollton': 'TX',\n",
    "    'Maple Grove': 'MN',\n",
    "    'Morristown': 'NJ',\n",
    "    'Delran': 'NJ',\n",
    "    'Ardmore': 'PA',\n",
    "    'Clayton': 'MO',\n",
    "    'San Antonio': 'TX',\n",
    "    'Seattle': 'WA',\n",
    "    'Walker': 'LA',\n",
    "    'Monmouth': 'NJ',\n",
    "    'North Ridgeville': 'OH',\n",
    "    'Philadelphia': 'PA',\n",
    "    'Northampton': 'MA',\n",
    "    'Graford': 'TX',\n",
    "    'Grayson': 'KY',\n",
    "    'Goochland': 'VA',\n",
    "    'Greensboro': 'NC',\n",
    "    'Katy': 'TX',\n",
    "    'Fort Worth': 'TX',\n",
    "    'West Haven': 'CT',\n",
    "    'Blaine': 'MN',\n",
    "    'Chicago': 'IL',\n",
    "    'San Diego': 'CA',\n",
    "    'Guam': 'GU',\n",
    "    'Armed Forces Americas': 'AA',\n",
    "    'American Samoa': 'AS',\n",
    "    'Federated States of Micronesia': 'FM',\n",
    "    'Heard Island and McDonald Islands': 'HM',\n",
    "    'Marshall Islands': 'MH',\n",
    "    'North Dakota': 'ND',  # Assuming 'Dakota' refers to North Dakota\n",
    "    'South Dakota': 'SD',  # Assuming 'Dakota' refers to South Dakota\n",
    "}\n",
    "\n",
    "# Replace values in 'Donor State' column with state abbreviation from the dictionary\n",
    "donations_df['Donor State'] = donations_df['Donor State'].replace(us_state_abbreviations)"
   ]
  },
  {
   "cell_type": "code",
   "execution_count": 44,
   "id": "ae5a90e5-9452-4fa2-8537-2e31520776aa",
   "metadata": {},
   "outputs": [
    {
     "name": "stdout",
     "output_type": "stream",
     "text": [
      "Maximum number of characters in the 'state' column: 18.0\n",
      "State(s) with the maximum number of characters: ['716 Key Route Blvd' '1601 Walnut Street']\n"
     ]
    }
   ],
   "source": [
    "max_state_length = donations_df['Donor State'].str.len().max()\n",
    "max_length_states = donations_df[donations_df['Donor State'].str.len() == max_state_length]['Donor State'].unique()\n",
    "\n",
    "print(\"Maximum number of characters in the 'state' column:\", max_state_length)\n",
    "print(\"State(s) with the maximum number of characters:\", max_length_states)"
   ]
  },
  {
   "cell_type": "code",
   "execution_count": 45,
   "id": "d2e1b629-35d6-4864-87f3-e881634849a5",
   "metadata": {},
   "outputs": [
    {
     "data": {
      "text/plain": [
       "26317"
      ]
     },
     "execution_count": 45,
     "metadata": {},
     "output_type": "execute_result"
    }
   ],
   "source": [
    "num_nulls = donations_df['Donor State'].isnull().sum()\n",
    "num_nulls"
   ]
  },
  {
   "cell_type": "code",
   "execution_count": 46,
   "id": "78001819-5419-4d30-8214-dd077ec2a782",
   "metadata": {},
   "outputs": [
    {
     "data": {
      "text/html": [
       "<div>\n",
       "<style scoped>\n",
       "    .dataframe tbody tr th:only-of-type {\n",
       "        vertical-align: middle;\n",
       "    }\n",
       "\n",
       "    .dataframe tbody tr th {\n",
       "        vertical-align: top;\n",
       "    }\n",
       "\n",
       "    .dataframe thead th {\n",
       "        text-align: right;\n",
       "    }\n",
       "</style>\n",
       "<table border=\"1\" class=\"dataframe\">\n",
       "  <thead>\n",
       "    <tr style=\"text-align: right;\">\n",
       "      <th></th>\n",
       "      <th>Donor ZIP</th>\n",
       "      <th>Donor State</th>\n",
       "    </tr>\n",
       "  </thead>\n",
       "  <tbody>\n",
       "    <tr>\n",
       "      <th>1382725</th>\n",
       "      <td>19122</td>\n",
       "      <td>PA</td>\n",
       "    </tr>\n",
       "    <tr>\n",
       "      <th>2993399</th>\n",
       "      <td>20910</td>\n",
       "      <td>MD</td>\n",
       "    </tr>\n",
       "    <tr>\n",
       "      <th>3520875</th>\n",
       "      <td>44223</td>\n",
       "      <td>OH</td>\n",
       "    </tr>\n",
       "    <tr>\n",
       "      <th>316168</th>\n",
       "      <td>55426</td>\n",
       "      <td>MN</td>\n",
       "    </tr>\n",
       "    <tr>\n",
       "      <th>2379557</th>\n",
       "      <td>77210</td>\n",
       "      <td>TX</td>\n",
       "    </tr>\n",
       "  </tbody>\n",
       "</table>\n",
       "</div>"
      ],
      "text/plain": [
       "        Donor ZIP Donor State\n",
       "1382725     19122          PA\n",
       "2993399     20910          MD\n",
       "3520875     44223          OH\n",
       "316168      55426          MN\n",
       "2379557     77210          TX"
      ]
     },
     "execution_count": 46,
     "metadata": {},
     "output_type": "execute_result"
    }
   ],
   "source": [
    "# Initialize the SearchEngine\n",
    "# Example function to impute missing state based on ZIP code\n",
    "def impute_state_from_zip(row):\n",
    "    if pd.isnull(row['Donor State']) and not pd.isnull(row['Donor ZIP']):\n",
    "        # Use the uszipcode library to search by ZIP code\n",
    "        zipcode_info = search.by_zipcode(row['Donor ZIP'])\n",
    "        if zipcode_info:\n",
    "            # If there's a result, return the state associated with the ZIP code\n",
    "            return zipcode_info.state\n",
    "    # Return the original state if it's not missing or if ZIP code info wasn't found\n",
    "    return row['Donor State']\n",
    "\n",
    "# Apply the function to impute missing 'Donor State' values\n",
    "donations_df['Donor State'] = donations_df.apply(impute_state_from_zip, axis=1)\n",
    "\n",
    "# Check the result\n",
    "donations_df[['Donor ZIP', 'Donor State']].sample(5)\n"
   ]
  },
  {
   "cell_type": "code",
   "execution_count": 51,
   "id": "fec54ff7-e19b-49fd-97d7-3c669f9f740d",
   "metadata": {},
   "outputs": [
    {
     "name": "stdout",
     "output_type": "stream",
     "text": [
      "Unique values in 'state' column with more than 2 characters: []\n"
     ]
    }
   ],
   "source": [
    "states_with_more_than_2_chars = donations_df[donations_df['Donor State'].str.len() > 2]['Donor State'].unique()\n",
    "print(\"Unique values in 'state' column with more than 2 characters:\", states_with_more_than_2_chars)"
   ]
  },
  {
   "cell_type": "code",
   "execution_count": 48,
   "id": "089d3c1c-c9be-4a8a-a045-40da069f8a41",
   "metadata": {},
   "outputs": [],
   "source": [
    "# Delete all char after \"(\"\n",
    "donations_df['Donor State'] = donations_df['Donor State'].str.split('(').str[0]"
   ]
  },
  {
   "cell_type": "code",
   "execution_count": 50,
   "id": "c78d267d-eb82-47ba-a714-dc32e196fca1",
   "metadata": {},
   "outputs": [],
   "source": [
    "# Adjusted code to handle NaN values and strings\n",
    "donations_df['Donor State'] = donations_df['Donor State'].apply(lambda x: x if isinstance(x, str) and len(x) <= 2 else np.nan)"
   ]
  },
  {
   "cell_type": "markdown",
   "id": "f684bb75-cd82-449e-805a-3c975b1e2770",
   "metadata": {},
   "source": [
    "# Donor City"
   ]
  },
  {
   "cell_type": "code",
   "execution_count": 52,
   "id": "8a6580c9-9810-4b5d-a2df-f95782cddbea",
   "metadata": {
    "tags": []
   },
   "outputs": [
    {
     "data": {
      "text/html": [
       "<div>\n",
       "<style scoped>\n",
       "    .dataframe tbody tr th:only-of-type {\n",
       "        vertical-align: middle;\n",
       "    }\n",
       "\n",
       "    .dataframe tbody tr th {\n",
       "        vertical-align: top;\n",
       "    }\n",
       "\n",
       "    .dataframe thead th {\n",
       "        text-align: right;\n",
       "    }\n",
       "</style>\n",
       "<table border=\"1\" class=\"dataframe\">\n",
       "  <thead>\n",
       "    <tr style=\"text-align: right;\">\n",
       "      <th></th>\n",
       "      <th>Donor ZIP</th>\n",
       "      <th>Donor City</th>\n",
       "    </tr>\n",
       "  </thead>\n",
       "  <tbody>\n",
       "    <tr>\n",
       "      <th>24609</th>\n",
       "      <td>N0H1C0</td>\n",
       "      <td>R.R. 1 Berkeley</td>\n",
       "    </tr>\n",
       "    <tr>\n",
       "      <th>32423</th>\n",
       "      <td>SE42941</td>\n",
       "      <td>S-429 41 Saro</td>\n",
       "    </tr>\n",
       "    <tr>\n",
       "      <th>36543</th>\n",
       "      <td>CA</td>\n",
       "      <td>5375 Bancroft Ave</td>\n",
       "    </tr>\n",
       "    <tr>\n",
       "      <th>36545</th>\n",
       "      <td>CA</td>\n",
       "      <td>5375 Bancroft Ave</td>\n",
       "    </tr>\n",
       "    <tr>\n",
       "      <th>49964</th>\n",
       "      <td>92880</td>\n",
       "      <td>Corona Ca, 92880</td>\n",
       "    </tr>\n",
       "    <tr>\n",
       "      <th>...</th>\n",
       "      <td>...</td>\n",
       "      <td>...</td>\n",
       "    </tr>\n",
       "    <tr>\n",
       "      <th>3781015</th>\n",
       "      <td>D18T3K1</td>\n",
       "      <td>Dublin 18</td>\n",
       "    </tr>\n",
       "    <tr>\n",
       "      <th>3781047</th>\n",
       "      <td>14300</td>\n",
       "      <td>Praha 12</td>\n",
       "    </tr>\n",
       "    <tr>\n",
       "      <th>3790574</th>\n",
       "      <td>98027</td>\n",
       "      <td>246th Ave SE</td>\n",
       "    </tr>\n",
       "    <tr>\n",
       "      <th>3791538</th>\n",
       "      <td>99515</td>\n",
       "      <td>10380 Nigh Road</td>\n",
       "    </tr>\n",
       "    <tr>\n",
       "      <th>3801927</th>\n",
       "      <td>60201</td>\n",
       "      <td>60201</td>\n",
       "    </tr>\n",
       "  </tbody>\n",
       "</table>\n",
       "<p>416 rows × 2 columns</p>\n",
       "</div>"
      ],
      "text/plain": [
       "        Donor ZIP         Donor City\n",
       "24609      N0H1C0    R.R. 1 Berkeley\n",
       "32423     SE42941      S-429 41 Saro\n",
       "36543          CA  5375 Bancroft Ave\n",
       "36545          CA  5375 Bancroft Ave\n",
       "49964       92880   Corona Ca, 92880\n",
       "...           ...                ...\n",
       "3781015   D18T3K1          Dublin 18\n",
       "3781047     14300           Praha 12\n",
       "3790574     98027       246th Ave SE\n",
       "3791538     99515    10380 Nigh Road\n",
       "3801927     60201              60201\n",
       "\n",
       "[416 rows x 2 columns]"
      ]
     },
     "execution_count": 52,
     "metadata": {},
     "output_type": "execute_result"
    }
   ],
   "source": [
    "# Donor City dirty value\n",
    "max_length_value = donations_df['Donor City'].astype(str).apply(len).idxmax()\n",
    "max_length = donations_df['Donor City'].astype(str).apply(len).max()\n",
    "value_with_max_length = donations_df.at[max_length_value, 'Donor City']\n",
    "value_with_max_length\n",
    "\n",
    "# Using regular expressions to filter for values that contain a number\n",
    "values_with_numbers = donations_df[donations_df['Donor City'].str.contains(r'\\d', na=False)][['Donor ZIP','Donor City']]\n",
    "# Print each value on a new line\n",
    "values_with_numbers"
   ]
  },
  {
   "cell_type": "code",
   "execution_count": 53,
   "id": "02f4cdc5-f71a-43e9-8aea-209a3a9ccfbc",
   "metadata": {},
   "outputs": [
    {
     "data": {
      "text/plain": [
       "982"
      ]
     },
     "execution_count": 53,
     "metadata": {},
     "output_type": "execute_result"
    }
   ],
   "source": [
    "num_nulls = donations_df['Donor City'].isnull().sum()\n",
    "num_nulls"
   ]
  },
  {
   "cell_type": "code",
   "execution_count": 54,
   "id": "3f0a63b0-6ad5-4982-89f4-41eb2d509b8c",
   "metadata": {},
   "outputs": [],
   "source": [
    "# Initialize the uszipcode SearchEngine\n",
    "search = SearchEngine()\n",
    "\n",
    "# Define a function to impute missing city based on ZIP code\n",
    "def impute_city_from_zip(row):\n",
    "    if pd.isnull(row['Donor City']) and not pd.isnull(row['Donor ZIP']):\n",
    "        # Use the uszipcode library to search by ZIP code\n",
    "        zipcode_info = search.by_zipcode(row['Donor ZIP'])\n",
    "        if zipcode_info and zipcode_info.city:\n",
    "            # If there's a result and it includes city info, return the city\n",
    "            return zipcode_info.city\n",
    "    # Return the original city if it's not missing or if ZIP code info wasn't found\n",
    "    return row['Donor City']\n",
    "\n",
    "# Apply the function to impute missing 'Donor City' values\n",
    "donations_df['Donor City'] = donations_df.apply(impute_city_from_zip, axis=1)"
   ]
  },
  {
   "cell_type": "markdown",
   "id": "82f72f62-8d67-427d-957d-567d2761e382",
   "metadata": {},
   "source": [
    "# Donor Member ID"
   ]
  },
  {
   "cell_type": "code",
   "execution_count": 55,
   "id": "9fc86cd6-8ae0-44fa-afe6-595d4a9e97b2",
   "metadata": {
    "tags": []
   },
   "outputs": [
    {
     "data": {
      "text/plain": [
       "array(['56928695_removed', '58340249_removed', '60237990_removed',\n",
       "       '59460287_removed', '75524768_removed', '90362893_removed',\n",
       "       '56694874_removed', '91033605(MNM', '101010101'], dtype=object)"
      ]
     },
     "execution_count": 55,
     "metadata": {},
     "output_type": "execute_result"
    }
   ],
   "source": [
    "# Donor Member ID dirty value\n",
    "max_length_value = donations_df['Donor Member ID'].astype(str).apply(len).idxmax()\n",
    "max_length = donations_df['Donor Member ID'].astype(str).apply(len).max()\n",
    "value_with_max_length = donations_df.at[max_length_value, 'Donor Member ID']\n",
    "value_with_max_length\n",
    "\n",
    "# List all values \n",
    "long_year_values = donations_df[donations_df['Donor Member ID'].astype(str).apply(len) > 8]['Donor Member ID'].unique()\n",
    "\n",
    "long_year_values"
   ]
  },
  {
   "cell_type": "code",
   "execution_count": 56,
   "id": "2f479c21-5552-461e-bff9-9b5b0dfa3baf",
   "metadata": {},
   "outputs": [
    {
     "data": {
      "text/plain": [
       "259047     56928695_removed\n",
       "1176798    58340249_removed\n",
       "1857867    60237990_removed\n",
       "2002072    59460287_removed\n",
       "2066858    75524768_removed\n",
       "2551450    90362893_removed\n",
       "3326300    56694874_removed\n",
       "3396540        91033605(MNM\n",
       "Name: Donor Member ID, dtype: object"
      ]
     },
     "execution_count": 56,
     "metadata": {},
     "output_type": "execute_result"
    }
   ],
   "source": [
    "# Define a regular expression to match special characters\n",
    "special_char_pattern = r'[^0-9a-zA-Z]'\n",
    "\n",
    "# Find rows where 'Donor Member ID' contains special characters\n",
    "special_char_values = donations_df[donations_df['Donor Member ID'].str.contains(special_char_pattern, na=False)]['Donor Member ID']\n",
    "\n",
    "# Display the values that contain special characters\n",
    "special_char_values"
   ]
  },
  {
   "cell_type": "code",
   "execution_count": 57,
   "id": "1048a16d-04db-486f-ab08-fd5e6fba9b98",
   "metadata": {},
   "outputs": [],
   "source": [
    "# Directly update 'Donor Member ID' with the extracted numbers\n",
    "donations_df['Donor Member ID'] = donations_df['Donor Member ID'].str.extract('(\\d+)')"
   ]
  },
  {
   "cell_type": "code",
   "execution_count": 58,
   "id": "81c18999-41dd-4037-ad65-a32af31e3b0b",
   "metadata": {},
   "outputs": [],
   "source": [
    "# Set values to NaN where the length of the 'Donor Member ID' string is greater than 8\n",
    "donations_df.loc[donations_df['Donor Member ID'].str.len() > 8, 'Donor Member ID'] = np.nan"
   ]
  },
  {
   "cell_type": "code",
   "execution_count": 59,
   "id": "f5207f25-fcbe-40cd-87d2-c6421be50893",
   "metadata": {},
   "outputs": [
    {
     "data": {
      "text/plain": [
       "0          63278064\n",
       "1          80700130\n",
       "2          80700130\n",
       "3          75610532\n",
       "4          80504435\n",
       "             ...   \n",
       "3807371    90557213\n",
       "3807372    91018428\n",
       "3807373    91015103\n",
       "3807374    90967760\n",
       "3807375    91053627\n",
       "Name: Donor Member ID, Length: 3807376, dtype: Int64"
      ]
     },
     "execution_count": 59,
     "metadata": {},
     "output_type": "execute_result"
    }
   ],
   "source": [
    "# Convert 'Participant Contact ID' to pandas nullable integer type\n",
    "donations_df['Donor Member ID'] = pd.to_numeric(donations_df['Donor Member ID'], errors='coerce').astype('Int64')\n",
    "donations_df['Donor Member ID']"
   ]
  },
  {
   "cell_type": "code",
   "execution_count": 60,
   "id": "a16bcd04-0707-49ca-bcb9-55f0c668370c",
   "metadata": {},
   "outputs": [
    {
     "data": {
      "text/plain": [
       "4941"
      ]
     },
     "execution_count": 60,
     "metadata": {},
     "output_type": "execute_result"
    }
   ],
   "source": [
    "num_nulls = donations_df['Donor Member ID'].isnull().sum()\n",
    "num_nulls"
   ]
  },
  {
   "cell_type": "markdown",
   "id": "857d29fb-9c4a-4730-85f8-3a55f442eedb",
   "metadata": {},
   "source": [
    "# Gift Amount($)"
   ]
  },
  {
   "cell_type": "code",
   "execution_count": 61,
   "id": "f80de113-e748-4477-be52-1466c07cc0e8",
   "metadata": {},
   "outputs": [
    {
     "data": {
      "text/plain": [
       "Gift Amount($)    25(3/7/2016 10:21\n",
       "Name: 2975192, dtype: object"
      ]
     },
     "execution_count": 61,
     "metadata": {},
     "output_type": "execute_result"
    }
   ],
   "source": [
    "# Gift amount\n",
    "\n",
    "# Find the row with the maximum length in the 'Gift Amount($)' column\n",
    "max_length_value = donations_df['Gift Amount($)'].astype(str).apply(len).idxmax()\n",
    "\n",
    "# Extract the 'Fiscal Year' and 'Gift Amount($)' values for that row\n",
    "value_with_max_length = donations_df.loc[max_length_value, ['Gift Amount($)']]\n",
    "\n",
    "# Print the result\n",
    "value_with_max_length\n"
   ]
  },
  {
   "cell_type": "code",
   "execution_count": 62,
   "id": "2a8ee4f9-818f-4b3d-8e2d-9b7bea1b1b97",
   "metadata": {},
   "outputs": [
    {
     "data": {
      "text/plain": [
       "1065707      8/29/2014 20:31\n",
       "2951655      8/28/2016 15:59\n",
       "2975192    25(3/7/2016 10:21\n",
       "3109122       6/22/2016 9:36\n",
       "3142276      5/10/2016 14:23\n",
       "3376382      7/14/2017 17:39\n",
       "Name: Gift Amount($), dtype: object"
      ]
     },
     "execution_count": 62,
     "metadata": {},
     "output_type": "execute_result"
    }
   ],
   "source": [
    "# The pattern '[^0-9.]' matches any character that is not a digit or a period\n",
    "special_char_values = donations_df[donations_df['Gift Amount($)'].str.contains('[^0-9.]', na=False)]['Gift Amount($)']\n",
    "\n",
    "# Display the values that contain special characters\n",
    "special_char_values"
   ]
  },
  {
   "cell_type": "code",
   "execution_count": 63,
   "id": "cdae8c33-e4b0-40c2-a6f6-41719b6e45a3",
   "metadata": {},
   "outputs": [],
   "source": [
    "# The pattern '[^0-9.]' matches any character that is not a digit or a period\n",
    "condition = donations_df['Gift Amount($)'].str.contains('[^0-9.]', na=False)\n",
    "\n",
    "# Replace these values with NaN\n",
    "donations_df.loc[condition, 'Gift Amount($)'] = np.nan"
   ]
  },
  {
   "cell_type": "code",
   "execution_count": 64,
   "id": "80575b82-b6f6-4313-abe4-f424d43840f5",
   "metadata": {},
   "outputs": [],
   "source": [
    "# Define a custom function to convert to float\n",
    "def convert_to_float(value):\n",
    "    if value is not None:\n",
    "        return float(value)\n",
    "    return None\n",
    "\n",
    "# Apply the custom function to 'Gift Amount($)' column\n",
    "donations_df['Gift Amount($)'] = donations_df['Gift Amount($)'].apply(convert_to_float)"
   ]
  },
  {
   "cell_type": "code",
   "execution_count": 65,
   "id": "df02fde4-cb94-4c59-a040-12457007d7f6",
   "metadata": {},
   "outputs": [
    {
     "data": {
      "text/plain": [
       "0    100.0\n",
       "1     50.0\n",
       "2     25.0\n",
       "3     70.0\n",
       "4     25.0\n",
       "Name: Gift Amount($), dtype: float64"
      ]
     },
     "execution_count": 65,
     "metadata": {},
     "output_type": "execute_result"
    }
   ],
   "source": [
    "donations_df['Gift Amount($)'].head()"
   ]
  },
  {
   "cell_type": "code",
   "execution_count": 66,
   "id": "08966fe4-91dd-498b-b1fa-1259db8cb48f",
   "metadata": {},
   "outputs": [
    {
     "data": {
      "text/plain": [
       "6"
      ]
     },
     "execution_count": 66,
     "metadata": {},
     "output_type": "execute_result"
    }
   ],
   "source": [
    "num_nulls = donations_df['Gift Amount($)'].isnull().sum()\n",
    "num_nulls"
   ]
  },
  {
   "cell_type": "markdown",
   "id": "3458df40-1485-4839-bcfe-2b98986c715b",
   "metadata": {},
   "source": [
    "# Ledger Transaction Amount"
   ]
  },
  {
   "cell_type": "code",
   "execution_count": 67,
   "id": "d65aaaf1-d0af-4415-ae0c-0a63a43e147c",
   "metadata": {
    "tags": []
   },
   "outputs": [
    {
     "name": "stdout",
     "output_type": "stream",
     "text": [
      "Maximum Number of Characters: 26\n",
      "Maximum Number of Characters: 26\n",
      "Value with Maximum Characters: 100(TeamRaiser Participant\n"
     ]
    }
   ],
   "source": [
    "#Ledger Transaction Amount\n",
    "# Convert the column values to strings\n",
    "donations_df['Ledger Transaction Amount'] = donations_df['Ledger Transaction Amount'].astype(str)\n",
    "\n",
    "# Calculate the length of each value in the column\n",
    "donations_df['Length'] = donations_df['Ledger Transaction Amount'].str.len()\n",
    "\n",
    "# Find the maximum length\n",
    "max_length = donations_df['Length'].max()\n",
    "\n",
    "# Display the maximum length\n",
    "print(\"Maximum Number of Characters:\", max_length)\n",
    "\n",
    "# Find and display the value with the maximum length\n",
    "max_length_value = donations_df[donations_df['Length'] == max_length]['Ledger Transaction Amount'].values[0]\n",
    "\n",
    "print(\"Maximum Number of Characters:\", max_length)\n",
    "print(\"Value with Maximum Characters:\", max_length_value)"
   ]
  },
  {
   "cell_type": "code",
   "execution_count": 68,
   "id": "bd83d2a3-0e86-4aad-aabc-ade79b293a18",
   "metadata": {},
   "outputs": [
    {
     "data": {
      "text/plain": [
       "46998          TeamRaiser Participant\n",
       "175502                TeamRaiser Team\n",
       "209938         TeamRaiser Participant\n",
       "321402         TeamRaiser Participant\n",
       "472944         TeamRaiser Participant\n",
       "485629         TeamRaiser Participant\n",
       "503662         TeamRaiser Participant\n",
       "540563     100(TeamRaiser Participant\n",
       "622886         TeamRaiser Participant\n",
       "652437         TeamRaiser Participant\n",
       "705376     100(TeamRaiser Participant\n",
       "801593         TeamRaiser Participant\n",
       "992076         TeamRaiser Participant\n",
       "1065707        TeamRaiser Participant\n",
       "1336119        TeamRaiser Participant\n",
       "1551042        TeamRaiser Participant\n",
       "1774627        TeamRaiser Participant\n",
       "1842656        TeamRaiser Participant\n",
       "1943101        TeamRaiser Participant\n",
       "2036313        TeamRaiser Participant\n",
       "2108177        TeamRaiser Participant\n",
       "2159702        TeamRaiser Participant\n",
       "2224841        TeamRaiser Participant\n",
       "2323149        TeamRaiser Participant\n",
       "2487511        TeamRaiser Participant\n",
       "2492079        TeamRaiser Participant\n",
       "2721961        TeamRaiser Participant\n",
       "2833755        TeamRaiser Participant\n",
       "2868951        TeamRaiser Participant\n",
       "2886801        TeamRaiser Participant\n",
       "2897201        TeamRaiser Participant\n",
       "2938962        TeamRaiser Participant\n",
       "2940588        TeamRaiser Participant\n",
       "2951655        TeamRaiser Participant\n",
       "2975192        TeamRaiser Participant\n",
       "3023071        TeamRaiser Participant\n",
       "3043672        TeamRaiser Participant\n",
       "3055540        TeamRaiser Participant\n",
       "3109122        TeamRaiser Participant\n",
       "3115077        TeamRaiser Participant\n",
       "3142276        TeamRaiser Participant\n",
       "3183686        TeamRaiser Participant\n",
       "3189088        TeamRaiser Participant\n",
       "3222094        TeamRaiser Participant\n",
       "3267514        TeamRaiser Participant\n",
       "3376382        TeamRaiser Participant\n",
       "3396540        TeamRaiser Participant\n",
       "3444409        TeamRaiser Participant\n",
       "3459446        TeamRaiser Participant\n",
       "3485891        TeamRaiser Participant\n",
       "3766007        TeamRaiser Participant\n",
       "Name: Ledger Transaction Amount, dtype: object"
      ]
     },
     "execution_count": 68,
     "metadata": {},
     "output_type": "execute_result"
    }
   ],
   "source": [
    "# The pattern '[^0-9.]' matches any character that is not a digit or a period\n",
    "special_char_values = donations_df[donations_df['Ledger Transaction Amount'].str.contains('[^0-9.]', na=False)]['Ledger Transaction Amount']\n",
    "\n",
    "# Display the values that contain special characters\n",
    "special_char_values"
   ]
  },
  {
   "cell_type": "code",
   "execution_count": 69,
   "id": "1fa5bbf5-f5bc-43cc-8e9c-9a94233ac95a",
   "metadata": {},
   "outputs": [],
   "source": [
    "# Directly update 'Donor Member ID' with the extracted numbers\n",
    "donations_df['Ledger Transaction Amount'] = donations_df['Ledger Transaction Amount'].str.extract('(\\d+)')"
   ]
  },
  {
   "cell_type": "code",
   "execution_count": 70,
   "id": "fde0c9d2-81d6-4fe0-81a6-f11a6315a960",
   "metadata": {},
   "outputs": [
    {
     "data": {
      "text/plain": [
       "'100'"
      ]
     },
     "execution_count": 70,
     "metadata": {},
     "output_type": "execute_result"
    }
   ],
   "source": [
    "# Assuming you want to find the row at index 540563\n",
    "row_index_to_find = 705376\n",
    "\n",
    "# Retrieve the row at index 540563\n",
    "row_at_index_540563 = donations_df.iloc[row_index_to_find]['Ledger Transaction Amount']\n",
    "row_at_index_540563"
   ]
  },
  {
   "cell_type": "code",
   "execution_count": 71,
   "id": "b7fbc8c4-1394-4ed1-bfa8-09258ff152a2",
   "metadata": {},
   "outputs": [],
   "source": [
    "# Define a custom function to convert to float\n",
    "def convert_to_float(value):\n",
    "    if value is not None:\n",
    "        return float(value)\n",
    "    return None\n",
    "\n",
    "# Apply the custom function to 'Ledger Transaction Amount' column\n",
    "donations_df['Ledger Transaction Amount'] = donations_df['Ledger Transaction Amount'].apply(convert_to_float)"
   ]
  },
  {
   "cell_type": "code",
   "execution_count": 72,
   "id": "f18b4ab8-3af7-4f3e-8d51-a262a2500171",
   "metadata": {},
   "outputs": [
    {
     "data": {
      "text/plain": [
       "0          100.0\n",
       "1           50.0\n",
       "2           25.0\n",
       "3           70.0\n",
       "4           25.0\n",
       "           ...  \n",
       "3807371    100.0\n",
       "3807372     50.0\n",
       "3807373     35.0\n",
       "3807374     50.0\n",
       "3807375     35.0\n",
       "Name: Ledger Transaction Amount, Length: 3807376, dtype: float64"
      ]
     },
     "execution_count": 72,
     "metadata": {},
     "output_type": "execute_result"
    }
   ],
   "source": [
    "donations_df['Ledger Transaction Amount']"
   ]
  },
  {
   "cell_type": "markdown",
   "id": "657be84a-761e-444c-a954-57ac4a5d5e34",
   "metadata": {},
   "source": [
    "# Participant Contact ID"
   ]
  },
  {
   "cell_type": "code",
   "execution_count": 73,
   "id": "3729c5ff-4d7d-4f79-a661-76fd720e30bd",
   "metadata": {},
   "outputs": [
    {
     "data": {
      "text/plain": [
       "0           7744894.0\n",
       "1           7744894.0\n",
       "2           7744894.0\n",
       "3          10244498.0\n",
       "4          10244498.0\n",
       "              ...    \n",
       "3807369    15614806.0\n",
       "3807370    15614806.0\n",
       "3807371    15614806.0\n",
       "3807372    15614806.0\n",
       "3807373    15614806.0\n",
       "Name: Participant Contact ID, Length: 3765007, dtype: object"
      ]
     },
     "execution_count": 73,
     "metadata": {},
     "output_type": "execute_result"
    }
   ],
   "source": [
    "# Convert 'Participant Contact ID' column to string type\n",
    "donations_df['Participant Contact ID'] = donations_df['Participant Contact ID'].astype(str)\n",
    "\n",
    "# Define a regular expression to match special characters\n",
    "special_char_pattern = r'[^0-9a-zA-Z]'\n",
    "\n",
    "# Find rows where 'Participant Contact ID' contains special characters\n",
    "special_char_values = donations_df[donations_df['Participant Contact ID'].str.contains(special_char_pattern, na=False)]['Participant Contact ID']\n",
    "\n",
    "# Display the values that contain special characters\n",
    "special_char_values"
   ]
  },
  {
   "cell_type": "code",
   "execution_count": 74,
   "id": "43da958f-b726-465e-ba93-35ab93bbda57",
   "metadata": {},
   "outputs": [
    {
     "data": {
      "text/plain": [
       "0"
      ]
     },
     "execution_count": 74,
     "metadata": {},
     "output_type": "execute_result"
    }
   ],
   "source": [
    "num_nulls = donations_df['Participant Contact ID'].isnull().sum()\n",
    "num_nulls"
   ]
  },
  {
   "cell_type": "code",
   "execution_count": 75,
   "id": "19013996-7795-4785-8478-873c913aadaa",
   "metadata": {},
   "outputs": [
    {
     "data": {
      "text/plain": [
       "10"
      ]
     },
     "execution_count": 75,
     "metadata": {},
     "output_type": "execute_result"
    }
   ],
   "source": [
    "# Check the cleaned data\n",
    "max_char = max(len(str(id)) for id in donations_df['Participant Contact ID'])\n",
    "max_char"
   ]
  },
  {
   "cell_type": "code",
   "execution_count": 76,
   "id": "074bf305-1d61-48da-95b1-591434654f48",
   "metadata": {
    "scrolled": true
   },
   "outputs": [
    {
     "data": {
      "text/plain": [
       "0           7744894.0\n",
       "1           7744894.0\n",
       "2           7744894.0\n",
       "3          10244498.0\n",
       "4          10244498.0\n",
       "              ...    \n",
       "3807369    15614806.0\n",
       "3807370    15614806.0\n",
       "3807371    15614806.0\n",
       "3807372    15614806.0\n",
       "3807373    15614806.0\n",
       "Name: Participant Contact ID, Length: 3765007, dtype: object"
      ]
     },
     "execution_count": 76,
     "metadata": {},
     "output_type": "execute_result"
    }
   ],
   "source": [
    "# Filter rows where 'Participant Contact ID' has more than 8 characters\n",
    "filtered_df = donations_df[donations_df['Participant Contact ID'].str.len() > 8]\n",
    "\n",
    "# Display only the 'Participant Contact ID' column from the filtered DataFrame\n",
    "filtered_id_column = filtered_df['Participant Contact ID']\n",
    "filtered_id_column"
   ]
  },
  {
   "cell_type": "code",
   "execution_count": 77,
   "id": "80ac5591-0fab-4466-b2fb-559d6c0d810b",
   "metadata": {
    "tags": []
   },
   "outputs": [
    {
     "data": {
      "text/plain": [
       "0           7744894\n",
       "1           7744894\n",
       "2           7744894\n",
       "3          10244498\n",
       "4          10244498\n",
       "             ...   \n",
       "3807371    15614806\n",
       "3807372    15614806\n",
       "3807373    15614806\n",
       "3807374        <NA>\n",
       "3807375        <NA>\n",
       "Name: Participant Contact ID, Length: 3807376, dtype: Int64"
      ]
     },
     "execution_count": 77,
     "metadata": {},
     "output_type": "execute_result"
    }
   ],
   "source": [
    "# Convert 'Participant Contact ID' to pandas nullable integer type\n",
    "donations_df['Participant Contact ID'] = pd.to_numeric(donations_df['Participant Contact ID'], errors='coerce').astype('Int64')\n",
    "donations_df['Participant Contact ID']\n"
   ]
  },
  {
   "cell_type": "markdown",
   "id": "b89c96a0-398d-418c-9aa8-6ac501c83ed8",
   "metadata": {},
   "source": [
    "# Donor City"
   ]
  },
  {
   "cell_type": "code",
   "execution_count": 78,
   "id": "a49ab3ee-dc41-4740-b88c-d0eae45b546f",
   "metadata": {},
   "outputs": [
    {
     "data": {
      "text/plain": [
       "925"
      ]
     },
     "execution_count": 78,
     "metadata": {},
     "output_type": "execute_result"
    }
   ],
   "source": [
    "num_nulls = donations_df['Donor City'].isnull().sum()\n",
    "num_nulls"
   ]
  },
  {
   "cell_type": "code",
   "execution_count": 79,
   "id": "c4f48143-44b0-4146-8046-c29082cd70fb",
   "metadata": {
    "tags": []
   },
   "outputs": [
    {
     "data": {
      "text/plain": [
       "24609        R.R. 1 Berkeley\n",
       "32423          S-429 41 Saro\n",
       "36543      5375 Bancroft Ave\n",
       "36545      5375 Bancroft Ave\n",
       "49964       Corona Ca, 92880\n",
       "                 ...        \n",
       "3781015            Dublin 18\n",
       "3781047             Praha 12\n",
       "3790574         246th Ave SE\n",
       "3791538      10380 Nigh Road\n",
       "3801927                60201\n",
       "Name: Donor City, Length: 416, dtype: object"
      ]
     },
     "execution_count": 79,
     "metadata": {},
     "output_type": "execute_result"
    }
   ],
   "source": [
    "# Filter rows where 'Donor City' contains numbers\n",
    "values_with_numbers = donations_df[donations_df['Donor City'].str.contains(r'\\d', na=False)]\n",
    "\n",
    "# Display only the 'Donor City' column from the filtered DataFrame\n",
    "filtered_city_column = values_with_numbers['Donor City']\n",
    "filtered_city_column"
   ]
  },
  {
   "cell_type": "code",
   "execution_count": 80,
   "id": "1c4acf5e-8bfa-488f-b03d-16023b738736",
   "metadata": {},
   "outputs": [],
   "source": [
    "# Create a boolean mask to identify city names containing numbers\n",
    "contains_numbers_mask = donations_df['Donor City'].str.contains(r'\\d', na=False)\n",
    "\n",
    "# Replace city names containing numbers with NaN\n",
    "donations_df.loc[contains_numbers_mask, 'Donor City'] = np.nan"
   ]
  },
  {
   "cell_type": "code",
   "execution_count": 81,
   "id": "0d67218e-5bde-4b10-988a-0debb235142d",
   "metadata": {},
   "outputs": [],
   "source": [
    "# Initialize the SearchEngine\n",
    "search = SearchEngine()\n",
    "\n",
    "# Define a function to impute missing 'Donor City' based on 'Donor ZIP'\n",
    "def impute_city(row):\n",
    "    # Check if 'Donor City' is missing and 'Donor ZIP' is not missing\n",
    "    if pd.isna(row['Donor City']) and not pd.isna(row['Donor ZIP']):\n",
    "        # Lookup the ZIP code to get city name\n",
    "        result = search.by_zipcode(row['Donor ZIP'])\n",
    "        if result:\n",
    "            # Return the city name if found\n",
    "            return result.city\n",
    "    # Return the original city if not missing or if no city found for the ZIP code\n",
    "    return row['Donor City']\n",
    "\n",
    "# Apply the function to the DataFrame\n",
    "donations_df['Donor City'] = donations_df.apply(impute_city, axis=1)"
   ]
  },
  {
   "cell_type": "code",
   "execution_count": 82,
   "id": "ca53e60a-f49f-4fb3-a0b5-bc9ddbcf900f",
   "metadata": {},
   "outputs": [
    {
     "data": {
      "text/plain": [
       "0              Jackson\n",
       "1           Birmingham\n",
       "2           Birmingham\n",
       "3               Frisco\n",
       "4               Austin\n",
       "              ...     \n",
       "3807371      Fitchburg\n",
       "3807372         Marion\n",
       "3807373        Madison\n",
       "3807374    Minneapolis\n",
       "3807375       Waukesha\n",
       "Name: Donor City, Length: 3807376, dtype: object"
      ]
     },
     "execution_count": 82,
     "metadata": {},
     "output_type": "execute_result"
    }
   ],
   "source": [
    "donations_df['Donor City']"
   ]
  },
  {
   "cell_type": "markdown",
   "id": "1402c367-19e9-4162-b681-760ec0ebedc2",
   "metadata": {},
   "source": [
    "# Donor ConsID"
   ]
  },
  {
   "cell_type": "code",
   "execution_count": 83,
   "id": "8a390f9d-e850-48c4-a771-c3704bd1d124",
   "metadata": {},
   "outputs": [
    {
     "data": {
      "text/plain": [
       "1"
      ]
     },
     "execution_count": 83,
     "metadata": {},
     "output_type": "execute_result"
    }
   ],
   "source": [
    "num_nulls = donations_df['Donor ConsID'].isnull().sum()\n",
    "num_nulls"
   ]
  },
  {
   "cell_type": "code",
   "execution_count": 84,
   "id": "0a1e2c3a-97e9-4a1f-9bfd-f6023c10c693",
   "metadata": {},
   "outputs": [
    {
     "data": {
      "text/plain": [
       "Index(['Security Category Name', 'Event ID', 'Public Event Name',\n",
       "       'Fiscal Year', 'Event Date', 'Campaign Title', 'Campaign ID',\n",
       "       'Gift Amount($)', 'Date Recorded', 'Gift Type', 'Gift Payment Method',\n",
       "       'Offline Status', 'Soft Credit Type', 'Is Registration?',\n",
       "       'Donor ConsID', 'Donor Member ID', 'Donor Affiliate Code',\n",
       "       'Donor Gender', 'Donor Accept Email', 'Donor Opt-out Date',\n",
       "       'Donor Opt-out Method', 'Donor Email Status', 'Donor City',\n",
       "       'Donor State', 'Donor County', 'Donor ZIP', 'Donor Employer',\n",
       "       'Donor Connection to MS', 'Participant Contact ID',\n",
       "       'Participant Member ID', 'Participation Type Name',\n",
       "       'Registration Active Status', 'Registration Date',\n",
       "       'Participant Goal($)', 'Is Prior Participant', 'Is Team Captain',\n",
       "       'Additional Gift Amount($)', 'Team Name', 'Team', 'Team Creation Date',\n",
       "       'Original Value Transacted', 'Net Transaction Amount',\n",
       "       'Ledger Transaction Amount', 'Proxy Type', 'User Confirmation Code',\n",
       "       'Source Code Type', 'Source Code Text', 'Sub Source Code Text',\n",
       "       'Batch ID', 'Length'],\n",
       "      dtype='object')"
      ]
     },
     "execution_count": 84,
     "metadata": {},
     "output_type": "execute_result"
    }
   ],
   "source": [
    "donations_df.columns"
   ]
  },
  {
   "cell_type": "code",
   "execution_count": 85,
   "id": "b4e93882-4d69-4779-8d95-8158ca79717a",
   "metadata": {},
   "outputs": [
    {
     "data": {
      "text/html": [
       "<div>\n",
       "<style scoped>\n",
       "    .dataframe tbody tr th:only-of-type {\n",
       "        vertical-align: middle;\n",
       "    }\n",
       "\n",
       "    .dataframe tbody tr th {\n",
       "        vertical-align: top;\n",
       "    }\n",
       "\n",
       "    .dataframe thead th {\n",
       "        text-align: right;\n",
       "    }\n",
       "</style>\n",
       "<table border=\"1\" class=\"dataframe\">\n",
       "  <thead>\n",
       "    <tr style=\"text-align: right;\">\n",
       "      <th></th>\n",
       "      <th>Donor ConsID</th>\n",
       "      <th>Donor Member ID</th>\n",
       "      <th>Campaign ID</th>\n",
       "      <th>Event ID</th>\n",
       "      <th>Team</th>\n",
       "      <th>Participant Contact ID</th>\n",
       "      <th>Participant Member ID</th>\n",
       "      <th>Batch ID</th>\n",
       "    </tr>\n",
       "  </thead>\n",
       "  <tbody>\n",
       "    <tr>\n",
       "      <th>485629</th>\n",
       "      <td>1941829(42444387</td>\n",
       "      <td>&lt;NA&gt;</td>\n",
       "      <td>35566</td>\n",
       "      <td>20976</td>\n",
       "      <td>316590</td>\n",
       "      <td>61475942</td>\n",
       "      <td>Event Participant - Cyclist</td>\n",
       "      <td>NaN</td>\n",
       "    </tr>\n",
       "    <tr>\n",
       "      <th>2487511</th>\n",
       "      <td>14525053(89342577</td>\n",
       "      <td>&lt;NA&gt;</td>\n",
       "      <td>35582</td>\n",
       "      <td>24838</td>\n",
       "      <td>400439</td>\n",
       "      <td>44428153</td>\n",
       "      <td>Cyclist - June 1, 2015 to day of ride</td>\n",
       "      <td>NaN</td>\n",
       "    </tr>\n",
       "  </tbody>\n",
       "</table>\n",
       "</div>"
      ],
      "text/plain": [
       "              Donor ConsID  Donor Member ID Campaign ID Event ID    Team  \\\n",
       "485629    1941829(42444387             <NA>       35566    20976  316590   \n",
       "2487511  14525053(89342577             <NA>       35582    24838  400439   \n",
       "\n",
       "         Participant Contact ID                  Participant Member ID  \\\n",
       "485629                 61475942            Event Participant - Cyclist   \n",
       "2487511                44428153  Cyclist - June 1, 2015 to day of ride   \n",
       "\n",
       "        Batch ID  \n",
       "485629       NaN  \n",
       "2487511      NaN  "
      ]
     },
     "execution_count": 85,
     "metadata": {},
     "output_type": "execute_result"
    }
   ],
   "source": [
    "# The pattern '[^0-9.]' matches any character that is not a digit or a period\n",
    "special_char_pattern = r'[^0-9.]'\n",
    "\n",
    "# Filter rows where 'Donor ConsID' contains special characters\n",
    "special_char_rows = donations_df[donations_df['Donor ConsID'].str.contains(special_char_pattern, regex=True, na=False)]\n",
    "\n",
    "# Display the relevant columns for the rows with special characters\n",
    "relevant_columns = ['Donor ConsID', 'Donor Member ID', 'Campaign ID', 'Event ID', 'Team', 'Participant Contact ID', 'Participant Member ID', 'Batch ID']\n",
    "special_char_data = special_char_rows[relevant_columns]\n",
    "\n",
    "# Corrected line: Display the DataFrame with the values that contain special characters\n",
    "special_char_data"
   ]
  },
  {
   "cell_type": "code",
   "execution_count": 86,
   "id": "67b43d99-7633-4d24-b89f-da66bff92d04",
   "metadata": {
    "tags": []
   },
   "outputs": [],
   "source": [
    "# Clean up 'Donor ConsID' values\n",
    "donations_df['Donor ConsID'] = donations_df['Donor ConsID'].astype(str)  # Ensure 'Donor ConsID' is a string\n",
    "donations_df['Donor ConsID'] = donations_df['Donor ConsID'].str.split('(').str[0]  # Remove everything after '('\n",
    "donations_df['Donor ConsID'] = donations_df['Donor ConsID'].str.split('.').str[0]  # Remove decimal part"
   ]
  },
  {
   "cell_type": "code",
   "execution_count": 87,
   "id": "070c3bfd-72f1-456a-946f-2511b27fbc06",
   "metadata": {},
   "outputs": [
    {
     "data": {
      "text/plain": [
       "array(['11527263', '10244498', '11415664', ..., '16083016', '16033523',\n",
       "       '16122821'], dtype=object)"
      ]
     },
     "execution_count": 87,
     "metadata": {},
     "output_type": "execute_result"
    }
   ],
   "source": [
    "# List all values \n",
    "long_year_values = donations_df[donations_df['Donor ConsID'].astype(str).apply(len) > 7]['Donor ConsID'].unique()\n",
    "\n",
    "long_year_values"
   ]
  },
  {
   "cell_type": "code",
   "execution_count": 88,
   "id": "f803ad1e-bdf9-4ea3-95da-558e7dbf7f4d",
   "metadata": {},
   "outputs": [
    {
     "data": {
      "text/plain": [
       "'14525053'"
      ]
     },
     "execution_count": 88,
     "metadata": {},
     "output_type": "execute_result"
    }
   ],
   "source": [
    "# Assuming you want to find the row at index 540563\n",
    "row_index_to_find = 2487511\n",
    "\n",
    "# Retrieve the row at index 540563\n",
    "row_at_index_540563 = donations_df.iloc[row_index_to_find]['Donor ConsID']\n",
    "row_at_index_540563"
   ]
  },
  {
   "cell_type": "code",
   "execution_count": 89,
   "id": "f3109888-4ab2-489a-a890-c827233b8ddf",
   "metadata": {},
   "outputs": [
    {
     "data": {
      "text/plain": [
       "0           7828995\n",
       "1          11527263\n",
       "2          11527263\n",
       "3          10244498\n",
       "4          11415664\n",
       "             ...   \n",
       "3807371    15614806\n",
       "3807372    16085762\n",
       "3807373    16083016\n",
       "3807374    16033523\n",
       "3807375    16122821\n",
       "Name: Donor ConsID, Length: 3807376, dtype: Int64"
      ]
     },
     "execution_count": 89,
     "metadata": {},
     "output_type": "execute_result"
    }
   ],
   "source": [
    "# Convert 'Donor ConsID' to pandas nullable integer type\n",
    "donations_df['Donor ConsID'] = pd.to_numeric(donations_df['Donor ConsID'], errors='coerce').astype('Int64')\n",
    "donations_df['Donor ConsID']"
   ]
  },
  {
   "cell_type": "markdown",
   "id": "d5e20070-9edf-4ea9-b77e-879c8c17a284",
   "metadata": {},
   "source": [
    "# Event ID"
   ]
  },
  {
   "cell_type": "code",
   "execution_count": 90,
   "id": "50f2658b-a36c-428d-b535-0a69b4aa7894",
   "metadata": {},
   "outputs": [
    {
     "data": {
      "text/plain": [
       "0"
      ]
     },
     "execution_count": 90,
     "metadata": {},
     "output_type": "execute_result"
    }
   ],
   "source": [
    "num_nulls = donations_df['Event ID'].isnull().sum()\n",
    "num_nulls"
   ]
  },
  {
   "cell_type": "code",
   "execution_count": 91,
   "id": "902e890f-fbd1-48b7-9487-9dfe9e700cc6",
   "metadata": {},
   "outputs": [
    {
     "data": {
      "text/html": [
       "<div>\n",
       "<style scoped>\n",
       "    .dataframe tbody tr th:only-of-type {\n",
       "        vertical-align: middle;\n",
       "    }\n",
       "\n",
       "    .dataframe tbody tr th {\n",
       "        vertical-align: top;\n",
       "    }\n",
       "\n",
       "    .dataframe thead th {\n",
       "        text-align: right;\n",
       "    }\n",
       "</style>\n",
       "<table border=\"1\" class=\"dataframe\">\n",
       "  <thead>\n",
       "    <tr style=\"text-align: right;\">\n",
       "      <th></th>\n",
       "      <th>Donor ConsID</th>\n",
       "      <th>Donor Member ID</th>\n",
       "      <th>Campaign ID</th>\n",
       "      <th>Event ID</th>\n",
       "      <th>Team</th>\n",
       "      <th>Participant Contact ID</th>\n",
       "      <th>Participant Member ID</th>\n",
       "      <th>Batch ID</th>\n",
       "    </tr>\n",
       "  </thead>\n",
       "  <tbody>\n",
       "    <tr>\n",
       "      <th>2951655</th>\n",
       "      <td>&lt;NA&gt;</td>\n",
       "      <td>&lt;NA&gt;</td>\n",
       "      <td>20</td>\n",
       "      <td>Bike MS: City to Shore Ride 2016</td>\n",
       "      <td>452046</td>\n",
       "      <td>45404988</td>\n",
       "      <td>Cyclist</td>\n",
       "      <td>NaN</td>\n",
       "    </tr>\n",
       "    <tr>\n",
       "      <th>3109122</th>\n",
       "      <td>90341958</td>\n",
       "      <td>&lt;NA&gt;</td>\n",
       "      <td>40</td>\n",
       "      <td>Bike MS: Sam's Club Round-Up Ride 2016</td>\n",
       "      <td>&lt;NA&gt;</td>\n",
       "      <td>76816158</td>\n",
       "      <td>Cyclist</td>\n",
       "      <td>NaN</td>\n",
       "    </tr>\n",
       "  </tbody>\n",
       "</table>\n",
       "</div>"
      ],
      "text/plain": [
       "         Donor ConsID  Donor Member ID Campaign ID  \\\n",
       "2951655          <NA>             <NA>          20   \n",
       "3109122      90341958             <NA>          40   \n",
       "\n",
       "                                       Event ID    Team  \\\n",
       "2951655        Bike MS: City to Shore Ride 2016  452046   \n",
       "3109122  Bike MS: Sam's Club Round-Up Ride 2016    <NA>   \n",
       "\n",
       "         Participant Contact ID Participant Member ID Batch ID  \n",
       "2951655                45404988               Cyclist      NaN  \n",
       "3109122                76816158               Cyclist      NaN  "
      ]
     },
     "execution_count": 91,
     "metadata": {},
     "output_type": "execute_result"
    }
   ],
   "source": [
    "# The pattern '[^0-9.]' matches any character that is not a digit or a period\n",
    "special_char_pattern = r'[^0-9.]'\n",
    "\n",
    "# Filter rows where 'Donor ConsID' contains special characters\n",
    "special_char_rows = donations_df[donations_df['Event ID'].str.contains(special_char_pattern, regex=True, na=False)]\n",
    "\n",
    "# Display the relevant columns for the rows with special characters\n",
    "relevant_columns = ['Donor ConsID', 'Donor Member ID', 'Campaign ID', 'Event ID', 'Team', 'Participant Contact ID', 'Participant Member ID', 'Batch ID']\n",
    "special_char_data = special_char_rows[relevant_columns]\n",
    "\n",
    "# Corrected line: Display the DataFrame with the values that contain special characters\n",
    "special_char_data"
   ]
  },
  {
   "cell_type": "code",
   "execution_count": 92,
   "id": "d9da995c-2cbf-4adc-b062-d4a4054d73aa",
   "metadata": {},
   "outputs": [
    {
     "data": {
      "text/plain": [
       "array(['27061'], dtype=object)"
      ]
     },
     "execution_count": 92,
     "metadata": {},
     "output_type": "execute_result"
    }
   ],
   "source": [
    "# Define the search strings\n",
    "search_event_name = 'Bike MS: City to Shore Ride 2016'\n",
    "#search_campaign_id = 20\n",
    "search_team = 452046\n",
    "\n",
    "# Filter rows where 'Public Event Name' contains the search string and 'Campaign ID' equals 20 and 'Team' equals 452046\n",
    "matching_rows = donations_df[\n",
    "    (donations_df['Public Event Name'].str.contains(search_event_name, case=False, na=False)) &\n",
    "   \n",
    "    (donations_df['Team'] == search_team)\n",
    "]\n",
    "\n",
    "# Select the 'Event ID' column from the matching_rows DataFrame\n",
    "filtered_event_ids = matching_rows['Event ID'].unique()\n",
    "\n",
    "# Display the unique Event IDs associated with the campaign\n",
    "filtered_event_ids"
   ]
  },
  {
   "cell_type": "code",
   "execution_count": 93,
   "id": "56d318c6-a80f-41b1-b47d-06f18d6558b5",
   "metadata": {},
   "outputs": [],
   "source": [
    "# Define the replacement value\n",
    "replacement_value = '27149'  # Replace with the desired value\n",
    "\n",
    "# Conditionally update 'Event ID'\n",
    "donations_df.loc[donations_df['Event ID'] == \"Bike MS: Sam's Club Round-Up Ride 2016\", 'Event ID'] = replacement_value"
   ]
  },
  {
   "cell_type": "code",
   "execution_count": 94,
   "id": "09848cf4-45eb-4db7-a26e-4d49e137aef7",
   "metadata": {},
   "outputs": [],
   "source": [
    "# Define the replacement value\n",
    "replacement_value = '27061'  # Replace with the desired value\n",
    "\n",
    "# Conditionally update 'Event ID'\n",
    "donations_df.loc[donations_df['Event ID'] == \"Bike MS: City to Shore Ride 2016\", 'Event ID'] = replacement_value"
   ]
  },
  {
   "cell_type": "code",
   "execution_count": 95,
   "id": "1a802962-fa7a-4cf8-8302-fd95a486c637",
   "metadata": {},
   "outputs": [
    {
     "data": {
      "text/plain": [
       "'27061'"
      ]
     },
     "execution_count": 95,
     "metadata": {},
     "output_type": "execute_result"
    }
   ],
   "source": [
    "# Assuming you want to find the row at index 540563\n",
    "row_index_to_find = 2951655\n",
    "\n",
    "# Retrieve the row at index 540563\n",
    "row_at_index_540563 = donations_df.iloc[row_index_to_find]['Event ID']\n",
    "row_at_index_540563"
   ]
  },
  {
   "cell_type": "code",
   "execution_count": 96,
   "id": "9d1389fd-6143-4f6b-b953-63e6eca5e579",
   "metadata": {},
   "outputs": [
    {
     "data": {
      "text/plain": [
       "0          17966\n",
       "1          17966\n",
       "2          17966\n",
       "3          17966\n",
       "4          17966\n",
       "           ...  \n",
       "3807371    28198\n",
       "3807372    28198\n",
       "3807373    28198\n",
       "3807374    28198\n",
       "3807375    28198\n",
       "Name: Event ID, Length: 3807376, dtype: Int64"
      ]
     },
     "execution_count": 96,
     "metadata": {},
     "output_type": "execute_result"
    }
   ],
   "source": [
    "# Convert 'Event ID' to pandas nullable integer type\n",
    "donations_df['Event ID'] = pd.to_numeric(donations_df['Event ID'], errors='coerce').astype('Int64')\n",
    "donations_df['Event ID']"
   ]
  },
  {
   "cell_type": "markdown",
   "id": "12ce81f5-4ec8-46a6-9695-2ca339ae735c",
   "metadata": {},
   "source": [
    "# Additional Gift Amount($)"
   ]
  },
  {
   "cell_type": "code",
   "execution_count": 97,
   "id": "eabcaca5-01b6-497b-87c9-3257e4fec31d",
   "metadata": {},
   "outputs": [
    {
     "data": {
      "text/plain": [
       "5"
      ]
     },
     "execution_count": 97,
     "metadata": {},
     "output_type": "execute_result"
    }
   ],
   "source": [
    "num_nulls = donations_df['Additional Gift Amount($)'].isnull().sum()\n",
    "num_nulls"
   ]
  },
  {
   "cell_type": "code",
   "execution_count": 98,
   "id": "c5b0794e-2310-4fd7-b43e-9de89970f7f7",
   "metadata": {
    "scrolled": true
   },
   "outputs": [
    {
     "data": {
      "text/plain": [
       "0            0.0\n",
       "1            0.0\n",
       "2            0.0\n",
       "3            0.0\n",
       "4            0.0\n",
       "           ...  \n",
       "3807371    100.0\n",
       "3807372    100.0\n",
       "3807373    100.0\n",
       "3807374      0.0\n",
       "3807375      0.0\n",
       "Name: Additional Gift Amount($), Length: 3807376, dtype: float64"
      ]
     },
     "execution_count": 98,
     "metadata": {},
     "output_type": "execute_result"
    }
   ],
   "source": [
    "# Convert 'Additional Gift Amount($)' column to float, coercing errors to NaN\n",
    "donations_df['Additional Gift Amount($)'] = pd.to_numeric(donations_df['Additional Gift Amount($)'], errors='coerce')\n",
    "\n",
    "donations_df['Additional Gift Amount($)']\n"
   ]
  },
  {
   "cell_type": "markdown",
   "id": "c24aacd7-b3a0-4726-9855-31276a146f3e",
   "metadata": {},
   "source": [
    "# Search for values"
   ]
  },
  {
   "cell_type": "code",
   "execution_count": 212,
   "id": "60c3351b-1017-4b41-bdcc-e09d9b3b29f7",
   "metadata": {
    "scrolled": true
   },
   "outputs": [
    {
     "data": {
      "text/html": [
       "<div>\n",
       "<style scoped>\n",
       "    .dataframe tbody tr th:only-of-type {\n",
       "        vertical-align: middle;\n",
       "    }\n",
       "\n",
       "    .dataframe tbody tr th {\n",
       "        vertical-align: top;\n",
       "    }\n",
       "\n",
       "    .dataframe thead th {\n",
       "        text-align: right;\n",
       "    }\n",
       "</style>\n",
       "<table border=\"1\" class=\"dataframe\">\n",
       "  <thead>\n",
       "    <tr style=\"text-align: right;\">\n",
       "      <th></th>\n",
       "      <th>Security Category Name</th>\n",
       "      <th>Event ID</th>\n",
       "      <th>Public Event Name</th>\n",
       "      <th>Fiscal Year</th>\n",
       "      <th>Event Date</th>\n",
       "      <th>Campaign Title</th>\n",
       "      <th>Campaign ID</th>\n",
       "      <th>Gift Amount($)</th>\n",
       "      <th>Date Recorded</th>\n",
       "      <th>Gift Type</th>\n",
       "      <th>Gift Payment Method</th>\n",
       "      <th>Offline Status</th>\n",
       "      <th>Soft Credit Type</th>\n",
       "      <th>Is Registration?</th>\n",
       "      <th>Donor ConsID</th>\n",
       "      <th>Donor Member ID</th>\n",
       "      <th>Donor Affiliate Code</th>\n",
       "      <th>Donor Gender</th>\n",
       "      <th>Donor Accept Email</th>\n",
       "      <th>Donor Opt-out Date</th>\n",
       "      <th>Donor Opt-out Method</th>\n",
       "      <th>Donor Email Status</th>\n",
       "      <th>Donor City</th>\n",
       "      <th>Donor State</th>\n",
       "      <th>Donor County</th>\n",
       "      <th>Donor ZIP</th>\n",
       "      <th>Donor Employer</th>\n",
       "      <th>Donor Connection to MS</th>\n",
       "      <th>Participant Contact ID</th>\n",
       "      <th>Participant Member ID</th>\n",
       "      <th>Participation Type Name</th>\n",
       "      <th>Registration Active Status</th>\n",
       "      <th>Registration Date</th>\n",
       "      <th>Participant Goal($)</th>\n",
       "      <th>Is Prior Participant</th>\n",
       "      <th>Is Team Captain</th>\n",
       "      <th>Additional Gift Amount($)</th>\n",
       "      <th>Team Name</th>\n",
       "      <th>Team</th>\n",
       "      <th>Team Creation Date</th>\n",
       "      <th>Original Value Transacted</th>\n",
       "      <th>Net Transaction Amount</th>\n",
       "      <th>Ledger Transaction Amount</th>\n",
       "      <th>Proxy Type</th>\n",
       "      <th>User Confirmation Code</th>\n",
       "      <th>Source Code Type</th>\n",
       "      <th>Source Code Text</th>\n",
       "      <th>Sub Source Code Text</th>\n",
       "      <th>Batch ID</th>\n",
       "      <th>Length</th>\n",
       "    </tr>\n",
       "  </thead>\n",
       "  <tbody>\n",
       "  </tbody>\n",
       "</table>\n",
       "</div>"
      ],
      "text/plain": [
       "Empty DataFrame\n",
       "Columns: [Security Category Name, Event ID, Public Event Name, Fiscal Year, Event Date, Campaign Title, Campaign ID, Gift Amount($), Date Recorded, Gift Type, Gift Payment Method, Offline Status, Soft Credit Type, Is Registration?, Donor ConsID, Donor Member ID, Donor Affiliate Code, Donor Gender, Donor Accept Email, Donor Opt-out Date, Donor Opt-out Method, Donor Email Status, Donor City, Donor State, Donor County, Donor ZIP, Donor Employer, Donor Connection to MS, Participant Contact ID, Participant Member ID, Participation Type Name, Registration Active Status, Registration Date, Participant Goal($), Is Prior Participant, Is Team Captain, Additional Gift Amount($), Team Name, Team, Team Creation Date, Original Value Transacted, Net Transaction Amount, Ledger Transaction Amount, Proxy Type, User Confirmation Code, Source Code Type, Source Code Text, Sub Source Code Text, Batch ID, Length]\n",
       "Index: []"
      ]
     },
     "execution_count": 212,
     "metadata": {},
     "output_type": "execute_result"
    }
   ],
   "source": [
    "# Define the specific 'Donor Member ID' you're looking for\n",
    "specific_member_id = '22517'\n",
    "\n",
    "# Filter the DataFrame for rows where 'Donor Member ID' matches the specific ID\n",
    "matching_rows = donations_df[donations_df['Event ID'] == specific_member_id]\n",
    "matching_rows"
   ]
  },
  {
   "cell_type": "code",
   "execution_count": 94,
   "id": "e7738e3a-8cc8-4b04-a946-8e475c85be51",
   "metadata": {
    "scrolled": true
   },
   "outputs": [
    {
     "data": {
      "text/plain": [
       "Security Category Name                object\n",
       "Event ID                               Int64\n",
       "Public Event Name                     object\n",
       "Fiscal Year                            Int64\n",
       "Event Date                            object\n",
       "Campaign Title                        object\n",
       "Campaign ID                           object\n",
       "Gift Amount($)                       float64\n",
       "Date Recorded                 datetime64[ns]\n",
       "Gift Type                             object\n",
       "Gift Payment Method                   object\n",
       "Offline Status                        object\n",
       "Soft Credit Type                      object\n",
       "Is Registration?                      object\n",
       "Donor ConsID                           Int64\n",
       "Donor Member ID                        Int64\n",
       "Donor Affiliate Code                  object\n",
       "Donor Gender                          object\n",
       "Donor Accept Email                    object\n",
       "Donor Opt-out Date                    object\n",
       "Donor Opt-out Method                  object\n",
       "Donor Email Status                    object\n",
       "Donor City                            object\n",
       "Donor State                           object\n",
       "Donor County                          object\n",
       "Donor ZIP                             object\n",
       "Donor Employer                        object\n",
       "Donor Connection to MS                object\n",
       "Participant Contact ID                 Int64\n",
       "Participant Member ID                 object\n",
       "Participation Type Name               object\n",
       "Registration Active Status            object\n",
       "Registration Date                     object\n",
       "Participant Goal($)                   object\n",
       "Is Prior Participant                  object\n",
       "Is Team Captain                       object\n",
       "Additional Gift Amount($)             object\n",
       "Team Name                             object\n",
       "Team                                   Int64\n",
       "Team Creation Date                    object\n",
       "Original Value Transacted             object\n",
       "Net Transaction Amount                object\n",
       "Ledger Transaction Amount            float64\n",
       "Proxy Type                            object\n",
       "User Confirmation Code                object\n",
       "Source Code Type                      object\n",
       "Source Code Text                      object\n",
       "Sub Source Code Text                  object\n",
       "Batch ID                              object\n",
       "Length                                 int64\n",
       "dtype: object"
      ]
     },
     "execution_count": 94,
     "metadata": {},
     "output_type": "execute_result"
    }
   ],
   "source": [
    "donations_df.dtypes"
   ]
  },
  {
   "cell_type": "markdown",
   "id": "3c0ddf4b-4a4b-45b7-80b1-b5dc3881fb5d",
   "metadata": {},
   "source": [
    "# Primary Key"
   ]
  },
  {
   "cell_type": "raw",
   "id": "fc779292-72e6-458f-802b-af0b3b197183",
   "metadata": {
    "jupyter": {
     "source_hidden": true
    },
    "scrolled": true
   },
   "source": [
    "# First, let's create a boolean mask for rows where all three columns are not null\n",
    "valid_rows_mask = donations_df[['Participant Contact ID', 'Event ID']].notna().all(axis=1)\n",
    "\n",
    "# We can now use this mask to perform the concatenation only on valid rows\n",
    "# Convert the columns to strings, concatenate them, and assign them to the new column\n",
    "donations_df.loc[valid_rows_mask, 'participantID'] = (\n",
    "    donations_df.loc[valid_rows_mask, 'Participant Contact ID'].astype(str) + '-' +\n",
    "    donations_df.loc[valid_rows_mask, 'Event ID'].astype(str) \n",
    ")\n",
    "\n",
    "# For rows where any of the three columns are null, we'll not create a 'PF_participantID', so it will be NaN\n",
    "donations_df['participantID'] = donations_df['participantID'].where(valid_rows_mask, None)\n",
    "\n",
    "# Display the DataFrame with the new 'participantID' column\n",
    "donations_df.head()"
   ]
  },
  {
   "cell_type": "raw",
   "id": "cabcf0bf-4128-4cff-8fc9-a9761a77a1fa",
   "metadata": {
    "scrolled": true
   },
   "source": [
    "# check\n",
    "# Filter for rows where 'Event ID' is null\n",
    "na_event_id_rows = donations_df[donations_df['Participant Contact ID'].isna()]\n",
    "na_event_id_rows"
   ]
  },
  {
   "cell_type": "raw",
   "id": "da498699-5b89-4552-af9d-bfb14be45d2f",
   "metadata": {},
   "source": [
    "# Replace None with np.nan in the 'participant_ID' column\n",
    "donations_df['participantID'] = donations_df['participantID'].replace({None: np.nan})"
   ]
  },
  {
   "cell_type": "code",
   "execution_count": 346,
   "id": "9b778071-56c5-49e3-b4cb-5fabe1d59807",
   "metadata": {},
   "outputs": [],
   "source": [
    "# drop column\n",
    "#donations_df = donations_df.drop(columns=['participant_ID'])"
   ]
  },
  {
   "cell_type": "markdown",
   "id": "b8d9641e-da31-413d-94bc-9d19db6c43ed",
   "metadata": {},
   "source": [
    "# Drop unnecessary columns"
   ]
  },
  {
   "cell_type": "code",
   "execution_count": 99,
   "id": "c4471e72-42e8-4519-b2f0-3c275d8b7bee",
   "metadata": {},
   "outputs": [
    {
     "data": {
      "text/plain": [
       "Index(['Donor Gender', 'Donor County', 'Donor State', 'Donor Member ID',\n",
       "       'Donor City', 'Additional Gift Amount($)', 'Donor ConsID',\n",
       "       'Gift Amount($)', 'Date Recorded', 'Gift Type', 'Fiscal Year',\n",
       "       'Ledger Transaction Amount', 'Participant Contact ID'],\n",
       "      dtype='object')"
      ]
     },
     "execution_count": 99,
     "metadata": {},
     "output_type": "execute_result"
    }
   ],
   "source": [
    "columns_to_keep = ['Donor Gender', 'Donor County', 'Donor State', 'Donor Member ID', \n",
    "                   'Donor City', 'Additional Gift Amount($)', 'Donor ConsID', 'Gift Amount($)', \n",
    "                   'Date Recorded', 'Gift Type', 'Fiscal Year','Ledger Transaction Amount','Participant Contact ID',]\n",
    "\n",
    "donations_df = donations_df[columns_to_keep]\n",
    "donations_df.columns\n"
   ]
  },
  {
   "cell_type": "markdown",
   "id": "4f7d2a1c-70d5-4b26-bb3a-a048c06a7f53",
   "metadata": {},
   "source": [
    "# change name columns"
   ]
  },
  {
   "cell_type": "code",
   "execution_count": 100,
   "id": "c2529eaa-bbb0-44dd-aef4-23e9a101edae",
   "metadata": {
    "scrolled": true,
    "tags": []
   },
   "outputs": [
    {
     "data": {
      "text/html": [
       "<div>\n",
       "<style scoped>\n",
       "    .dataframe tbody tr th:only-of-type {\n",
       "        vertical-align: middle;\n",
       "    }\n",
       "\n",
       "    .dataframe tbody tr th {\n",
       "        vertical-align: top;\n",
       "    }\n",
       "\n",
       "    .dataframe thead th {\n",
       "        text-align: right;\n",
       "    }\n",
       "</style>\n",
       "<table border=\"1\" class=\"dataframe\">\n",
       "  <thead>\n",
       "    <tr style=\"text-align: right;\">\n",
       "      <th></th>\n",
       "      <th>d_gender</th>\n",
       "      <th>d_county</th>\n",
       "      <th>d_state</th>\n",
       "      <th>donationID</th>\n",
       "      <th>d_city</th>\n",
       "      <th>do_add_gift_amt</th>\n",
       "      <th>donorID</th>\n",
       "      <th>do_gift_amt</th>\n",
       "      <th>do_date_recorded</th>\n",
       "      <th>do_gift_type</th>\n",
       "      <th>do_fiscal_yr</th>\n",
       "      <th>do_amt_collected</th>\n",
       "      <th>p_contactID</th>\n",
       "    </tr>\n",
       "  </thead>\n",
       "  <tbody>\n",
       "    <tr>\n",
       "      <th>0</th>\n",
       "      <td>Female</td>\n",
       "      <td>Hinds</td>\n",
       "      <td>MS</td>\n",
       "      <td>63278064</td>\n",
       "      <td>Jackson</td>\n",
       "      <td>0.0</td>\n",
       "      <td>7828995</td>\n",
       "      <td>100.0</td>\n",
       "      <td>2012-09-14 17:34:00</td>\n",
       "      <td>Online</td>\n",
       "      <td>2013</td>\n",
       "      <td>100.0</td>\n",
       "      <td>7744894</td>\n",
       "    </tr>\n",
       "    <tr>\n",
       "      <th>1</th>\n",
       "      <td>Female</td>\n",
       "      <td>Jefferson</td>\n",
       "      <td>AL</td>\n",
       "      <td>80700130</td>\n",
       "      <td>Birmingham</td>\n",
       "      <td>0.0</td>\n",
       "      <td>11527263</td>\n",
       "      <td>50.0</td>\n",
       "      <td>2012-09-21 14:10:00</td>\n",
       "      <td>Online</td>\n",
       "      <td>2013</td>\n",
       "      <td>50.0</td>\n",
       "      <td>7744894</td>\n",
       "    </tr>\n",
       "    <tr>\n",
       "      <th>2</th>\n",
       "      <td>Female</td>\n",
       "      <td>Jefferson</td>\n",
       "      <td>AL</td>\n",
       "      <td>80700130</td>\n",
       "      <td>Birmingham</td>\n",
       "      <td>0.0</td>\n",
       "      <td>11527263</td>\n",
       "      <td>25.0</td>\n",
       "      <td>2012-09-21 10:43:00</td>\n",
       "      <td>Online</td>\n",
       "      <td>2013</td>\n",
       "      <td>25.0</td>\n",
       "      <td>7744894</td>\n",
       "    </tr>\n",
       "    <tr>\n",
       "      <th>3</th>\n",
       "      <td>Male</td>\n",
       "      <td>Denton</td>\n",
       "      <td>TX</td>\n",
       "      <td>75610532</td>\n",
       "      <td>Frisco</td>\n",
       "      <td>0.0</td>\n",
       "      <td>10244498</td>\n",
       "      <td>70.0</td>\n",
       "      <td>2012-10-02 15:58:00</td>\n",
       "      <td>Online</td>\n",
       "      <td>2013</td>\n",
       "      <td>70.0</td>\n",
       "      <td>10244498</td>\n",
       "    </tr>\n",
       "    <tr>\n",
       "      <th>4</th>\n",
       "      <td>Female</td>\n",
       "      <td>Hays</td>\n",
       "      <td>TX</td>\n",
       "      <td>80504435</td>\n",
       "      <td>Austin</td>\n",
       "      <td>0.0</td>\n",
       "      <td>11415664</td>\n",
       "      <td>25.0</td>\n",
       "      <td>2012-08-17 14:15:00</td>\n",
       "      <td>Online</td>\n",
       "      <td>2013</td>\n",
       "      <td>25.0</td>\n",
       "      <td>10244498</td>\n",
       "    </tr>\n",
       "    <tr>\n",
       "      <th>...</th>\n",
       "      <td>...</td>\n",
       "      <td>...</td>\n",
       "      <td>...</td>\n",
       "      <td>...</td>\n",
       "      <td>...</td>\n",
       "      <td>...</td>\n",
       "      <td>...</td>\n",
       "      <td>...</td>\n",
       "      <td>...</td>\n",
       "      <td>...</td>\n",
       "      <td>...</td>\n",
       "      <td>...</td>\n",
       "      <td>...</td>\n",
       "    </tr>\n",
       "    <tr>\n",
       "      <th>3807371</th>\n",
       "      <td>Female</td>\n",
       "      <td>Dane</td>\n",
       "      <td>WI</td>\n",
       "      <td>90557213</td>\n",
       "      <td>Fitchburg</td>\n",
       "      <td>100.0</td>\n",
       "      <td>15614806</td>\n",
       "      <td>100.0</td>\n",
       "      <td>2017-05-16 08:57:00</td>\n",
       "      <td>Online</td>\n",
       "      <td>2017</td>\n",
       "      <td>100.0</td>\n",
       "      <td>15614806</td>\n",
       "    </tr>\n",
       "    <tr>\n",
       "      <th>3807372</th>\n",
       "      <td>Female</td>\n",
       "      <td>Linn</td>\n",
       "      <td>IA</td>\n",
       "      <td>91018428</td>\n",
       "      <td>Marion</td>\n",
       "      <td>100.0</td>\n",
       "      <td>16085762</td>\n",
       "      <td>50.0</td>\n",
       "      <td>2017-05-18 16:49:00</td>\n",
       "      <td>Online</td>\n",
       "      <td>2017</td>\n",
       "      <td>50.0</td>\n",
       "      <td>15614806</td>\n",
       "    </tr>\n",
       "    <tr>\n",
       "      <th>3807373</th>\n",
       "      <td>Female</td>\n",
       "      <td>Dane</td>\n",
       "      <td>WI</td>\n",
       "      <td>91015103</td>\n",
       "      <td>Madison</td>\n",
       "      <td>100.0</td>\n",
       "      <td>16083016</td>\n",
       "      <td>35.0</td>\n",
       "      <td>2017-05-17 20:07:00</td>\n",
       "      <td>Online</td>\n",
       "      <td>2017</td>\n",
       "      <td>35.0</td>\n",
       "      <td>15614806</td>\n",
       "    </tr>\n",
       "    <tr>\n",
       "      <th>3807374</th>\n",
       "      <td>Unknown</td>\n",
       "      <td>Hennepin</td>\n",
       "      <td>MN</td>\n",
       "      <td>90967760</td>\n",
       "      <td>Minneapolis</td>\n",
       "      <td>0.0</td>\n",
       "      <td>16033523</td>\n",
       "      <td>50.0</td>\n",
       "      <td>2017-05-02 07:57:00</td>\n",
       "      <td>Online</td>\n",
       "      <td>2017</td>\n",
       "      <td>50.0</td>\n",
       "      <td>&lt;NA&gt;</td>\n",
       "    </tr>\n",
       "    <tr>\n",
       "      <th>3807375</th>\n",
       "      <td>Female</td>\n",
       "      <td>Waukesha</td>\n",
       "      <td>WI</td>\n",
       "      <td>91053627</td>\n",
       "      <td>Waukesha</td>\n",
       "      <td>0.0</td>\n",
       "      <td>16122821</td>\n",
       "      <td>35.0</td>\n",
       "      <td>2017-06-07 08:49:00</td>\n",
       "      <td>Online</td>\n",
       "      <td>2017</td>\n",
       "      <td>35.0</td>\n",
       "      <td>&lt;NA&gt;</td>\n",
       "    </tr>\n",
       "  </tbody>\n",
       "</table>\n",
       "<p>3807376 rows × 13 columns</p>\n",
       "</div>"
      ],
      "text/plain": [
       "        d_gender   d_county d_state  donationID       d_city  do_add_gift_amt  \\\n",
       "0         Female      Hinds      MS    63278064      Jackson              0.0   \n",
       "1         Female  Jefferson      AL    80700130   Birmingham              0.0   \n",
       "2         Female  Jefferson      AL    80700130   Birmingham              0.0   \n",
       "3           Male     Denton      TX    75610532       Frisco              0.0   \n",
       "4         Female       Hays      TX    80504435       Austin              0.0   \n",
       "...          ...        ...     ...         ...          ...              ...   \n",
       "3807371   Female       Dane      WI    90557213    Fitchburg            100.0   \n",
       "3807372   Female       Linn      IA    91018428       Marion            100.0   \n",
       "3807373   Female       Dane      WI    91015103      Madison            100.0   \n",
       "3807374  Unknown   Hennepin      MN    90967760  Minneapolis              0.0   \n",
       "3807375   Female   Waukesha      WI    91053627     Waukesha              0.0   \n",
       "\n",
       "          donorID  do_gift_amt    do_date_recorded do_gift_type  do_fiscal_yr  \\\n",
       "0         7828995        100.0 2012-09-14 17:34:00       Online          2013   \n",
       "1        11527263         50.0 2012-09-21 14:10:00       Online          2013   \n",
       "2        11527263         25.0 2012-09-21 10:43:00       Online          2013   \n",
       "3        10244498         70.0 2012-10-02 15:58:00       Online          2013   \n",
       "4        11415664         25.0 2012-08-17 14:15:00       Online          2013   \n",
       "...           ...          ...                 ...          ...           ...   \n",
       "3807371  15614806        100.0 2017-05-16 08:57:00       Online          2017   \n",
       "3807372  16085762         50.0 2017-05-18 16:49:00       Online          2017   \n",
       "3807373  16083016         35.0 2017-05-17 20:07:00       Online          2017   \n",
       "3807374  16033523         50.0 2017-05-02 07:57:00       Online          2017   \n",
       "3807375  16122821         35.0 2017-06-07 08:49:00       Online          2017   \n",
       "\n",
       "         do_amt_collected  p_contactID  \n",
       "0                   100.0      7744894  \n",
       "1                    50.0      7744894  \n",
       "2                    25.0      7744894  \n",
       "3                    70.0     10244498  \n",
       "4                    25.0     10244498  \n",
       "...                   ...          ...  \n",
       "3807371             100.0     15614806  \n",
       "3807372              50.0     15614806  \n",
       "3807373              35.0     15614806  \n",
       "3807374              50.0         <NA>  \n",
       "3807375              35.0         <NA>  \n",
       "\n",
       "[3807376 rows x 13 columns]"
      ]
     },
     "execution_count": 100,
     "metadata": {},
     "output_type": "execute_result"
    }
   ],
   "source": [
    "donations_df.rename(\n",
    "    columns={\"Donor Gender\": \"d_gender\", \"Donor County\": \"d_county\",\"Donor State\":\"d_state\",\"Donor Member ID\":\"donationID\",\"Donor City\":\"d_city\",\"Additional Gift Amount($)\":\"do_add_gift_amt\",\"Donor ConsID\":\"donorID\",\"Gift Amount($)\":\"do_gift_amt\",\"Date Recorded\":\"do_date_recorded\",\"Gift Type\":\"do_gift_type\",\"Fiscal Year\":\"do_fiscal_yr\",\"Ledger Transaction Amount\":\"do_amt_collected\",'Participant Contact ID':'p_contactID'},\n",
    "    inplace=True,\n",
    ")\n",
    "\n",
    "donations_df"
   ]
  },
  {
   "cell_type": "markdown",
   "id": "62b09481-bdbc-4bf3-8564-a9e8beb713e4",
   "metadata": {},
   "source": [
    "# Tables"
   ]
  },
  {
   "cell_type": "code",
   "execution_count": 101,
   "id": "9bcc4b5d-311d-45ac-a987-a2fe1345194e",
   "metadata": {
    "scrolled": true
   },
   "outputs": [
    {
     "data": {
      "text/plain": [
       "Index(['d_gender', 'd_county', 'd_state', 'donationID', 'd_city',\n",
       "       'do_add_gift_amt', 'donorID', 'do_gift_amt', 'do_date_recorded',\n",
       "       'do_gift_type', 'do_fiscal_yr', 'do_amt_collected', 'p_contactID'],\n",
       "      dtype='object')"
      ]
     },
     "execution_count": 101,
     "metadata": {},
     "output_type": "execute_result"
    }
   ],
   "source": [
    "donations_df.columns"
   ]
  },
  {
   "cell_type": "code",
   "execution_count": 102,
   "id": "2840ed0c-e12d-40b1-984d-322a5e9a55e3",
   "metadata": {},
   "outputs": [],
   "source": [
    "# donation\n",
    "donation = donations_df[['donorID','p_contactID','do_gift_amt','do_date_recorded','do_gift_type','do_add_gift_amt','do_amt_collected','do_fiscal_yr']].copy()\n",
    "#sector_industry.replace(\"Nan\", np.nan, inplace=True)\n",
    "\n",
    "donation.to_csv('C:/Users/SANTIAGO/OneDrive - Nova Scotia Community College/4 Winter Semester 2024/DBAS 3018 Data Movement and Integration/Assignment 2/Datasets/Table/donation.csv', index=False)"
   ]
  },
  {
   "cell_type": "code",
   "execution_count": 103,
   "id": "0bb9cd0a-7926-44e4-ab99-0f71101a11ff",
   "metadata": {},
   "outputs": [
    {
     "data": {
      "text/plain": [
       "donorID                      Int64\n",
       "p_contactID                  Int64\n",
       "do_gift_amt                float64\n",
       "do_date_recorded    datetime64[ns]\n",
       "do_gift_type                object\n",
       "do_add_gift_amt            float64\n",
       "do_amt_collected           float64\n",
       "do_fiscal_yr                 Int64\n",
       "dtype: object"
      ]
     },
     "execution_count": 103,
     "metadata": {},
     "output_type": "execute_result"
    }
   ],
   "source": [
    "donation.dtypes"
   ]
  },
  {
   "cell_type": "code",
   "execution_count": 104,
   "id": "9e665409-1db0-460f-9752-d74a7080395a",
   "metadata": {},
   "outputs": [],
   "source": [
    "# donor\n",
    "donor = donations_df[['donorID','d_gender','d_county','d_state','d_city']].copy()\n",
    "\n",
    "# Drop rows with duplicate 'donorID', keeping the first occurrence\n",
    "donor_cleaned = donor.drop_duplicates(subset='donorID', keep='first', inplace=True)\n",
    "\n",
    "# drop rows where donorID is null\n",
    "donor_cleaned = donor.loc[donations_df['donorID'].notnull()].copy()\n",
    "\n",
    "donor_cleaned.to_csv('C:/Users/SANTIAGO/OneDrive - Nova Scotia Community College/4 Winter Semester 2024/DBAS 3018 Data Movement and Integration/Assignment 2/Datasets/Table/donor.csv', index=False)"
   ]
  },
  {
   "cell_type": "code",
   "execution_count": 105,
   "id": "a27b8b8a-e99c-440a-a135-fe78e3af377b",
   "metadata": {},
   "outputs": [
    {
     "data": {
      "text/plain": [
       "1955809"
      ]
     },
     "execution_count": 105,
     "metadata": {},
     "output_type": "execute_result"
    }
   ],
   "source": [
    "donor_cleaned.shape[0]"
   ]
  },
  {
   "cell_type": "code",
   "execution_count": 217,
   "id": "955eaf5c-84b0-43a0-a402-353be390d909",
   "metadata": {},
   "outputs": [
    {
     "data": {
      "text/plain": [
       "1955809"
      ]
     },
     "execution_count": 217,
     "metadata": {},
     "output_type": "execute_result"
    }
   ],
   "source": [
    "num_distinct = donor_cleaned['donorID'].nunique()\n",
    "num_distinct"
   ]
  },
  {
   "cell_type": "code",
   "execution_count": 100,
   "id": "5d1f1b68-b81f-419a-b927-07b690f62219",
   "metadata": {},
   "outputs": [
    {
     "name": "stderr",
     "output_type": "stream",
     "text": [
      "C:\\Users\\SANTIAGO\\AppData\\Local\\Temp\\ipykernel_29044\\1073159863.py:1: UserWarning: Boolean Series key will be reindexed to match DataFrame index.\n",
      "  num_nulls = donor_cleaned[donations_df['donorID'].isnull()]\n"
     ]
    },
    {
     "data": {
      "text/html": [
       "<div>\n",
       "<style scoped>\n",
       "    .dataframe tbody tr th:only-of-type {\n",
       "        vertical-align: middle;\n",
       "    }\n",
       "\n",
       "    .dataframe tbody tr th {\n",
       "        vertical-align: top;\n",
       "    }\n",
       "\n",
       "    .dataframe thead th {\n",
       "        text-align: right;\n",
       "    }\n",
       "</style>\n",
       "<table border=\"1\" class=\"dataframe\">\n",
       "  <thead>\n",
       "    <tr style=\"text-align: right;\">\n",
       "      <th></th>\n",
       "      <th>donorID</th>\n",
       "      <th>d_gender</th>\n",
       "      <th>d_county</th>\n",
       "      <th>d_state</th>\n",
       "      <th>d_city</th>\n",
       "    </tr>\n",
       "  </thead>\n",
       "  <tbody>\n",
       "  </tbody>\n",
       "</table>\n",
       "</div>"
      ],
      "text/plain": [
       "Empty DataFrame\n",
       "Columns: [donorID, d_gender, d_county, d_state, d_city]\n",
       "Index: []"
      ]
     },
     "execution_count": 100,
     "metadata": {},
     "output_type": "execute_result"
    }
   ],
   "source": [
    "num_nulls = donor_cleaned[donations_df['donorID'].isnull()]\n",
    "num_nulls"
   ]
  },
  {
   "cell_type": "code",
   "execution_count": null,
   "id": "49c59847-3b43-414c-a513-67b522912f9a",
   "metadata": {},
   "outputs": [],
   "source": [
    "# any rows from sector_industry where the sector_id, sector, and industry columns are all null, leave all that contains only rows where at least one of these columns has a non-null value\n",
    "sector_industry = sector_industry.dropna(how='all')"
   ]
  }
 ],
 "metadata": {
  "kernelspec": {
   "display_name": "Python 3 (ipykernel)",
   "language": "python",
   "name": "python3"
  },
  "language_info": {
   "codemirror_mode": {
    "name": "ipython",
    "version": 3
   },
   "file_extension": ".py",
   "mimetype": "text/x-python",
   "name": "python",
   "nbconvert_exporter": "python",
   "pygments_lexer": "ipython3",
   "version": "3.11.2"
  }
 },
 "nbformat": 4,
 "nbformat_minor": 5
}
