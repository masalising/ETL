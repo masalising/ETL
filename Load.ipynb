{
 "cells": [
  {
   "cell_type": "code",
   "execution_count": 3,
   "id": "e1259336-5a9d-4921-b0b3-7248546e9a6b",
   "metadata": {
    "tags": []
   },
   "outputs": [],
   "source": [
    "import pandas as pd\n",
    "\n"
   ]
  },
  {
   "cell_type": "code",
   "execution_count": 308,
   "id": "f7d73258-b5e4-440b-8d94-d597514f838d",
   "metadata": {
    "tags": []
   },
   "outputs": [],
   "source": [
    "# Load the three datasets into dataframes\n",
    "donations = pd.read_csv('C:/Users/SANTIAGO/OneDrive - Nova Scotia Community College/4 Winter Semester 2024/DBAS 3018 Data Movement and Integration/Assignment 2/Datasets/Clean/2013-2017 Bike Donations_CLEAN.csv')\n",
    "events = pd.read_csv('C:/Users/SANTIAGO/OneDrive - Nova Scotia Community College/4 Winter Semester 2024/DBAS 3018 Data Movement and Integration/Assignment 2/Datasets/Clean/2013-2017 Bike Events_CLEAN.csv')\n",
    "participants = pd.read_csv('C:/Users/SANTIAGO/OneDrive - Nova Scotia Community College/4 Winter Semester 2024/DBAS 3018 Data Movement and Integration/Assignment 2/Datasets/Clean/2013-2017 Bike MS Participants_CLEAN.csv')"
   ]
  },
  {
   "cell_type": "markdown",
   "id": "1639b260-bdf2-4c68-b8e5-9d89db48f2e1",
   "metadata": {},
   "source": [
    "#Create tables"
   ]
  },
  {
   "cell_type": "code",
   "execution_count": 275,
   "id": "22d39c18-51af-4152-ad59-d2919c4ec6a3",
   "metadata": {
    "tags": []
   },
   "outputs": [
    {
     "data": {
      "text/plain": [
       "Index(['p_gender', 'p_state', 'p_city', 'p_goal_amt', 'contactID', 'teamID',\n",
       "       'eventID'],\n",
       "      dtype='object')"
      ]
     },
     "execution_count": 275,
     "metadata": {},
     "output_type": "execute_result"
    }
   ],
   "source": [
    "#Participant table\n",
    "participants.columns\n",
    "\n",
    "columns_to_drop_participants = ['t_name']\n",
    "participants_table = participants.drop(columns=columns_to_drop_participants)\n",
    "\n",
    "participants_table.columns"
   ]
  },
  {
   "cell_type": "code",
   "execution_count": 281,
   "id": "9b682011-c9ca-495d-8c05-d89ed8745dea",
   "metadata": {
    "tags": []
   },
   "outputs": [],
   "source": [
    "#drop donorID duplicates\n",
    "participants_table_clean = participants_table.drop_duplicates(subset='contactID')"
   ]
  },
  {
   "cell_type": "code",
   "execution_count": 283,
   "id": "d57221e5-ee14-49b4-8a86-bf3c141f84dd",
   "metadata": {
    "tags": []
   },
   "outputs": [
    {
     "data": {
      "text/plain": [
       "False"
      ]
     },
     "execution_count": 283,
     "metadata": {},
     "output_type": "execute_result"
    }
   ],
   "source": [
    "#check for duplicates\n",
    "duplicates_exist = participants_table_clean['contactID'].duplicated().any()\n",
    "duplicates_exist"
   ]
  },
  {
   "cell_type": "code",
   "execution_count": 285,
   "id": "0584c541-e80d-4a36-a7ab-6f15ea8b3b9a",
   "metadata": {
    "tags": []
   },
   "outputs": [],
   "source": [
    "# Drop rows where 'contactID' is null in 'participants_table' to create 'participants_table_clean'\n",
    "participants_table_clean = participants_table_clean.dropna(subset=['contactID'])"
   ]
  },
  {
   "cell_type": "code",
   "execution_count": 287,
   "id": "519e039f-8127-44e5-b4bb-f24b01ba525f",
   "metadata": {
    "tags": []
   },
   "outputs": [
    {
     "data": {
      "text/plain": [
       "0"
      ]
     },
     "execution_count": 287,
     "metadata": {},
     "output_type": "execute_result"
    }
   ],
   "source": [
    "null_donorID_count = participants_table_clean['contactID'].isnull().sum()\n",
    "null_donorID_count"
   ]
  },
  {
   "cell_type": "code",
   "execution_count": 289,
   "id": "b416bbff-2480-4d8f-bf28-e54eba9ef7d0",
   "metadata": {
    "tags": []
   },
   "outputs": [],
   "source": [
    "#Extract clean file\n",
    "participants_table_clean.to_csv('C:/Users/SANTIAGO/OneDrive - Nova Scotia Community College/4 Winter Semester 2024/DBAS 3018 Data Movement and Integration/Assignment 2/Datasets/Clean/participants_table.csv', index=False)"
   ]
  },
  {
   "cell_type": "code",
   "execution_count": 210,
   "id": "fba3dc6b-a56f-4036-81af-56158c92dbd1",
   "metadata": {
    "tags": []
   },
   "outputs": [
    {
     "name": "stdout",
     "output_type": "stream",
     "text": [
      "Index(['teamID', 't_name'], dtype='object')\n",
      "          teamID                        t_name\n",
      "2       451067.0                 Taylor's Team\n",
      "3       449427.0                Team Kate4Test\n",
      "9       452531.0  FSC - Team Test for the Best\n",
      "11      453915.0                        Mickey\n",
      "13      452531.0  FSC - Team Test for the Best\n",
      "...          ...                           ...\n",
      "448835  352278.0            The Flying Monkeys\n",
      "448836  395458.0              Don't MS With Us\n",
      "448837  351752.0                    Team Wendy\n",
      "448838  351768.0                 Kari's Cadets\n",
      "448839  352278.0            The Flying Monkeys\n",
      "\n",
      "[359620 rows x 2 columns]\n"
     ]
    }
   ],
   "source": [
    "#team\n",
    "\n",
    "# Drop specific columns from the 'participants' dataframe to create 'team_table'\n",
    "columns_to_drop_team = ['p_gender', 'p_state', 'p_city', 'p_goal_amt', 'contactID']\n",
    "team_table = participants.drop(columns=columns_to_drop_team)\n",
    "\n",
    "# Drop rows where 'teamID' is null in 'team_table' to create 'team_table_clean'\n",
    "team_table_clean = team_table.dropna(subset=['teamID'])\n",
    "\n",
    "# Check the columns of 'team_table_clean'\n",
    "print(team_table_clean.columns)\n",
    "\n",
    "# Print 'team_table_clean' to view the cleaned dataframe\n",
    "print(team_table_clean)"
   ]
  },
  {
   "cell_type": "code",
   "execution_count": 212,
   "id": "cb4166da-b418-4e56-a33f-bcc92c4f7a06",
   "metadata": {
    "tags": []
   },
   "outputs": [],
   "source": [
    "# Convert the 'teamID' column to integer and then to string\n",
    "\n",
    "# Modify the 'teamID' column\n",
    "team_table_clean.loc[:, 'teamID'] = team_table_clean['teamID'].astype(int).astype(str)"
   ]
  },
  {
   "cell_type": "code",
   "execution_count": 214,
   "id": "85eeee17-fbe9-4521-be5a-661b112b965e",
   "metadata": {
    "tags": []
   },
   "outputs": [
    {
     "data": {
      "text/html": [
       "<div>\n",
       "<style scoped>\n",
       "    .dataframe tbody tr th:only-of-type {\n",
       "        vertical-align: middle;\n",
       "    }\n",
       "\n",
       "    .dataframe tbody tr th {\n",
       "        vertical-align: top;\n",
       "    }\n",
       "\n",
       "    .dataframe thead th {\n",
       "        text-align: right;\n",
       "    }\n",
       "</style>\n",
       "<table border=\"1\" class=\"dataframe\">\n",
       "  <thead>\n",
       "    <tr style=\"text-align: right;\">\n",
       "      <th></th>\n",
       "      <th>teamID</th>\n",
       "      <th>t_name</th>\n",
       "    </tr>\n",
       "  </thead>\n",
       "  <tbody>\n",
       "    <tr>\n",
       "      <th>2</th>\n",
       "      <td>451067</td>\n",
       "      <td>Taylor's Team</td>\n",
       "    </tr>\n",
       "    <tr>\n",
       "      <th>3</th>\n",
       "      <td>449427</td>\n",
       "      <td>Team Kate4Test</td>\n",
       "    </tr>\n",
       "    <tr>\n",
       "      <th>9</th>\n",
       "      <td>452531</td>\n",
       "      <td>FSC - Team Test for the Best</td>\n",
       "    </tr>\n",
       "    <tr>\n",
       "      <th>11</th>\n",
       "      <td>453915</td>\n",
       "      <td>Mickey</td>\n",
       "    </tr>\n",
       "    <tr>\n",
       "      <th>13</th>\n",
       "      <td>452531</td>\n",
       "      <td>FSC - Team Test for the Best</td>\n",
       "    </tr>\n",
       "  </tbody>\n",
       "</table>\n",
       "</div>"
      ],
      "text/plain": [
       "    teamID                        t_name\n",
       "2   451067                 Taylor's Team\n",
       "3   449427                Team Kate4Test\n",
       "9   452531  FSC - Team Test for the Best\n",
       "11  453915                        Mickey\n",
       "13  452531  FSC - Team Test for the Best"
      ]
     },
     "execution_count": 214,
     "metadata": {},
     "output_type": "execute_result"
    }
   ],
   "source": [
    "team_table_clean.head()"
   ]
  },
  {
   "cell_type": "code",
   "execution_count": 220,
   "id": "970708b0-e7be-45b2-9af0-b797997ac305",
   "metadata": {
    "tags": []
   },
   "outputs": [],
   "source": [
    "#drop donorID duplicates\n",
    "team_table_clean = team_table_clean.drop_duplicates(subset='teamID')"
   ]
  },
  {
   "cell_type": "code",
   "execution_count": 222,
   "id": "304ff791-f621-4785-9184-69726bb2709e",
   "metadata": {
    "tags": []
   },
   "outputs": [
    {
     "data": {
      "text/plain": [
       "False"
      ]
     },
     "execution_count": 222,
     "metadata": {},
     "output_type": "execute_result"
    }
   ],
   "source": [
    "#check for duplicates\n",
    "duplicates_exist = team_table_clean['teamID'].duplicated().any()\n",
    "duplicates_exist"
   ]
  },
  {
   "cell_type": "code",
   "execution_count": 224,
   "id": "e77de4b0-c39c-4084-9a63-2c31576a60e0",
   "metadata": {
    "tags": []
   },
   "outputs": [],
   "source": [
    "#Extract clean file\n",
    "team_table_clean.to_csv('C:/Users/SANTIAGO/OneDrive - Nova Scotia Community College/4 Winter Semester 2024/DBAS 3018 Data Movement and Integration/Assignment 2/Datasets/Clean/team_table.csv', index=False)"
   ]
  },
  {
   "cell_type": "code",
   "execution_count": 320,
   "id": "53fd4247-edb4-45c8-b9a3-881bbfe26aca",
   "metadata": {
    "tags": []
   },
   "outputs": [
    {
     "data": {
      "text/plain": [
       "Index(['d_gender', 'd_county', 'd_state', 'donationID', 'd_city',\n",
       "       'do_add_gift_amt', 'donorID', 'do_gift_amt', 'do_date_recorded',\n",
       "       'do_gift_type', 'do_fiscal_yr', 'do_amt_collected', 'p_contactID'],\n",
       "      dtype='object')"
      ]
     },
     "execution_count": 320,
     "metadata": {},
     "output_type": "execute_result"
    }
   ],
   "source": [
    "#Donor\n",
    "\n",
    "donations.columns"
   ]
  },
  {
   "cell_type": "code",
   "execution_count": 332,
   "id": "6bdbbe09-cf09-4c54-a5f8-b67ab6192dd7",
   "metadata": {
    "tags": []
   },
   "outputs": [
    {
     "data": {
      "text/plain": [
       "0"
      ]
     },
     "execution_count": 332,
     "metadata": {},
     "output_type": "execute_result"
    }
   ],
   "source": [
    "columns_to_drop_donor = ['do_gift_amt','do_date_recorded','do_gift_type','do_fiscal_yr','do_amt_collected','do_add_gift_amt','donationID','p_contactID']\n",
    "donor_table = donations.drop(columns=columns_to_drop_donor)\n",
    "\n",
    "# Drop rows where 'teamID' is null in 'team_table' to create 'team_table_clean'\n",
    "donor_table_clean = donor_table.dropna(subset=['donorID'])\n",
    "\n",
    "donor_table_clean.columns\n",
    "\n",
    "null_donorID_count = donor_table_clean['donorID'].isnull().sum()\n",
    "null_donorID_count"
   ]
  },
  {
   "cell_type": "code",
   "execution_count": 334,
   "id": "fc9f91d7-b857-47ff-b6f4-22eeffac9d5e",
   "metadata": {
    "tags": []
   },
   "outputs": [
    {
     "data": {
      "text/html": [
       "<div>\n",
       "<style scoped>\n",
       "    .dataframe tbody tr th:only-of-type {\n",
       "        vertical-align: middle;\n",
       "    }\n",
       "\n",
       "    .dataframe tbody tr th {\n",
       "        vertical-align: top;\n",
       "    }\n",
       "\n",
       "    .dataframe thead th {\n",
       "        text-align: right;\n",
       "    }\n",
       "</style>\n",
       "<table border=\"1\" class=\"dataframe\">\n",
       "  <thead>\n",
       "    <tr style=\"text-align: right;\">\n",
       "      <th></th>\n",
       "      <th>d_gender</th>\n",
       "      <th>d_county</th>\n",
       "      <th>d_state</th>\n",
       "      <th>d_city</th>\n",
       "      <th>donorID</th>\n",
       "    </tr>\n",
       "  </thead>\n",
       "  <tbody>\n",
       "    <tr>\n",
       "      <th>0</th>\n",
       "      <td>Female</td>\n",
       "      <td>Hinds</td>\n",
       "      <td>MS</td>\n",
       "      <td>Jackson</td>\n",
       "      <td>7828995.0</td>\n",
       "    </tr>\n",
       "    <tr>\n",
       "      <th>1</th>\n",
       "      <td>Female</td>\n",
       "      <td>Jefferson</td>\n",
       "      <td>AL</td>\n",
       "      <td>Birmingham</td>\n",
       "      <td>11527263.0</td>\n",
       "    </tr>\n",
       "    <tr>\n",
       "      <th>2</th>\n",
       "      <td>Female</td>\n",
       "      <td>Jefferson</td>\n",
       "      <td>AL</td>\n",
       "      <td>Birmingham</td>\n",
       "      <td>11527263.0</td>\n",
       "    </tr>\n",
       "    <tr>\n",
       "      <th>3</th>\n",
       "      <td>Male</td>\n",
       "      <td>Denton</td>\n",
       "      <td>TX</td>\n",
       "      <td>Frisco</td>\n",
       "      <td>10244498.0</td>\n",
       "    </tr>\n",
       "    <tr>\n",
       "      <th>4</th>\n",
       "      <td>Female</td>\n",
       "      <td>Hays</td>\n",
       "      <td>TX</td>\n",
       "      <td>Austin</td>\n",
       "      <td>11415664.0</td>\n",
       "    </tr>\n",
       "  </tbody>\n",
       "</table>\n",
       "</div>"
      ],
      "text/plain": [
       "  d_gender   d_county d_state      d_city     donorID\n",
       "0   Female      Hinds      MS     Jackson   7828995.0\n",
       "1   Female  Jefferson      AL  Birmingham  11527263.0\n",
       "2   Female  Jefferson      AL  Birmingham  11527263.0\n",
       "3     Male     Denton      TX      Frisco  10244498.0\n",
       "4   Female       Hays      TX      Austin  11415664.0"
      ]
     },
     "execution_count": 334,
     "metadata": {},
     "output_type": "execute_result"
    }
   ],
   "source": [
    "donor_table_clean.head()"
   ]
  },
  {
   "cell_type": "code",
   "execution_count": 336,
   "id": "89632ff9-e20e-49d6-a6da-aaa131fa40e3",
   "metadata": {
    "tags": []
   },
   "outputs": [],
   "source": [
    "#drop donorID duplicates\n",
    "donor_table_clean = donor_table_clean.drop_duplicates(subset='donorID')"
   ]
  },
  {
   "cell_type": "code",
   "execution_count": 338,
   "id": "2a6936cb-5493-4190-b1f6-e866a70cd3e6",
   "metadata": {
    "tags": []
   },
   "outputs": [
    {
     "data": {
      "text/plain": [
       "False"
      ]
     },
     "execution_count": 338,
     "metadata": {},
     "output_type": "execute_result"
    }
   ],
   "source": [
    "#check for duplicates\n",
    "duplicates_exist = donor_table_clean['donorID'].duplicated().any()\n",
    "duplicates_exist\n"
   ]
  },
  {
   "cell_type": "code",
   "execution_count": 340,
   "id": "0c59166f-f9a5-408c-8927-54c9f5175ac0",
   "metadata": {
    "tags": []
   },
   "outputs": [
    {
     "data": {
      "text/html": [
       "<div>\n",
       "<style scoped>\n",
       "    .dataframe tbody tr th:only-of-type {\n",
       "        vertical-align: middle;\n",
       "    }\n",
       "\n",
       "    .dataframe tbody tr th {\n",
       "        vertical-align: top;\n",
       "    }\n",
       "\n",
       "    .dataframe thead th {\n",
       "        text-align: right;\n",
       "    }\n",
       "</style>\n",
       "<table border=\"1\" class=\"dataframe\">\n",
       "  <thead>\n",
       "    <tr style=\"text-align: right;\">\n",
       "      <th></th>\n",
       "      <th>d_gender</th>\n",
       "      <th>d_county</th>\n",
       "      <th>d_state</th>\n",
       "      <th>d_city</th>\n",
       "      <th>donorID</th>\n",
       "    </tr>\n",
       "  </thead>\n",
       "  <tbody>\n",
       "    <tr>\n",
       "      <th>0</th>\n",
       "      <td>Female</td>\n",
       "      <td>Hinds</td>\n",
       "      <td>MS</td>\n",
       "      <td>Jackson</td>\n",
       "      <td>7828995</td>\n",
       "    </tr>\n",
       "    <tr>\n",
       "      <th>1</th>\n",
       "      <td>Female</td>\n",
       "      <td>Jefferson</td>\n",
       "      <td>AL</td>\n",
       "      <td>Birmingham</td>\n",
       "      <td>11527263</td>\n",
       "    </tr>\n",
       "    <tr>\n",
       "      <th>3</th>\n",
       "      <td>Male</td>\n",
       "      <td>Denton</td>\n",
       "      <td>TX</td>\n",
       "      <td>Frisco</td>\n",
       "      <td>10244498</td>\n",
       "    </tr>\n",
       "    <tr>\n",
       "      <th>4</th>\n",
       "      <td>Female</td>\n",
       "      <td>Hays</td>\n",
       "      <td>TX</td>\n",
       "      <td>Austin</td>\n",
       "      <td>11415664</td>\n",
       "    </tr>\n",
       "    <tr>\n",
       "      <th>5</th>\n",
       "      <td>Male</td>\n",
       "      <td>Madison</td>\n",
       "      <td>MS</td>\n",
       "      <td>Madison</td>\n",
       "      <td>10548237</td>\n",
       "    </tr>\n",
       "  </tbody>\n",
       "</table>\n",
       "</div>"
      ],
      "text/plain": [
       "  d_gender   d_county d_state      d_city   donorID\n",
       "0   Female      Hinds      MS     Jackson   7828995\n",
       "1   Female  Jefferson      AL  Birmingham  11527263\n",
       "3     Male     Denton      TX      Frisco  10244498\n",
       "4   Female       Hays      TX      Austin  11415664\n",
       "5     Male    Madison      MS     Madison  10548237"
      ]
     },
     "execution_count": 340,
     "metadata": {},
     "output_type": "execute_result"
    }
   ],
   "source": [
    "donor_table_clean.loc[:, 'donorID'] = donor_table_clean['donorID'].astype(int).astype(str)\n",
    "donor_table_clean.head()"
   ]
  },
  {
   "cell_type": "code",
   "execution_count": 342,
   "id": "732cdc81-5164-45df-85e7-a796d879b3d5",
   "metadata": {
    "tags": []
   },
   "outputs": [],
   "source": [
    "#Extract clean file\n",
    "donor_table_clean.to_csv('C:/Users/SANTIAGO/OneDrive - Nova Scotia Community College/4 Winter Semester 2024/DBAS 3018 Data Movement and Integration/Assignment 2/Datasets/Clean/donor_table.csv', index=False)"
   ]
  },
  {
   "cell_type": "code",
   "execution_count": 312,
   "id": "b8d4fdfe-2c80-4e52-922a-8def37ce156e",
   "metadata": {
    "tags": []
   },
   "outputs": [
    {
     "data": {
      "text/plain": [
       "Index(['d_gender', 'd_county', 'd_state', 'donationID', 'd_city',\n",
       "       'do_add_gift_amt', 'donorID', 'do_gift_amt', 'do_date_recorded',\n",
       "       'do_gift_type', 'do_fiscal_yr', 'do_amt_collected', 'p_contactID'],\n",
       "      dtype='object')"
      ]
     },
     "execution_count": 312,
     "metadata": {},
     "output_type": "execute_result"
    }
   ],
   "source": [
    "#Donation\n",
    "donations.columns"
   ]
  },
  {
   "cell_type": "code",
   "execution_count": 314,
   "id": "21c027b2-ba60-489d-a681-5f484f9e8a40",
   "metadata": {
    "tags": []
   },
   "outputs": [
    {
     "data": {
      "text/html": [
       "<div>\n",
       "<style scoped>\n",
       "    .dataframe tbody tr th:only-of-type {\n",
       "        vertical-align: middle;\n",
       "    }\n",
       "\n",
       "    .dataframe tbody tr th {\n",
       "        vertical-align: top;\n",
       "    }\n",
       "\n",
       "    .dataframe thead th {\n",
       "        text-align: right;\n",
       "    }\n",
       "</style>\n",
       "<table border=\"1\" class=\"dataframe\">\n",
       "  <thead>\n",
       "    <tr style=\"text-align: right;\">\n",
       "      <th></th>\n",
       "      <th>do_add_gift_amt</th>\n",
       "      <th>donorID</th>\n",
       "      <th>do_gift_amt</th>\n",
       "      <th>do_date_recorded</th>\n",
       "      <th>do_gift_type</th>\n",
       "      <th>do_fiscal_yr</th>\n",
       "      <th>do_amt_collected</th>\n",
       "      <th>p_contactID</th>\n",
       "    </tr>\n",
       "  </thead>\n",
       "  <tbody>\n",
       "    <tr>\n",
       "      <th>0</th>\n",
       "      <td>0.0</td>\n",
       "      <td>7828995.0</td>\n",
       "      <td>100.0</td>\n",
       "      <td>2012-09-14 17:34:00</td>\n",
       "      <td>Online</td>\n",
       "      <td>2013</td>\n",
       "      <td>100.0</td>\n",
       "      <td>7744894.0</td>\n",
       "    </tr>\n",
       "    <tr>\n",
       "      <th>1</th>\n",
       "      <td>0.0</td>\n",
       "      <td>11527263.0</td>\n",
       "      <td>50.0</td>\n",
       "      <td>2012-09-21 14:10:00</td>\n",
       "      <td>Online</td>\n",
       "      <td>2013</td>\n",
       "      <td>50.0</td>\n",
       "      <td>7744894.0</td>\n",
       "    </tr>\n",
       "    <tr>\n",
       "      <th>2</th>\n",
       "      <td>0.0</td>\n",
       "      <td>11527263.0</td>\n",
       "      <td>25.0</td>\n",
       "      <td>2012-09-21 10:43:00</td>\n",
       "      <td>Online</td>\n",
       "      <td>2013</td>\n",
       "      <td>25.0</td>\n",
       "      <td>7744894.0</td>\n",
       "    </tr>\n",
       "    <tr>\n",
       "      <th>3</th>\n",
       "      <td>0.0</td>\n",
       "      <td>10244498.0</td>\n",
       "      <td>70.0</td>\n",
       "      <td>2012-10-02 15:58:00</td>\n",
       "      <td>Online</td>\n",
       "      <td>2013</td>\n",
       "      <td>70.0</td>\n",
       "      <td>10244498.0</td>\n",
       "    </tr>\n",
       "    <tr>\n",
       "      <th>4</th>\n",
       "      <td>0.0</td>\n",
       "      <td>11415664.0</td>\n",
       "      <td>25.0</td>\n",
       "      <td>2012-08-17 14:15:00</td>\n",
       "      <td>Online</td>\n",
       "      <td>2013</td>\n",
       "      <td>25.0</td>\n",
       "      <td>10244498.0</td>\n",
       "    </tr>\n",
       "    <tr>\n",
       "      <th>...</th>\n",
       "      <td>...</td>\n",
       "      <td>...</td>\n",
       "      <td>...</td>\n",
       "      <td>...</td>\n",
       "      <td>...</td>\n",
       "      <td>...</td>\n",
       "      <td>...</td>\n",
       "      <td>...</td>\n",
       "    </tr>\n",
       "    <tr>\n",
       "      <th>3807371</th>\n",
       "      <td>100.0</td>\n",
       "      <td>15614806.0</td>\n",
       "      <td>100.0</td>\n",
       "      <td>2017-05-16 08:57:00</td>\n",
       "      <td>Online</td>\n",
       "      <td>2017</td>\n",
       "      <td>100.0</td>\n",
       "      <td>15614806.0</td>\n",
       "    </tr>\n",
       "    <tr>\n",
       "      <th>3807372</th>\n",
       "      <td>100.0</td>\n",
       "      <td>16085762.0</td>\n",
       "      <td>50.0</td>\n",
       "      <td>2017-05-18 16:49:00</td>\n",
       "      <td>Online</td>\n",
       "      <td>2017</td>\n",
       "      <td>50.0</td>\n",
       "      <td>15614806.0</td>\n",
       "    </tr>\n",
       "    <tr>\n",
       "      <th>3807373</th>\n",
       "      <td>100.0</td>\n",
       "      <td>16083016.0</td>\n",
       "      <td>35.0</td>\n",
       "      <td>2017-05-17 20:07:00</td>\n",
       "      <td>Online</td>\n",
       "      <td>2017</td>\n",
       "      <td>35.0</td>\n",
       "      <td>15614806.0</td>\n",
       "    </tr>\n",
       "    <tr>\n",
       "      <th>3807374</th>\n",
       "      <td>0.0</td>\n",
       "      <td>16033523.0</td>\n",
       "      <td>50.0</td>\n",
       "      <td>2017-05-02 07:57:00</td>\n",
       "      <td>Online</td>\n",
       "      <td>2017</td>\n",
       "      <td>50.0</td>\n",
       "      <td>NaN</td>\n",
       "    </tr>\n",
       "    <tr>\n",
       "      <th>3807375</th>\n",
       "      <td>0.0</td>\n",
       "      <td>16122821.0</td>\n",
       "      <td>35.0</td>\n",
       "      <td>2017-06-07 08:49:00</td>\n",
       "      <td>Online</td>\n",
       "      <td>2017</td>\n",
       "      <td>35.0</td>\n",
       "      <td>NaN</td>\n",
       "    </tr>\n",
       "  </tbody>\n",
       "</table>\n",
       "<p>3807376 rows × 8 columns</p>\n",
       "</div>"
      ],
      "text/plain": [
       "         do_add_gift_amt     donorID  do_gift_amt     do_date_recorded  \\\n",
       "0                    0.0   7828995.0        100.0  2012-09-14 17:34:00   \n",
       "1                    0.0  11527263.0         50.0  2012-09-21 14:10:00   \n",
       "2                    0.0  11527263.0         25.0  2012-09-21 10:43:00   \n",
       "3                    0.0  10244498.0         70.0  2012-10-02 15:58:00   \n",
       "4                    0.0  11415664.0         25.0  2012-08-17 14:15:00   \n",
       "...                  ...         ...          ...                  ...   \n",
       "3807371            100.0  15614806.0        100.0  2017-05-16 08:57:00   \n",
       "3807372            100.0  16085762.0         50.0  2017-05-18 16:49:00   \n",
       "3807373            100.0  16083016.0         35.0  2017-05-17 20:07:00   \n",
       "3807374              0.0  16033523.0         50.0  2017-05-02 07:57:00   \n",
       "3807375              0.0  16122821.0         35.0  2017-06-07 08:49:00   \n",
       "\n",
       "        do_gift_type  do_fiscal_yr  do_amt_collected  p_contactID  \n",
       "0             Online          2013             100.0    7744894.0  \n",
       "1             Online          2013              50.0    7744894.0  \n",
       "2             Online          2013              25.0    7744894.0  \n",
       "3             Online          2013              70.0   10244498.0  \n",
       "4             Online          2013              25.0   10244498.0  \n",
       "...              ...           ...               ...          ...  \n",
       "3807371       Online          2017             100.0   15614806.0  \n",
       "3807372       Online          2017              50.0   15614806.0  \n",
       "3807373       Online          2017              35.0   15614806.0  \n",
       "3807374       Online          2017              50.0          NaN  \n",
       "3807375       Online          2017              35.0          NaN  \n",
       "\n",
       "[3807376 rows x 8 columns]"
      ]
     },
     "execution_count": 314,
     "metadata": {},
     "output_type": "execute_result"
    }
   ],
   "source": [
    "#Donation\n",
    "columns_to_drop_donation = ['d_gender','d_county','d_state','d_city','donationID']\n",
    "donation_table = donations.drop(columns=columns_to_drop_donation)\n",
    "\n",
    "donation_table.columns\n",
    "\n",
    "donation_table\n"
   ]
  },
  {
   "cell_type": "code",
   "execution_count": 316,
   "id": "b653eb06-5c2b-40c1-ae8a-1d74925acc5f",
   "metadata": {
    "tags": []
   },
   "outputs": [
    {
     "data": {
      "text/html": [
       "<div>\n",
       "<style scoped>\n",
       "    .dataframe tbody tr th:only-of-type {\n",
       "        vertical-align: middle;\n",
       "    }\n",
       "\n",
       "    .dataframe tbody tr th {\n",
       "        vertical-align: top;\n",
       "    }\n",
       "\n",
       "    .dataframe thead th {\n",
       "        text-align: right;\n",
       "    }\n",
       "</style>\n",
       "<table border=\"1\" class=\"dataframe\">\n",
       "  <thead>\n",
       "    <tr style=\"text-align: right;\">\n",
       "      <th></th>\n",
       "      <th>do_add_gift_amt</th>\n",
       "      <th>donorID</th>\n",
       "      <th>do_gift_amt</th>\n",
       "      <th>do_date_recorded</th>\n",
       "      <th>do_gift_type</th>\n",
       "      <th>do_fiscal_yr</th>\n",
       "      <th>do_amt_collected</th>\n",
       "      <th>p_contactID</th>\n",
       "    </tr>\n",
       "  </thead>\n",
       "  <tbody>\n",
       "    <tr>\n",
       "      <th>0</th>\n",
       "      <td>0.0</td>\n",
       "      <td>7828995</td>\n",
       "      <td>100.0</td>\n",
       "      <td>2012-09-14 17:34:00</td>\n",
       "      <td>Online</td>\n",
       "      <td>2013</td>\n",
       "      <td>100.0</td>\n",
       "      <td>7744894.0</td>\n",
       "    </tr>\n",
       "    <tr>\n",
       "      <th>1</th>\n",
       "      <td>0.0</td>\n",
       "      <td>11527263</td>\n",
       "      <td>50.0</td>\n",
       "      <td>2012-09-21 14:10:00</td>\n",
       "      <td>Online</td>\n",
       "      <td>2013</td>\n",
       "      <td>50.0</td>\n",
       "      <td>7744894.0</td>\n",
       "    </tr>\n",
       "    <tr>\n",
       "      <th>2</th>\n",
       "      <td>0.0</td>\n",
       "      <td>11527263</td>\n",
       "      <td>25.0</td>\n",
       "      <td>2012-09-21 10:43:00</td>\n",
       "      <td>Online</td>\n",
       "      <td>2013</td>\n",
       "      <td>25.0</td>\n",
       "      <td>7744894.0</td>\n",
       "    </tr>\n",
       "    <tr>\n",
       "      <th>3</th>\n",
       "      <td>0.0</td>\n",
       "      <td>10244498</td>\n",
       "      <td>70.0</td>\n",
       "      <td>2012-10-02 15:58:00</td>\n",
       "      <td>Online</td>\n",
       "      <td>2013</td>\n",
       "      <td>70.0</td>\n",
       "      <td>10244498.0</td>\n",
       "    </tr>\n",
       "    <tr>\n",
       "      <th>4</th>\n",
       "      <td>0.0</td>\n",
       "      <td>11415664</td>\n",
       "      <td>25.0</td>\n",
       "      <td>2012-08-17 14:15:00</td>\n",
       "      <td>Online</td>\n",
       "      <td>2013</td>\n",
       "      <td>25.0</td>\n",
       "      <td>10244498.0</td>\n",
       "    </tr>\n",
       "  </tbody>\n",
       "</table>\n",
       "</div>"
      ],
      "text/plain": [
       "   do_add_gift_amt   donorID  do_gift_amt     do_date_recorded do_gift_type  \\\n",
       "0              0.0   7828995        100.0  2012-09-14 17:34:00       Online   \n",
       "1              0.0  11527263         50.0  2012-09-21 14:10:00       Online   \n",
       "2              0.0  11527263         25.0  2012-09-21 10:43:00       Online   \n",
       "3              0.0  10244498         70.0  2012-10-02 15:58:00       Online   \n",
       "4              0.0  11415664         25.0  2012-08-17 14:15:00       Online   \n",
       "\n",
       "   do_fiscal_yr  do_amt_collected  p_contactID  \n",
       "0          2013             100.0    7744894.0  \n",
       "1          2013              50.0    7744894.0  \n",
       "2          2013              25.0    7744894.0  \n",
       "3          2013              70.0   10244498.0  \n",
       "4          2013              25.0   10244498.0  "
      ]
     },
     "execution_count": 316,
     "metadata": {},
     "output_type": "execute_result"
    }
   ],
   "source": [
    "# Convert the 'teamID' column to integer and then to string\n",
    "\n",
    "# Convert to string, handling NaN and inf values\n",
    "donation_table['donorID'] = donation_table['donorID'].apply(lambda x: str(int(x)) if pd.notna(x) else x)\n",
    "\n",
    "donation_table.head()"
   ]
  },
  {
   "cell_type": "code",
   "execution_count": 318,
   "id": "292a3450-fc1b-4517-8ac3-956c2398b31a",
   "metadata": {
    "tags": []
   },
   "outputs": [],
   "source": [
    "#Extract clean file\n",
    "donation_table.to_csv('C:/Users/SANTIAGO/OneDrive - Nova Scotia Community College/4 Winter Semester 2024/DBAS 3018 Data Movement and Integration/Assignment 2/Datasets/Clean/donation_table.csv', index=False)"
   ]
  },
  {
   "cell_type": "code",
   "execution_count": 194,
   "id": "a0343227-765f-483e-97dc-cc451dfc34af",
   "metadata": {
    "tags": []
   },
   "outputs": [
    {
     "data": {
      "text/html": [
       "<div>\n",
       "<style scoped>\n",
       "    .dataframe tbody tr th:only-of-type {\n",
       "        vertical-align: middle;\n",
       "    }\n",
       "\n",
       "    .dataframe tbody tr th {\n",
       "        vertical-align: top;\n",
       "    }\n",
       "\n",
       "    .dataframe thead th {\n",
       "        text-align: right;\n",
       "    }\n",
       "</style>\n",
       "<table border=\"1\" class=\"dataframe\">\n",
       "  <thead>\n",
       "    <tr style=\"text-align: right;\">\n",
       "      <th></th>\n",
       "      <th>e_city</th>\n",
       "      <th>e_state</th>\n",
       "      <th>e_date</th>\n",
       "      <th>eventID</th>\n",
       "      <th>e_goal_amt</th>\n",
       "    </tr>\n",
       "  </thead>\n",
       "  <tbody>\n",
       "    <tr>\n",
       "      <th>0</th>\n",
       "      <td>Unknown</td>\n",
       "      <td>Unknown</td>\n",
       "      <td>2016-09-01 08:42:00</td>\n",
       "      <td>27155</td>\n",
       "      <td>500.0</td>\n",
       "    </tr>\n",
       "    <tr>\n",
       "      <th>1</th>\n",
       "      <td>Fairbanks</td>\n",
       "      <td>AK</td>\n",
       "      <td>2016-03-19 14:39:00</td>\n",
       "      <td>27154</td>\n",
       "      <td>500000.0</td>\n",
       "    </tr>\n",
       "    <tr>\n",
       "      <th>2</th>\n",
       "      <td>Anchorage</td>\n",
       "      <td>AK</td>\n",
       "      <td>2016-09-01 13:02:00</td>\n",
       "      <td>26886</td>\n",
       "      <td>500.0</td>\n",
       "    </tr>\n",
       "    <tr>\n",
       "      <th>3</th>\n",
       "      <td>Unknown</td>\n",
       "      <td>Unknown</td>\n",
       "      <td>2016-12-31 23:39:00</td>\n",
       "      <td>27089</td>\n",
       "      <td>500.0</td>\n",
       "    </tr>\n",
       "    <tr>\n",
       "      <th>4</th>\n",
       "      <td>Unknown</td>\n",
       "      <td>AL</td>\n",
       "      <td>2015-01-01 12:16:00</td>\n",
       "      <td>26357</td>\n",
       "      <td>10000.0</td>\n",
       "    </tr>\n",
       "  </tbody>\n",
       "</table>\n",
       "</div>"
      ],
      "text/plain": [
       "      e_city  e_state               e_date  eventID  e_goal_amt\n",
       "0    Unknown  Unknown  2016-09-01 08:42:00    27155       500.0\n",
       "1  Fairbanks       AK  2016-03-19 14:39:00    27154    500000.0\n",
       "2  Anchorage       AK  2016-09-01 13:02:00    26886       500.0\n",
       "3    Unknown  Unknown  2016-12-31 23:39:00    27089       500.0\n",
       "4    Unknown       AL  2015-01-01 12:16:00    26357     10000.0"
      ]
     },
     "execution_count": 194,
     "metadata": {},
     "output_type": "execute_result"
    }
   ],
   "source": [
    "#Event\n",
    "events.head()\n"
   ]
  },
  {
   "cell_type": "code",
   "execution_count": 198,
   "id": "8adc65cd-2e88-44e0-8b1c-8b920b4f8e7f",
   "metadata": {
    "tags": []
   },
   "outputs": [
    {
     "data": {
      "text/html": [
       "<div>\n",
       "<style scoped>\n",
       "    .dataframe tbody tr th:only-of-type {\n",
       "        vertical-align: middle;\n",
       "    }\n",
       "\n",
       "    .dataframe tbody tr th {\n",
       "        vertical-align: top;\n",
       "    }\n",
       "\n",
       "    .dataframe thead th {\n",
       "        text-align: right;\n",
       "    }\n",
       "</style>\n",
       "<table border=\"1\" class=\"dataframe\">\n",
       "  <thead>\n",
       "    <tr style=\"text-align: right;\">\n",
       "      <th></th>\n",
       "      <th>e_city</th>\n",
       "      <th>e_state</th>\n",
       "      <th>e_date</th>\n",
       "      <th>eventID</th>\n",
       "      <th>e_goal_amt</th>\n",
       "    </tr>\n",
       "  </thead>\n",
       "  <tbody>\n",
       "    <tr>\n",
       "      <th>0</th>\n",
       "      <td>Unknown</td>\n",
       "      <td>Unknown</td>\n",
       "      <td>2016-09-01 08:42:00</td>\n",
       "      <td>27155</td>\n",
       "      <td>500.0</td>\n",
       "    </tr>\n",
       "    <tr>\n",
       "      <th>1</th>\n",
       "      <td>Fairbanks</td>\n",
       "      <td>AK</td>\n",
       "      <td>2016-03-19 14:39:00</td>\n",
       "      <td>27154</td>\n",
       "      <td>500000.0</td>\n",
       "    </tr>\n",
       "    <tr>\n",
       "      <th>2</th>\n",
       "      <td>Anchorage</td>\n",
       "      <td>AK</td>\n",
       "      <td>2016-09-01 13:02:00</td>\n",
       "      <td>26886</td>\n",
       "      <td>500.0</td>\n",
       "    </tr>\n",
       "    <tr>\n",
       "      <th>3</th>\n",
       "      <td>Unknown</td>\n",
       "      <td>Unknown</td>\n",
       "      <td>2016-12-31 23:39:00</td>\n",
       "      <td>27089</td>\n",
       "      <td>500.0</td>\n",
       "    </tr>\n",
       "    <tr>\n",
       "      <th>4</th>\n",
       "      <td>Unknown</td>\n",
       "      <td>AL</td>\n",
       "      <td>2015-01-01 12:16:00</td>\n",
       "      <td>26357</td>\n",
       "      <td>10000.0</td>\n",
       "    </tr>\n",
       "  </tbody>\n",
       "</table>\n",
       "</div>"
      ],
      "text/plain": [
       "      e_city  e_state               e_date  eventID  e_goal_amt\n",
       "0    Unknown  Unknown  2016-09-01 08:42:00    27155       500.0\n",
       "1  Fairbanks       AK  2016-03-19 14:39:00    27154    500000.0\n",
       "2  Anchorage       AK  2016-09-01 13:02:00    26886       500.0\n",
       "3    Unknown  Unknown  2016-12-31 23:39:00    27089       500.0\n",
       "4    Unknown       AL  2015-01-01 12:16:00    26357     10000.0"
      ]
     },
     "execution_count": 198,
     "metadata": {},
     "output_type": "execute_result"
    }
   ],
   "source": [
    "#drop eventID duplicates\n",
    "event_table_clean = events.drop_duplicates(subset='eventID')\n",
    "event_table_clean.head()"
   ]
  },
  {
   "cell_type": "code",
   "execution_count": 200,
   "id": "a2df36ae-0dd6-4f61-b982-6a782fd2c066",
   "metadata": {
    "tags": []
   },
   "outputs": [
    {
     "data": {
      "text/plain": [
       "False"
      ]
     },
     "execution_count": 200,
     "metadata": {},
     "output_type": "execute_result"
    }
   ],
   "source": [
    "#check for duplicates\n",
    "duplicates_exist = event_table_clean['eventID'].duplicated().any()\n",
    "duplicates_exist"
   ]
  },
  {
   "cell_type": "code",
   "execution_count": 202,
   "id": "a119504a-0037-4ce1-9b72-a3a5e7d0a378",
   "metadata": {
    "tags": []
   },
   "outputs": [],
   "source": [
    "#Extract clean file\n",
    "event_table_clean.to_csv('C:/Users/SANTIAGO/OneDrive - Nova Scotia Community College/4 Winter Semester 2024/DBAS 3018 Data Movement and Integration/Assignment 2/Datasets/Clean/event_table.csv', index=False)"
   ]
  }
 ],
 "metadata": {
  "kernelspec": {
   "display_name": "Python 3 (ipykernel)",
   "language": "python",
   "name": "python3"
  },
  "language_info": {
   "codemirror_mode": {
    "name": "ipython",
    "version": 3
   },
   "file_extension": ".py",
   "mimetype": "text/x-python",
   "name": "python",
   "nbconvert_exporter": "python",
   "pygments_lexer": "ipython3",
   "version": "3.11.5"
  }
 },
 "nbformat": 4,
 "nbformat_minor": 5
}
