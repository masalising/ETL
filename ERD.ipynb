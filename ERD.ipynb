{
 "cells": [
  {
   "cell_type": "code",
   "execution_count": 5,
   "id": "6b6ffeaf-6999-4e87-9038-923806e132c4",
   "metadata": {
    "tags": []
   },
   "outputs": [],
   "source": [
    "import pandas as pd"
   ]
  },
  {
   "cell_type": "code",
   "execution_count": 83,
   "id": "51f4ef52-753c-4d07-be03-1ef1b620f2da",
   "metadata": {
    "tags": []
   },
   "outputs": [],
   "source": [
    "# Load the tables\n",
    "donations = pd.read_csv('C:/Users/SANTIAGO/OneDrive - Nova Scotia Community College/4 Winter Semester 2024/DBAS 3018 Data Movement and Integration/Assignment 2/Datasets/Clean/donation_table.csv')\n",
    "donor = pd.read_csv('C:/Users/SANTIAGO/OneDrive - Nova Scotia Community College/4 Winter Semester 2024/DBAS 3018 Data Movement and Integration/Assignment 2/Datasets/Clean/donor_table.csv')\n",
    "events = pd.read_csv('C:/Users/SANTIAGO/OneDrive - Nova Scotia Community College/4 Winter Semester 2024/DBAS 3018 Data Movement and Integration/Assignment 2/Datasets/Clean/event_table.csv')\n",
    "participants = pd.read_csv('C:/Users/SANTIAGO/OneDrive - Nova Scotia Community College/4 Winter Semester 2024/DBAS 3018 Data Movement and Integration/Assignment 2/Datasets/Clean/participants_table.csv')\n",
    "team = pd.read_csv('C:/Users/SANTIAGO/OneDrive - Nova Scotia Community College/4 Winter Semester 2024/DBAS 3018 Data Movement and Integration/Assignment 2/Datasets/Clean/team_table.csv')\n"
   ]
  },
  {
   "cell_type": "code",
   "execution_count": 23,
   "id": "7811ed34-4328-4bf4-bad5-f9721678a1ef",
   "metadata": {
    "tags": []
   },
   "outputs": [
    {
     "data": {
      "text/plain": [
       "Index(['p_gender', 'p_state', 'p_city', 'p_goal_amt', 'contactID', 'teamID',\n",
       "       'eventID'],\n",
       "      dtype='object')"
      ]
     },
     "execution_count": 23,
     "metadata": {},
     "output_type": "execute_result"
    }
   ],
   "source": [
    "participants.columns"
   ]
  },
  {
   "cell_type": "code",
   "execution_count": 19,
   "id": "b508f6c0-18d1-437a-ae11-c8d13a8dc34a",
   "metadata": {
    "tags": []
   },
   "outputs": [
    {
     "data": {
      "text/plain": [
       "228577"
      ]
     },
     "execution_count": 19,
     "metadata": {},
     "output_type": "execute_result"
    }
   ],
   "source": [
    "\n",
    "rows = participants.shape[0]\n",
    "rows"
   ]
  },
  {
   "cell_type": "code",
   "execution_count": 13,
   "id": "0e368141-5572-420e-b232-216b5156f15a",
   "metadata": {
    "tags": []
   },
   "outputs": [
    {
     "data": {
      "text/plain": [
       "Index(['e_city', 'e_state', 'e_date', 'eventID', 'e_goal_amt'], dtype='object')"
      ]
     },
     "execution_count": 13,
     "metadata": {},
     "output_type": "execute_result"
    }
   ],
   "source": [
    "events.columns"
   ]
  },
  {
   "cell_type": "code",
   "execution_count": 15,
   "id": "0ab08cd7-ab78-4977-a0e0-d94e6681e71b",
   "metadata": {
    "tags": []
   },
   "outputs": [
    {
     "data": {
      "text/plain": [
       "<bound method NDFrame.head of        p_gender p_state           p_city  p_goal_amt  contactID  teamID  \\\n",
       "0        Female      CO           Arvada      1095.0   12314585       0   \n",
       "1        Female      KS          Shawnee      1095.0   15440936  451067   \n",
       "2        Female      PA       Pittsburgh      1095.0    5990607  449427   \n",
       "3          Male      KS           Lenexa      1095.0   14568407       0   \n",
       "4          Male      CO           Denver      1095.0   12770939       0   \n",
       "...         ...     ...              ...         ...        ...     ...   \n",
       "228388   Female      WI        Cambridge      1075.0   10458735  395458   \n",
       "228389   Female      WI        Milwaukee      1075.0   11165199  351752   \n",
       "228390   Female      MN        Rochester      1075.0    8564626  351768   \n",
       "228391     Male      VA     Newport News      1075.0   13525569  352278   \n",
       "228392     Male      WI  South Milwaukee       300.0    3019528       0   \n",
       "\n",
       "        eventID  \n",
       "0         26886  \n",
       "1         26886  \n",
       "2         26886  \n",
       "3         26886  \n",
       "4         26886  \n",
       "...         ...  \n",
       "228388    22517  \n",
       "228389    22517  \n",
       "228390    22517  \n",
       "228391    22517  \n",
       "228392    22517  \n",
       "\n",
       "[228393 rows x 7 columns]>"
      ]
     },
     "execution_count": 15,
     "metadata": {},
     "output_type": "execute_result"
    }
   ],
   "source": [
    "# This will keep only rows in 'participants' that have a matching 'eventID' in 'events'\n",
    "e_participants = participants.merge(events[['eventID']], on='eventID', how='inner')\n",
    "e_participants.head"
   ]
  },
  {
   "cell_type": "code",
   "execution_count": 21,
   "id": "7e926d79-2fc1-402e-8328-f25ad8a0153e",
   "metadata": {
    "tags": []
   },
   "outputs": [
    {
     "data": {
      "text/plain": [
       "228393"
      ]
     },
     "execution_count": 21,
     "metadata": {},
     "output_type": "execute_result"
    }
   ],
   "source": [
    "rows = e_participants.shape[0]\n",
    "rows"
   ]
  },
  {
   "cell_type": "code",
   "execution_count": 27,
   "id": "6ba593a6-a4a8-4505-af45-41730d2a242e",
   "metadata": {
    "tags": []
   },
   "outputs": [
    {
     "data": {
      "text/plain": [
       "228393"
      ]
     },
     "execution_count": 27,
     "metadata": {},
     "output_type": "execute_result"
    }
   ],
   "source": [
    "# This will keep only rows in 'participants' that have a matching 'teamID' in 'Team'\n",
    "e_t_participants = e_participants.merge(team[['teamID']], on='teamID', how='inner')\n",
    "rows = e_participants.shape[0]\n",
    "rows"
   ]
  },
  {
   "cell_type": "code",
   "execution_count": 30,
   "id": "3ca24dcc-ca69-42ba-8680-1d303fff9c50",
   "metadata": {
    "tags": []
   },
   "outputs": [],
   "source": [
    "#Extract clean file\n",
    "e_t_participants.to_csv('C:/Users/SANTIAGO/OneDrive - Nova Scotia Community College/4 Winter Semester 2024/DBAS 3018 Data Movement and Integration/Assignment 2/Datasets/Clean/e_t_participants_table.csv', index=False)"
   ]
  },
  {
   "cell_type": "code",
   "execution_count": 85,
   "id": "a143e7fa-e662-4d12-88ee-aedd13891f74",
   "metadata": {
    "tags": []
   },
   "outputs": [
    {
     "data": {
      "text/plain": [
       "Index(['do_add_gift_amt', 'donorID', 'do_gift_amt', 'do_date_recorded',\n",
       "       'do_gift_type', 'do_fiscal_yr', 'do_amt_collected', 'p_contactID'],\n",
       "      dtype='object')"
      ]
     },
     "execution_count": 85,
     "metadata": {},
     "output_type": "execute_result"
    }
   ],
   "source": [
    "#donations\n",
    "donations.columns"
   ]
  },
  {
   "cell_type": "code",
   "execution_count": 87,
   "id": "ad6c15f7-7f8c-4f79-9e6d-f3224d1d2deb",
   "metadata": {
    "tags": []
   },
   "outputs": [
    {
     "data": {
      "text/plain": [
       "3807376"
      ]
     },
     "execution_count": 87,
     "metadata": {},
     "output_type": "execute_result"
    }
   ],
   "source": [
    "donations.shape[0]"
   ]
  },
  {
   "cell_type": "code",
   "execution_count": 101,
   "id": "6a1da850-77ab-44f8-8f94-224ee60ae69d",
   "metadata": {
    "tags": []
   },
   "outputs": [
    {
     "data": {
      "text/html": [
       "<div>\n",
       "<style scoped>\n",
       "    .dataframe tbody tr th:only-of-type {\n",
       "        vertical-align: middle;\n",
       "    }\n",
       "\n",
       "    .dataframe tbody tr th {\n",
       "        vertical-align: top;\n",
       "    }\n",
       "\n",
       "    .dataframe thead th {\n",
       "        text-align: right;\n",
       "    }\n",
       "</style>\n",
       "<table border=\"1\" class=\"dataframe\">\n",
       "  <thead>\n",
       "    <tr style=\"text-align: right;\">\n",
       "      <th></th>\n",
       "      <th>do_add_gift_amt</th>\n",
       "      <th>donorID</th>\n",
       "      <th>do_gift_amt</th>\n",
       "      <th>do_date_recorded</th>\n",
       "      <th>do_gift_type</th>\n",
       "      <th>do_fiscal_yr</th>\n",
       "      <th>do_amt_collected</th>\n",
       "      <th>p_contactID</th>\n",
       "    </tr>\n",
       "  </thead>\n",
       "  <tbody>\n",
       "    <tr>\n",
       "      <th>0</th>\n",
       "      <td>0.0</td>\n",
       "      <td>7828995</td>\n",
       "      <td>100.0</td>\n",
       "      <td>2012-09-14 17:34:00</td>\n",
       "      <td>Online</td>\n",
       "      <td>2013</td>\n",
       "      <td>100.0</td>\n",
       "      <td>7744894</td>\n",
       "    </tr>\n",
       "    <tr>\n",
       "      <th>1</th>\n",
       "      <td>0.0</td>\n",
       "      <td>11527263</td>\n",
       "      <td>50.0</td>\n",
       "      <td>2012-09-21 14:10:00</td>\n",
       "      <td>Online</td>\n",
       "      <td>2013</td>\n",
       "      <td>50.0</td>\n",
       "      <td>7744894</td>\n",
       "    </tr>\n",
       "    <tr>\n",
       "      <th>2</th>\n",
       "      <td>0.0</td>\n",
       "      <td>11527263</td>\n",
       "      <td>25.0</td>\n",
       "      <td>2012-09-21 10:43:00</td>\n",
       "      <td>Online</td>\n",
       "      <td>2013</td>\n",
       "      <td>25.0</td>\n",
       "      <td>7744894</td>\n",
       "    </tr>\n",
       "    <tr>\n",
       "      <th>3</th>\n",
       "      <td>0.0</td>\n",
       "      <td>10244498</td>\n",
       "      <td>70.0</td>\n",
       "      <td>2012-10-02 15:58:00</td>\n",
       "      <td>Online</td>\n",
       "      <td>2013</td>\n",
       "      <td>70.0</td>\n",
       "      <td>10244498</td>\n",
       "    </tr>\n",
       "    <tr>\n",
       "      <th>4</th>\n",
       "      <td>0.0</td>\n",
       "      <td>11415664</td>\n",
       "      <td>25.0</td>\n",
       "      <td>2012-08-17 14:15:00</td>\n",
       "      <td>Online</td>\n",
       "      <td>2013</td>\n",
       "      <td>25.0</td>\n",
       "      <td>10244498</td>\n",
       "    </tr>\n",
       "  </tbody>\n",
       "</table>\n",
       "</div>"
      ],
      "text/plain": [
       "   do_add_gift_amt   donorID  do_gift_amt     do_date_recorded do_gift_type  \\\n",
       "0              0.0   7828995        100.0  2012-09-14 17:34:00       Online   \n",
       "1              0.0  11527263         50.0  2012-09-21 14:10:00       Online   \n",
       "2              0.0  11527263         25.0  2012-09-21 10:43:00       Online   \n",
       "3              0.0  10244498         70.0  2012-10-02 15:58:00       Online   \n",
       "4              0.0  11415664         25.0  2012-08-17 14:15:00       Online   \n",
       "\n",
       "   do_fiscal_yr  do_amt_collected p_contactID  \n",
       "0          2013             100.0     7744894  \n",
       "1          2013              50.0     7744894  \n",
       "2          2013              25.0     7744894  \n",
       "3          2013              70.0    10244498  \n",
       "4          2013              25.0    10244498  "
      ]
     },
     "execution_count": 101,
     "metadata": {},
     "output_type": "execute_result"
    }
   ],
   "source": [
    "donations.head()"
   ]
  },
  {
   "cell_type": "code",
   "execution_count": 95,
   "id": "be852754-e38c-42c2-93be-03996dfc930b",
   "metadata": {
    "tags": []
   },
   "outputs": [],
   "source": [
    "donations['donorID'] = donations['donorID'].apply(lambda x: str(int(x)) if pd.notna(x) else x)"
   ]
  },
  {
   "cell_type": "code",
   "execution_count": 99,
   "id": "ce7137c7-62b7-4675-b89f-114bc5dc8a71",
   "metadata": {
    "tags": []
   },
   "outputs": [],
   "source": [
    "donations['p_contactID'] = donations['p_contactID'].apply(lambda x: str(int(x)) if pd.notna(x) else x)"
   ]
  },
  {
   "cell_type": "code",
   "execution_count": 103,
   "id": "de6f5aff-15a1-46bd-8850-3fee9a114fda",
   "metadata": {
    "tags": []
   },
   "outputs": [
    {
     "data": {
      "text/html": [
       "<div>\n",
       "<style scoped>\n",
       "    .dataframe tbody tr th:only-of-type {\n",
       "        vertical-align: middle;\n",
       "    }\n",
       "\n",
       "    .dataframe tbody tr th {\n",
       "        vertical-align: top;\n",
       "    }\n",
       "\n",
       "    .dataframe thead th {\n",
       "        text-align: right;\n",
       "    }\n",
       "</style>\n",
       "<table border=\"1\" class=\"dataframe\">\n",
       "  <thead>\n",
       "    <tr style=\"text-align: right;\">\n",
       "      <th></th>\n",
       "      <th>d_gender</th>\n",
       "      <th>d_county</th>\n",
       "      <th>d_state</th>\n",
       "      <th>d_city</th>\n",
       "      <th>donorID</th>\n",
       "    </tr>\n",
       "  </thead>\n",
       "  <tbody>\n",
       "    <tr>\n",
       "      <th>0</th>\n",
       "      <td>Female</td>\n",
       "      <td>Hinds</td>\n",
       "      <td>MS</td>\n",
       "      <td>Jackson</td>\n",
       "      <td>7828995</td>\n",
       "    </tr>\n",
       "    <tr>\n",
       "      <th>1</th>\n",
       "      <td>Female</td>\n",
       "      <td>Jefferson</td>\n",
       "      <td>AL</td>\n",
       "      <td>Birmingham</td>\n",
       "      <td>11527263</td>\n",
       "    </tr>\n",
       "    <tr>\n",
       "      <th>2</th>\n",
       "      <td>Male</td>\n",
       "      <td>Denton</td>\n",
       "      <td>TX</td>\n",
       "      <td>Frisco</td>\n",
       "      <td>10244498</td>\n",
       "    </tr>\n",
       "    <tr>\n",
       "      <th>3</th>\n",
       "      <td>Female</td>\n",
       "      <td>Hays</td>\n",
       "      <td>TX</td>\n",
       "      <td>Austin</td>\n",
       "      <td>11415664</td>\n",
       "    </tr>\n",
       "    <tr>\n",
       "      <th>4</th>\n",
       "      <td>Male</td>\n",
       "      <td>Madison</td>\n",
       "      <td>MS</td>\n",
       "      <td>Madison</td>\n",
       "      <td>10548237</td>\n",
       "    </tr>\n",
       "  </tbody>\n",
       "</table>\n",
       "</div>"
      ],
      "text/plain": [
       "  d_gender   d_county d_state      d_city   donorID\n",
       "0   Female      Hinds      MS     Jackson   7828995\n",
       "1   Female  Jefferson      AL  Birmingham  11527263\n",
       "2     Male     Denton      TX      Frisco  10244498\n",
       "3   Female       Hays      TX      Austin  11415664\n",
       "4     Male    Madison      MS     Madison  10548237"
      ]
     },
     "execution_count": 103,
     "metadata": {},
     "output_type": "execute_result"
    }
   ],
   "source": [
    "donor.head()"
   ]
  },
  {
   "cell_type": "code",
   "execution_count": 107,
   "id": "e32a4e90-5ff9-43a3-b997-452655cdb072",
   "metadata": {
    "tags": []
   },
   "outputs": [
    {
     "data": {
      "text/plain": [
       "d_gender    0\n",
       "d_county    0\n",
       "d_state     0\n",
       "d_city      0\n",
       "donorID     0\n",
       "dtype: int64"
      ]
     },
     "execution_count": 107,
     "metadata": {},
     "output_type": "execute_result"
    }
   ],
   "source": [
    "null = donor.isna().sum()\n",
    "null"
   ]
  },
  {
   "cell_type": "code",
   "execution_count": 109,
   "id": "65a396e0-adb3-4def-a350-442560b6878c",
   "metadata": {
    "tags": []
   },
   "outputs": [
    {
     "data": {
      "text/plain": [
       "3807375"
      ]
     },
     "execution_count": 109,
     "metadata": {},
     "output_type": "execute_result"
    }
   ],
   "source": [
    "#join donor\n",
    "# Convert 'donorID' in both DataFrames to string\n",
    "donations['donorID'] = donations['donorID'].astype(str)\n",
    "donor['donorID'] = donor['donorID'].astype(str)\n",
    "\n",
    "# Perform the merge\n",
    "d_donations = donations.merge(donor[['donorID']], on='donorID', how='inner')\n",
    "d_donations.shape[0]"
   ]
  },
  {
   "cell_type": "code",
   "execution_count": 111,
   "id": "5466b162-37a1-48ea-b399-78ee9a4b624d",
   "metadata": {
    "tags": []
   },
   "outputs": [
    {
     "data": {
      "text/html": [
       "<div>\n",
       "<style scoped>\n",
       "    .dataframe tbody tr th:only-of-type {\n",
       "        vertical-align: middle;\n",
       "    }\n",
       "\n",
       "    .dataframe tbody tr th {\n",
       "        vertical-align: top;\n",
       "    }\n",
       "\n",
       "    .dataframe thead th {\n",
       "        text-align: right;\n",
       "    }\n",
       "</style>\n",
       "<table border=\"1\" class=\"dataframe\">\n",
       "  <thead>\n",
       "    <tr style=\"text-align: right;\">\n",
       "      <th></th>\n",
       "      <th>p_gender</th>\n",
       "      <th>p_state</th>\n",
       "      <th>p_city</th>\n",
       "      <th>p_goal_amt</th>\n",
       "      <th>contactID</th>\n",
       "      <th>teamID</th>\n",
       "      <th>eventID</th>\n",
       "    </tr>\n",
       "  </thead>\n",
       "  <tbody>\n",
       "    <tr>\n",
       "      <th>0</th>\n",
       "      <td>Male</td>\n",
       "      <td>CO</td>\n",
       "      <td>Denver</td>\n",
       "      <td>1095.0</td>\n",
       "      <td>12495541</td>\n",
       "      <td>0</td>\n",
       "      <td>26846</td>\n",
       "    </tr>\n",
       "    <tr>\n",
       "      <th>1</th>\n",
       "      <td>Female</td>\n",
       "      <td>CO</td>\n",
       "      <td>Arvada</td>\n",
       "      <td>1095.0</td>\n",
       "      <td>12314585</td>\n",
       "      <td>0</td>\n",
       "      <td>26886</td>\n",
       "    </tr>\n",
       "    <tr>\n",
       "      <th>2</th>\n",
       "      <td>Female</td>\n",
       "      <td>KS</td>\n",
       "      <td>Shawnee</td>\n",
       "      <td>1095.0</td>\n",
       "      <td>15440936</td>\n",
       "      <td>451067</td>\n",
       "      <td>26886</td>\n",
       "    </tr>\n",
       "    <tr>\n",
       "      <th>3</th>\n",
       "      <td>Female</td>\n",
       "      <td>PA</td>\n",
       "      <td>Pittsburgh</td>\n",
       "      <td>1095.0</td>\n",
       "      <td>5990607</td>\n",
       "      <td>449427</td>\n",
       "      <td>26886</td>\n",
       "    </tr>\n",
       "    <tr>\n",
       "      <th>4</th>\n",
       "      <td>Male</td>\n",
       "      <td>KS</td>\n",
       "      <td>Lenexa</td>\n",
       "      <td>1095.0</td>\n",
       "      <td>14568407</td>\n",
       "      <td>0</td>\n",
       "      <td>26886</td>\n",
       "    </tr>\n",
       "  </tbody>\n",
       "</table>\n",
       "</div>"
      ],
      "text/plain": [
       "  p_gender p_state      p_city  p_goal_amt  contactID  teamID  eventID\n",
       "0     Male      CO      Denver      1095.0   12495541       0    26846\n",
       "1   Female      CO      Arvada      1095.0   12314585       0    26886\n",
       "2   Female      KS     Shawnee      1095.0   15440936  451067    26886\n",
       "3   Female      PA  Pittsburgh      1095.0    5990607  449427    26886\n",
       "4     Male      KS      Lenexa      1095.0   14568407       0    26886"
      ]
     },
     "execution_count": 111,
     "metadata": {},
     "output_type": "execute_result"
    }
   ],
   "source": [
    "#join participant\n",
    "participants.head()"
   ]
  },
  {
   "cell_type": "code",
   "execution_count": 115,
   "id": "8e25b69b-db1f-4dbf-89c7-ba2bcfec2fcf",
   "metadata": {
    "tags": []
   },
   "outputs": [
    {
     "data": {
      "text/plain": [
       "3758489"
      ]
     },
     "execution_count": 115,
     "metadata": {},
     "output_type": "execute_result"
    }
   ],
   "source": [
    "# This will keep only rows in 'donation' that have a matching 'p_contactID' in 'participants'\n",
    "\n",
    "donations['p_contactID'] = donations['p_contactID'].astype(str)\n",
    "participants['contactID'] = participants['contactID'].astype(str)\n",
    "\n",
    "d_p_donations = d_donations.merge(participants[['contactID']], left_on='p_contactID', right_on='contactID', how='inner')\n",
    "d_p_donations.shape[0]"
   ]
  },
  {
   "cell_type": "code",
   "execution_count": 117,
   "id": "3dc5385e-165b-4171-8133-3ab0c037d01a",
   "metadata": {
    "tags": []
   },
   "outputs": [],
   "source": [
    "#extract\n",
    "d_p_donations.to_csv('C:/Users/SANTIAGO/OneDrive - Nova Scotia Community College/4 Winter Semester 2024/DBAS 3018 Data Movement and Integration/Assignment 2/Datasets/Clean/d_p_donations.csv', index=False)"
   ]
  },
  {
   "cell_type": "code",
   "execution_count": null,
   "id": "e8c27857-b402-4275-bd48-053eede6071c",
   "metadata": {},
   "outputs": [],
   "source": []
  }
 ],
 "metadata": {
  "kernelspec": {
   "display_name": "Python 3 (ipykernel)",
   "language": "python",
   "name": "python3"
  },
  "language_info": {
   "codemirror_mode": {
    "name": "ipython",
    "version": 3
   },
   "file_extension": ".py",
   "mimetype": "text/x-python",
   "name": "python",
   "nbconvert_exporter": "python",
   "pygments_lexer": "ipython3",
   "version": "3.11.5"
  }
 },
 "nbformat": 4,
 "nbformat_minor": 5
}
